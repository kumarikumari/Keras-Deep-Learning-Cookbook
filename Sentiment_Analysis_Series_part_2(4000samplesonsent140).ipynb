{
  "nbformat": 4,
  "nbformat_minor": 0,
  "metadata": {
    "colab": {
      "name": " Sentiment Analysis Series part-2(4000samplesonsent140).ipynb",
      "provenance": [],
      "collapsed_sections": [],
      "include_colab_link": true
    },
    "kernelspec": {
      "name": "python3",
      "display_name": "Python 3"
    },
    "accelerator": "GPU",
    "widgets": {
      "application/vnd.jupyter.widget-state+json": {
        "f4ed8a4c39544c61bfb858d3ef7e819d": {
          "model_module": "@jupyter-widgets/controls",
          "model_name": "HBoxModel",
          "state": {
            "_view_name": "HBoxView",
            "_dom_classes": [],
            "_model_name": "HBoxModel",
            "_view_module": "@jupyter-widgets/controls",
            "_model_module_version": "1.5.0",
            "_view_count": null,
            "_view_module_version": "1.5.0",
            "box_style": "",
            "layout": "IPY_MODEL_d2a2280d589f460ea33b26e57cfc4eca",
            "_model_module": "@jupyter-widgets/controls",
            "children": [
              "IPY_MODEL_e05a2a44ccea41a4ba53da73a9088c84",
              "IPY_MODEL_f61568d4f2d34339b62014c5fb0e5ae8"
            ]
          }
        },
        "d2a2280d589f460ea33b26e57cfc4eca": {
          "model_module": "@jupyter-widgets/base",
          "model_name": "LayoutModel",
          "state": {
            "_view_name": "LayoutView",
            "grid_template_rows": null,
            "right": null,
            "justify_content": null,
            "_view_module": "@jupyter-widgets/base",
            "overflow": null,
            "_model_module_version": "1.2.0",
            "_view_count": null,
            "flex_flow": null,
            "width": null,
            "min_width": null,
            "border": null,
            "align_items": null,
            "bottom": null,
            "_model_module": "@jupyter-widgets/base",
            "top": null,
            "grid_column": null,
            "overflow_y": null,
            "overflow_x": null,
            "grid_auto_flow": null,
            "grid_area": null,
            "grid_template_columns": null,
            "flex": null,
            "_model_name": "LayoutModel",
            "justify_items": null,
            "grid_row": null,
            "max_height": null,
            "align_content": null,
            "visibility": null,
            "align_self": null,
            "height": null,
            "min_height": null,
            "padding": null,
            "grid_auto_rows": null,
            "grid_gap": null,
            "max_width": null,
            "order": null,
            "_view_module_version": "1.2.0",
            "grid_template_areas": null,
            "object_position": null,
            "object_fit": null,
            "grid_auto_columns": null,
            "margin": null,
            "display": null,
            "left": null
          }
        },
        "e05a2a44ccea41a4ba53da73a9088c84": {
          "model_module": "@jupyter-widgets/controls",
          "model_name": "FloatProgressModel",
          "state": {
            "_view_name": "ProgressView",
            "style": "IPY_MODEL_f55078ce73ae4f4994c13640bddea3c2",
            "_dom_classes": [],
            "description": "Downloading: 100%",
            "_model_name": "FloatProgressModel",
            "bar_style": "success",
            "max": 760,
            "_view_module": "@jupyter-widgets/controls",
            "_model_module_version": "1.5.0",
            "value": 760,
            "_view_count": null,
            "_view_module_version": "1.5.0",
            "orientation": "horizontal",
            "min": 0,
            "description_tooltip": null,
            "_model_module": "@jupyter-widgets/controls",
            "layout": "IPY_MODEL_928dc7e4bec84e2d9d9ba0f2527df5a1"
          }
        },
        "f61568d4f2d34339b62014c5fb0e5ae8": {
          "model_module": "@jupyter-widgets/controls",
          "model_name": "HTMLModel",
          "state": {
            "_view_name": "HTMLView",
            "style": "IPY_MODEL_afc9d1878137456192918fb2ea4fb2ba",
            "_dom_classes": [],
            "description": "",
            "_model_name": "HTMLModel",
            "placeholder": "​",
            "_view_module": "@jupyter-widgets/controls",
            "_model_module_version": "1.5.0",
            "value": " 760/760 [02:44&lt;00:00, 4.62B/s]",
            "_view_count": null,
            "_view_module_version": "1.5.0",
            "description_tooltip": null,
            "_model_module": "@jupyter-widgets/controls",
            "layout": "IPY_MODEL_0cf24e1c0d134213957771bd247e86eb"
          }
        },
        "f55078ce73ae4f4994c13640bddea3c2": {
          "model_module": "@jupyter-widgets/controls",
          "model_name": "ProgressStyleModel",
          "state": {
            "_view_name": "StyleView",
            "_model_name": "ProgressStyleModel",
            "description_width": "initial",
            "_view_module": "@jupyter-widgets/base",
            "_model_module_version": "1.5.0",
            "_view_count": null,
            "_view_module_version": "1.2.0",
            "bar_color": null,
            "_model_module": "@jupyter-widgets/controls"
          }
        },
        "928dc7e4bec84e2d9d9ba0f2527df5a1": {
          "model_module": "@jupyter-widgets/base",
          "model_name": "LayoutModel",
          "state": {
            "_view_name": "LayoutView",
            "grid_template_rows": null,
            "right": null,
            "justify_content": null,
            "_view_module": "@jupyter-widgets/base",
            "overflow": null,
            "_model_module_version": "1.2.0",
            "_view_count": null,
            "flex_flow": null,
            "width": null,
            "min_width": null,
            "border": null,
            "align_items": null,
            "bottom": null,
            "_model_module": "@jupyter-widgets/base",
            "top": null,
            "grid_column": null,
            "overflow_y": null,
            "overflow_x": null,
            "grid_auto_flow": null,
            "grid_area": null,
            "grid_template_columns": null,
            "flex": null,
            "_model_name": "LayoutModel",
            "justify_items": null,
            "grid_row": null,
            "max_height": null,
            "align_content": null,
            "visibility": null,
            "align_self": null,
            "height": null,
            "min_height": null,
            "padding": null,
            "grid_auto_rows": null,
            "grid_gap": null,
            "max_width": null,
            "order": null,
            "_view_module_version": "1.2.0",
            "grid_template_areas": null,
            "object_position": null,
            "object_fit": null,
            "grid_auto_columns": null,
            "margin": null,
            "display": null,
            "left": null
          }
        },
        "afc9d1878137456192918fb2ea4fb2ba": {
          "model_module": "@jupyter-widgets/controls",
          "model_name": "DescriptionStyleModel",
          "state": {
            "_view_name": "StyleView",
            "_model_name": "DescriptionStyleModel",
            "description_width": "",
            "_view_module": "@jupyter-widgets/base",
            "_model_module_version": "1.5.0",
            "_view_count": null,
            "_view_module_version": "1.2.0",
            "_model_module": "@jupyter-widgets/controls"
          }
        },
        "0cf24e1c0d134213957771bd247e86eb": {
          "model_module": "@jupyter-widgets/base",
          "model_name": "LayoutModel",
          "state": {
            "_view_name": "LayoutView",
            "grid_template_rows": null,
            "right": null,
            "justify_content": null,
            "_view_module": "@jupyter-widgets/base",
            "overflow": null,
            "_model_module_version": "1.2.0",
            "_view_count": null,
            "flex_flow": null,
            "width": null,
            "min_width": null,
            "border": null,
            "align_items": null,
            "bottom": null,
            "_model_module": "@jupyter-widgets/base",
            "top": null,
            "grid_column": null,
            "overflow_y": null,
            "overflow_x": null,
            "grid_auto_flow": null,
            "grid_area": null,
            "grid_template_columns": null,
            "flex": null,
            "_model_name": "LayoutModel",
            "justify_items": null,
            "grid_row": null,
            "max_height": null,
            "align_content": null,
            "visibility": null,
            "align_self": null,
            "height": null,
            "min_height": null,
            "padding": null,
            "grid_auto_rows": null,
            "grid_gap": null,
            "max_width": null,
            "order": null,
            "_view_module_version": "1.2.0",
            "grid_template_areas": null,
            "object_position": null,
            "object_fit": null,
            "grid_auto_columns": null,
            "margin": null,
            "display": null,
            "left": null
          }
        },
        "8b51547925df45aeb0596831dc4de356": {
          "model_module": "@jupyter-widgets/controls",
          "model_name": "HBoxModel",
          "state": {
            "_view_name": "HBoxView",
            "_dom_classes": [],
            "_model_name": "HBoxModel",
            "_view_module": "@jupyter-widgets/controls",
            "_model_module_version": "1.5.0",
            "_view_count": null,
            "_view_module_version": "1.5.0",
            "box_style": "",
            "layout": "IPY_MODEL_a41d6416e75c4603af1066aa02e6caa4",
            "_model_module": "@jupyter-widgets/controls",
            "children": [
              "IPY_MODEL_c9293413bfe840d18c7b0f2f98049bde",
              "IPY_MODEL_ee9fd46bee404640b78b8a73bb71f50d"
            ]
          }
        },
        "a41d6416e75c4603af1066aa02e6caa4": {
          "model_module": "@jupyter-widgets/base",
          "model_name": "LayoutModel",
          "state": {
            "_view_name": "LayoutView",
            "grid_template_rows": null,
            "right": null,
            "justify_content": null,
            "_view_module": "@jupyter-widgets/base",
            "overflow": null,
            "_model_module_version": "1.2.0",
            "_view_count": null,
            "flex_flow": null,
            "width": null,
            "min_width": null,
            "border": null,
            "align_items": null,
            "bottom": null,
            "_model_module": "@jupyter-widgets/base",
            "top": null,
            "grid_column": null,
            "overflow_y": null,
            "overflow_x": null,
            "grid_auto_flow": null,
            "grid_area": null,
            "grid_template_columns": null,
            "flex": null,
            "_model_name": "LayoutModel",
            "justify_items": null,
            "grid_row": null,
            "max_height": null,
            "align_content": null,
            "visibility": null,
            "align_self": null,
            "height": null,
            "min_height": null,
            "padding": null,
            "grid_auto_rows": null,
            "grid_gap": null,
            "max_width": null,
            "order": null,
            "_view_module_version": "1.2.0",
            "grid_template_areas": null,
            "object_position": null,
            "object_fit": null,
            "grid_auto_columns": null,
            "margin": null,
            "display": null,
            "left": null
          }
        },
        "c9293413bfe840d18c7b0f2f98049bde": {
          "model_module": "@jupyter-widgets/controls",
          "model_name": "FloatProgressModel",
          "state": {
            "_view_name": "ProgressView",
            "style": "IPY_MODEL_b34362c8f09242729942b6be48f54f27",
            "_dom_classes": [],
            "description": "Downloading: 100%",
            "_model_name": "FloatProgressModel",
            "bar_style": "success",
            "max": 467042463,
            "_view_module": "@jupyter-widgets/controls",
            "_model_module_version": "1.5.0",
            "value": 467042463,
            "_view_count": null,
            "_view_module_version": "1.5.0",
            "orientation": "horizontal",
            "min": 0,
            "description_tooltip": null,
            "_model_module": "@jupyter-widgets/controls",
            "layout": "IPY_MODEL_b866e2bac2334f819945cfddbc6b6a32"
          }
        },
        "ee9fd46bee404640b78b8a73bb71f50d": {
          "model_module": "@jupyter-widgets/controls",
          "model_name": "HTMLModel",
          "state": {
            "_view_name": "HTMLView",
            "style": "IPY_MODEL_0bcd0c198b134d278cf1012e5d454adf",
            "_dom_classes": [],
            "description": "",
            "_model_name": "HTMLModel",
            "placeholder": "​",
            "_view_module": "@jupyter-widgets/controls",
            "_model_module_version": "1.5.0",
            "value": " 467M/467M [00:06&lt;00:00, 76.4MB/s]",
            "_view_count": null,
            "_view_module_version": "1.5.0",
            "description_tooltip": null,
            "_model_module": "@jupyter-widgets/controls",
            "layout": "IPY_MODEL_b131669ba7174813b16f12b3b86e0caa"
          }
        },
        "b34362c8f09242729942b6be48f54f27": {
          "model_module": "@jupyter-widgets/controls",
          "model_name": "ProgressStyleModel",
          "state": {
            "_view_name": "StyleView",
            "_model_name": "ProgressStyleModel",
            "description_width": "initial",
            "_view_module": "@jupyter-widgets/base",
            "_model_module_version": "1.5.0",
            "_view_count": null,
            "_view_module_version": "1.2.0",
            "bar_color": null,
            "_model_module": "@jupyter-widgets/controls"
          }
        },
        "b866e2bac2334f819945cfddbc6b6a32": {
          "model_module": "@jupyter-widgets/base",
          "model_name": "LayoutModel",
          "state": {
            "_view_name": "LayoutView",
            "grid_template_rows": null,
            "right": null,
            "justify_content": null,
            "_view_module": "@jupyter-widgets/base",
            "overflow": null,
            "_model_module_version": "1.2.0",
            "_view_count": null,
            "flex_flow": null,
            "width": null,
            "min_width": null,
            "border": null,
            "align_items": null,
            "bottom": null,
            "_model_module": "@jupyter-widgets/base",
            "top": null,
            "grid_column": null,
            "overflow_y": null,
            "overflow_x": null,
            "grid_auto_flow": null,
            "grid_area": null,
            "grid_template_columns": null,
            "flex": null,
            "_model_name": "LayoutModel",
            "justify_items": null,
            "grid_row": null,
            "max_height": null,
            "align_content": null,
            "visibility": null,
            "align_self": null,
            "height": null,
            "min_height": null,
            "padding": null,
            "grid_auto_rows": null,
            "grid_gap": null,
            "max_width": null,
            "order": null,
            "_view_module_version": "1.2.0",
            "grid_template_areas": null,
            "object_position": null,
            "object_fit": null,
            "grid_auto_columns": null,
            "margin": null,
            "display": null,
            "left": null
          }
        },
        "0bcd0c198b134d278cf1012e5d454adf": {
          "model_module": "@jupyter-widgets/controls",
          "model_name": "DescriptionStyleModel",
          "state": {
            "_view_name": "StyleView",
            "_model_name": "DescriptionStyleModel",
            "description_width": "",
            "_view_module": "@jupyter-widgets/base",
            "_model_module_version": "1.5.0",
            "_view_count": null,
            "_view_module_version": "1.2.0",
            "_model_module": "@jupyter-widgets/controls"
          }
        },
        "b131669ba7174813b16f12b3b86e0caa": {
          "model_module": "@jupyter-widgets/base",
          "model_name": "LayoutModel",
          "state": {
            "_view_name": "LayoutView",
            "grid_template_rows": null,
            "right": null,
            "justify_content": null,
            "_view_module": "@jupyter-widgets/base",
            "overflow": null,
            "_model_module_version": "1.2.0",
            "_view_count": null,
            "flex_flow": null,
            "width": null,
            "min_width": null,
            "border": null,
            "align_items": null,
            "bottom": null,
            "_model_module": "@jupyter-widgets/base",
            "top": null,
            "grid_column": null,
            "overflow_y": null,
            "overflow_x": null,
            "grid_auto_flow": null,
            "grid_area": null,
            "grid_template_columns": null,
            "flex": null,
            "_model_name": "LayoutModel",
            "justify_items": null,
            "grid_row": null,
            "max_height": null,
            "align_content": null,
            "visibility": null,
            "align_self": null,
            "height": null,
            "min_height": null,
            "padding": null,
            "grid_auto_rows": null,
            "grid_gap": null,
            "max_width": null,
            "order": null,
            "_view_module_version": "1.2.0",
            "grid_template_areas": null,
            "object_position": null,
            "object_fit": null,
            "grid_auto_columns": null,
            "margin": null,
            "display": null,
            "left": null
          }
        }
      }
    }
  },
  "cells": [
    {
      "cell_type": "markdown",
      "metadata": {
        "id": "view-in-github",
        "colab_type": "text"
      },
      "source": [
        "<a href=\"https://colab.research.google.com/github/kumarikumari/Keras-Deep-Learning-Cookbook/blob/master/Sentiment_Analysis_Series_part_2(4000samplesonsent140).ipynb\" target=\"_parent\"><img src=\"https://colab.research.google.com/assets/colab-badge.svg\" alt=\"Open In Colab\"/></a>"
      ]
    },
    {
      "cell_type": "code",
      "metadata": {
        "id": "txqNzM1xIPIR",
        "colab": {
          "base_uri": "https://localhost:8080/"
        },
        "outputId": "c9cf6a2f-797f-4272-9900-495b5b0b1b41"
      },
      "source": [
        "from google.colab import drive\n",
        "drive.mount('/content/drive')"
      ],
      "execution_count": 1,
      "outputs": [
        {
          "output_type": "stream",
          "text": [
            "Mounted at /content/drive\n"
          ],
          "name": "stdout"
        }
      ]
    },
    {
      "cell_type": "code",
      "metadata": {
        "id": "3m6sGbnGeXHk",
        "colab": {
          "base_uri": "https://localhost:8080/"
        },
        "outputId": "a9289335-04a8-40ff-93cb-eafefa599499"
      },
      "source": [
        "!nvidia-smi"
      ],
      "execution_count": 2,
      "outputs": [
        {
          "output_type": "stream",
          "text": [
            "Sun Nov 29 12:52:55 2020       \n",
            "+-----------------------------------------------------------------------------+\n",
            "| NVIDIA-SMI 455.38       Driver Version: 418.67       CUDA Version: 10.1     |\n",
            "|-------------------------------+----------------------+----------------------+\n",
            "| GPU  Name        Persistence-M| Bus-Id        Disp.A | Volatile Uncorr. ECC |\n",
            "| Fan  Temp  Perf  Pwr:Usage/Cap|         Memory-Usage | GPU-Util  Compute M. |\n",
            "|                               |                      |               MIG M. |\n",
            "|===============================+======================+======================|\n",
            "|   0  Tesla P100-PCIE...  Off  | 00000000:00:04.0 Off |                    0 |\n",
            "| N/A   35C    P0    26W / 250W |      0MiB / 16280MiB |      0%      Default |\n",
            "|                               |                      |                 ERR! |\n",
            "+-------------------------------+----------------------+----------------------+\n",
            "                                                                               \n",
            "+-----------------------------------------------------------------------------+\n",
            "| Processes:                                                                  |\n",
            "|  GPU   GI   CI        PID   Type   Process name                  GPU Memory |\n",
            "|        ID   ID                                                   Usage      |\n",
            "|=============================================================================|\n",
            "|  No running processes found                                                 |\n",
            "+-----------------------------------------------------------------------------+\n"
          ],
          "name": "stdout"
        }
      ]
    },
    {
      "cell_type": "code",
      "metadata": {
        "id": "HqQKcukJAicL",
        "colab": {
          "base_uri": "https://localhost:8080/"
        },
        "outputId": "1e062790-4e63-4041-cd23-b5a30c0015b8"
      },
      "source": [
        "!pip install transformers"
      ],
      "execution_count": 3,
      "outputs": [
        {
          "output_type": "stream",
          "text": [
            "Collecting transformers\n",
            "\u001b[?25l  Downloading https://files.pythonhosted.org/packages/3a/83/e74092e7f24a08d751aa59b37a9fc572b2e4af3918cb66f7766c3affb1b4/transformers-3.5.1-py3-none-any.whl (1.3MB)\n",
            "\u001b[K     |████████████████████████████████| 1.3MB 5.7MB/s \n",
            "\u001b[?25hCollecting sacremoses\n",
            "\u001b[?25l  Downloading https://files.pythonhosted.org/packages/7d/34/09d19aff26edcc8eb2a01bed8e98f13a1537005d31e95233fd48216eed10/sacremoses-0.0.43.tar.gz (883kB)\n",
            "\u001b[K     |████████████████████████████████| 890kB 31.9MB/s \n",
            "\u001b[?25hRequirement already satisfied: tqdm>=4.27 in /usr/local/lib/python3.6/dist-packages (from transformers) (4.41.1)\n",
            "Requirement already satisfied: filelock in /usr/local/lib/python3.6/dist-packages (from transformers) (3.0.12)\n",
            "Collecting sentencepiece==0.1.91\n",
            "\u001b[?25l  Downloading https://files.pythonhosted.org/packages/d4/a4/d0a884c4300004a78cca907a6ff9a5e9fe4f090f5d95ab341c53d28cbc58/sentencepiece-0.1.91-cp36-cp36m-manylinux1_x86_64.whl (1.1MB)\n",
            "\u001b[K     |████████████████████████████████| 1.1MB 41.5MB/s \n",
            "\u001b[?25hRequirement already satisfied: regex!=2019.12.17 in /usr/local/lib/python3.6/dist-packages (from transformers) (2019.12.20)\n",
            "Requirement already satisfied: protobuf in /usr/local/lib/python3.6/dist-packages (from transformers) (3.12.4)\n",
            "Requirement already satisfied: dataclasses; python_version < \"3.7\" in /usr/local/lib/python3.6/dist-packages (from transformers) (0.8)\n",
            "Requirement already satisfied: requests in /usr/local/lib/python3.6/dist-packages (from transformers) (2.23.0)\n",
            "Requirement already satisfied: packaging in /usr/local/lib/python3.6/dist-packages (from transformers) (20.4)\n",
            "Collecting tokenizers==0.9.3\n",
            "\u001b[?25l  Downloading https://files.pythonhosted.org/packages/4c/34/b39eb9994bc3c999270b69c9eea40ecc6f0e97991dba28282b9fd32d44ee/tokenizers-0.9.3-cp36-cp36m-manylinux1_x86_64.whl (2.9MB)\n",
            "\u001b[K     |████████████████████████████████| 2.9MB 41.9MB/s \n",
            "\u001b[?25hRequirement already satisfied: numpy in /usr/local/lib/python3.6/dist-packages (from transformers) (1.18.5)\n",
            "Requirement already satisfied: six in /usr/local/lib/python3.6/dist-packages (from sacremoses->transformers) (1.15.0)\n",
            "Requirement already satisfied: click in /usr/local/lib/python3.6/dist-packages (from sacremoses->transformers) (7.1.2)\n",
            "Requirement already satisfied: joblib in /usr/local/lib/python3.6/dist-packages (from sacremoses->transformers) (0.17.0)\n",
            "Requirement already satisfied: setuptools in /usr/local/lib/python3.6/dist-packages (from protobuf->transformers) (50.3.2)\n",
            "Requirement already satisfied: urllib3!=1.25.0,!=1.25.1,<1.26,>=1.21.1 in /usr/local/lib/python3.6/dist-packages (from requests->transformers) (1.24.3)\n",
            "Requirement already satisfied: chardet<4,>=3.0.2 in /usr/local/lib/python3.6/dist-packages (from requests->transformers) (3.0.4)\n",
            "Requirement already satisfied: idna<3,>=2.5 in /usr/local/lib/python3.6/dist-packages (from requests->transformers) (2.10)\n",
            "Requirement already satisfied: certifi>=2017.4.17 in /usr/local/lib/python3.6/dist-packages (from requests->transformers) (2020.11.8)\n",
            "Requirement already satisfied: pyparsing>=2.0.2 in /usr/local/lib/python3.6/dist-packages (from packaging->transformers) (2.4.7)\n",
            "Building wheels for collected packages: sacremoses\n",
            "  Building wheel for sacremoses (setup.py) ... \u001b[?25l\u001b[?25hdone\n",
            "  Created wheel for sacremoses: filename=sacremoses-0.0.43-cp36-none-any.whl size=893257 sha256=a84d6bd49d1aae35ee0f3ac00f763e4bf86a1002ae5cca91695fd548d037a4b3\n",
            "  Stored in directory: /root/.cache/pip/wheels/29/3c/fd/7ce5c3f0666dab31a50123635e6fb5e19ceb42ce38d4e58f45\n",
            "Successfully built sacremoses\n",
            "Installing collected packages: sacremoses, sentencepiece, tokenizers, transformers\n",
            "Successfully installed sacremoses-0.0.43 sentencepiece-0.1.91 tokenizers-0.9.3 transformers-3.5.1\n"
          ],
          "name": "stdout"
        }
      ]
    },
    {
      "cell_type": "code",
      "metadata": {
        "id": "U8FRjwBo15uT"
      },
      "source": [
        "!pip install -q -U watermark"
      ],
      "execution_count": 4,
      "outputs": []
    },
    {
      "cell_type": "code",
      "metadata": {
        "id": "3DNdmQhn2D43",
        "colab": {
          "base_uri": "https://localhost:8080/"
        },
        "outputId": "fea69362-23fa-43f5-a1d8-eddad043e82a"
      },
      "source": [
        "%reload_ext watermark\n",
        "%watermark -v -p numpy,pandas,torch,transformers"
      ],
      "execution_count": 5,
      "outputs": [
        {
          "output_type": "stream",
          "text": [
            "CPython 3.6.9\n",
            "IPython 5.5.0\n",
            "\n",
            "numpy 1.18.5\n",
            "pandas 1.1.4\n",
            "torch 1.7.0+cu101\n",
            "transformers 3.5.1\n"
          ],
          "name": "stdout"
        }
      ]
    },
    {
      "cell_type": "code",
      "metadata": {
        "id": "I43EIdEoyNJh",
        "colab": {
          "base_uri": "https://localhost:8080/"
        },
        "outputId": "d58096b2-f07f-4103-870d-60f221fc643d"
      },
      "source": [
        "!pip install sklearn\n",
        "import sklearn"
      ],
      "execution_count": 6,
      "outputs": [
        {
          "output_type": "stream",
          "text": [
            "Requirement already satisfied: sklearn in /usr/local/lib/python3.6/dist-packages (0.0)\n",
            "Requirement already satisfied: scikit-learn in /usr/local/lib/python3.6/dist-packages (from sklearn) (0.22.2.post1)\n",
            "Requirement already satisfied: scipy>=0.17.0 in /usr/local/lib/python3.6/dist-packages (from scikit-learn->sklearn) (1.4.1)\n",
            "Requirement already satisfied: joblib>=0.11 in /usr/local/lib/python3.6/dist-packages (from scikit-learn->sklearn) (0.17.0)\n",
            "Requirement already satisfied: numpy>=1.11.0 in /usr/local/lib/python3.6/dist-packages (from scikit-learn->sklearn) (1.18.5)\n"
          ],
          "name": "stdout"
        }
      ]
    },
    {
      "cell_type": "markdown",
      "metadata": {
        "id": "Mk0GnvUQIdxc"
      },
      "source": [
        "### Making the necessary imports"
      ]
    },
    {
      "cell_type": "code",
      "metadata": {
        "id": "dOpc8w_12D1f"
      },
      "source": [
        "import transformers\n",
        "from transformers import XLNetTokenizer, XLNetModel, AdamW, get_linear_schedule_with_warmup\n",
        "import torch\n",
        "\n",
        "import numpy as np\n",
        "import pandas as pd\n",
        "import seaborn as sns\n",
        "import matplotlib.pyplot as plt\n",
        "from matplotlib import rc\n",
        "from sklearn.model_selection import train_test_split\n",
        "from sklearn.metrics import confusion_matrix\n",
        "from sklearn.metrics import classification_report\n",
        "from sklearn.metrics import accuracy_score\n",
        "from collections import defaultdict\n",
        "from textwrap import wrap\n",
        "from pylab import rcParams\n",
        "\n",
        "from torch import nn, optim\n",
        "from keras.preprocessing.sequence import pad_sequences\n",
        "from torch.utils.data import TensorDataset,RandomSampler,SequentialSampler\n",
        "from torch.utils.data import Dataset, DataLoader\n",
        "import torch.nn.functional as F"
      ],
      "execution_count": 7,
      "outputs": []
    },
    {
      "cell_type": "code",
      "metadata": {
        "id": "qAICzZNo2Dyw",
        "colab": {
          "base_uri": "https://localhost:8080/"
        },
        "outputId": "774944bd-f4b3-405a-a177-d6644cc66858"
      },
      "source": [
        "%matplotlib inline\n",
        "%config InlineBackend.figure_format='retina'\n",
        "\n",
        "sns.set(style='whitegrid', palette='muted', font_scale=1.2)\n",
        "\n",
        "HAPPY_COLORS_PALETTE = [\"#01BEFE\", \"#FFDD00\", \"#FF7D00\", \"#FF006D\", \"#ADFF02\", \"#8F00FF\"]\n",
        "\n",
        "sns.set_palette(sns.color_palette(HAPPY_COLORS_PALETTE))\n",
        "\n",
        "rcParams['figure.figsize'] = 12, 8\n",
        "\n",
        "RANDOM_SEED = 42\n",
        "np.random.seed(RANDOM_SEED)\n",
        "torch.manual_seed(RANDOM_SEED)\n",
        "\n",
        "device = torch.device(\"cuda:0\" if torch.cuda.is_available() else \"cpu\")\n",
        "device"
      ],
      "execution_count": 8,
      "outputs": [
        {
          "output_type": "execute_result",
          "data": {
            "text/plain": [
              "device(type='cuda', index=0)"
            ]
          },
          "metadata": {
            "tags": []
          },
          "execution_count": 8
        }
      ]
    },
    {
      "cell_type": "markdown",
      "metadata": {
        "id": "gC-WS1hYIxkr"
      },
      "source": [
        "### Data Preprocessing"
      ]
    },
    {
      "cell_type": "code",
      "metadata": {
        "id": "Q9idUaM7y404",
        "colab": {
          "resources": {
            "http://localhost:8080/nbextensions/google.colab/files.js": {
              "data": "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",
              "ok": true,
              "headers": [
                [
                  "content-type",
                  "application/javascript"
                ]
              ],
              "status": 200,
              "status_text": ""
            }
          },
          "base_uri": "https://localhost:8080/",
          "height": 72
        },
        "outputId": "41f2ca1b-fe15-4694-e155-e509e201e38f"
      },
      "source": [
        "from google.colab import files\n",
        "files.upload()"
      ],
      "execution_count": 9,
      "outputs": [
        {
          "output_type": "display_data",
          "data": {
            "text/html": [
              "\n",
              "     <input type=\"file\" id=\"files-2d7e6a6c-12ec-44ac-bfda-cfa33de44152\" name=\"files[]\" multiple disabled\n",
              "        style=\"border:none\" />\n",
              "     <output id=\"result-2d7e6a6c-12ec-44ac-bfda-cfa33de44152\">\n",
              "      Upload widget is only available when the cell has been executed in the\n",
              "      current browser session. Please rerun this cell to enable.\n",
              "      </output>\n",
              "      <script src=\"/nbextensions/google.colab/files.js\"></script> "
            ],
            "text/plain": [
              "<IPython.core.display.HTML object>"
            ]
          },
          "metadata": {
            "tags": []
          }
        },
        {
          "output_type": "stream",
          "text": [
            "Saving sent140_preprocessed.csv to sent140_preprocessed.csv\n"
          ],
          "name": "stdout"
        }
      ]
    },
    {
      "cell_type": "code",
      "metadata": {
        "id": "jJ83RaRG2Dv8",
        "colab": {
          "base_uri": "https://localhost:8080/",
          "height": 204
        },
        "outputId": "f5a6b98c-d502-4fcf-e862-27cdbb177c97"
      },
      "source": [
        "df = pd.read_csv('sent140_preprocessed.csv')\n",
        "df.head()"
      ],
      "execution_count": 86,
      "outputs": [
        {
          "output_type": "execute_result",
          "data": {
            "text/html": [
              "<div>\n",
              "<style scoped>\n",
              "    .dataframe tbody tr th:only-of-type {\n",
              "        vertical-align: middle;\n",
              "    }\n",
              "\n",
              "    .dataframe tbody tr th {\n",
              "        vertical-align: top;\n",
              "    }\n",
              "\n",
              "    .dataframe thead th {\n",
              "        text-align: right;\n",
              "    }\n",
              "</style>\n",
              "<table border=\"1\" class=\"dataframe\">\n",
              "  <thead>\n",
              "    <tr style=\"text-align: right;\">\n",
              "      <th></th>\n",
              "      <th>text</th>\n",
              "      <th>polarity</th>\n",
              "    </tr>\n",
              "  </thead>\n",
              "  <tbody>\n",
              "    <tr>\n",
              "      <th>0</th>\n",
              "      <td>cant explain much love bgt god know gonna fini...</td>\n",
              "      <td>0</td>\n",
              "    </tr>\n",
              "    <tr>\n",
              "      <th>1</th>\n",
              "      <td>idea guess young hahaha</td>\n",
              "      <td>0</td>\n",
              "    </tr>\n",
              "    <tr>\n",
              "      <th>2</th>\n",
              "      <td>went abik ride</td>\n",
              "      <td>1</td>\n",
              "    </tr>\n",
              "    <tr>\n",
              "      <th>3</th>\n",
              "      <td>haha guess stop write guess need follow read</td>\n",
              "      <td>0</td>\n",
              "    </tr>\n",
              "    <tr>\n",
              "      <th>4</th>\n",
              "      <td>parab</td>\n",
              "      <td>1</td>\n",
              "    </tr>\n",
              "  </tbody>\n",
              "</table>\n",
              "</div>"
            ],
            "text/plain": [
              "                                                text  polarity\n",
              "0  cant explain much love bgt god know gonna fini...         0\n",
              "1                           idea guess young hahaha          0\n",
              "2                                    went abik ride          1\n",
              "3      haha guess stop write guess need follow read          0\n",
              "4                                             parab          1"
            ]
          },
          "metadata": {
            "tags": []
          },
          "execution_count": 86
        }
      ]
    },
    {
      "cell_type": "code",
      "metadata": {
        "id": "4J5-ddIc2DtI",
        "colab": {
          "base_uri": "https://localhost:8080/",
          "height": 669
        },
        "outputId": "5a49fb57-39f5-4b21-dbd9-44ab5f97d53c"
      },
      "source": [
        "from sklearn.utils import shuffle\n",
        "df = shuffle(df)\n",
        "df.head(20)"
      ],
      "execution_count": 87,
      "outputs": [
        {
          "output_type": "execute_result",
          "data": {
            "text/html": [
              "<div>\n",
              "<style scoped>\n",
              "    .dataframe tbody tr th:only-of-type {\n",
              "        vertical-align: middle;\n",
              "    }\n",
              "\n",
              "    .dataframe tbody tr th {\n",
              "        vertical-align: top;\n",
              "    }\n",
              "\n",
              "    .dataframe thead th {\n",
              "        text-align: right;\n",
              "    }\n",
              "</style>\n",
              "<table border=\"1\" class=\"dataframe\">\n",
              "  <thead>\n",
              "    <tr style=\"text-align: right;\">\n",
              "      <th></th>\n",
              "      <th>text</th>\n",
              "      <th>polarity</th>\n",
              "    </tr>\n",
              "  </thead>\n",
              "  <tbody>\n",
              "    <tr>\n",
              "      <th>118046</th>\n",
              "      <td>wolv promot</td>\n",
              "      <td>1</td>\n",
              "    </tr>\n",
              "    <tr>\n",
              "      <th>791062</th>\n",
              "      <td>want power ranger shirt hot topic one want</td>\n",
              "      <td>0</td>\n",
              "    </tr>\n",
              "    <tr>\n",
              "      <th>430000</th>\n",
              "      <td>think smart</td>\n",
              "      <td>1</td>\n",
              "    </tr>\n",
              "    <tr>\n",
              "      <th>484839</th>\n",
              "      <td>realli tire bein sick tri watch king nbc feeli...</td>\n",
              "      <td>0</td>\n",
              "    </tr>\n",
              "    <tr>\n",
              "      <th>631898</th>\n",
              "      <td>got got would want watch</td>\n",
              "      <td>0</td>\n",
              "    </tr>\n",
              "    <tr>\n",
              "      <th>208500</th>\n",
              "      <td>stress</td>\n",
              "      <td>0</td>\n",
              "    </tr>\n",
              "    <tr>\n",
              "      <th>931329</th>\n",
              "      <td>phobia hair make feel sick</td>\n",
              "      <td>0</td>\n",
              "    </tr>\n",
              "    <tr>\n",
              "      <th>202758</th>\n",
              "      <td>lost beer pong</td>\n",
              "      <td>0</td>\n",
              "    </tr>\n",
              "    <tr>\n",
              "      <th>67271</th>\n",
              "      <td>back awesom</td>\n",
              "      <td>1</td>\n",
              "    </tr>\n",
              "    <tr>\n",
              "      <th>56870</th>\n",
              "      <td>realli fed twitter right</td>\n",
              "      <td>0</td>\n",
              "    </tr>\n",
              "    <tr>\n",
              "      <th>316036</th>\n",
              "      <td>go bed absolut exhaust pain</td>\n",
              "      <td>0</td>\n",
              "    </tr>\n",
              "    <tr>\n",
              "      <th>674779</th>\n",
              "      <td>start work yet finish ground chanc skate till...</td>\n",
              "      <td>0</td>\n",
              "    </tr>\n",
              "    <tr>\n",
              "      <th>433322</th>\n",
              "      <td>sydney awesom thank everyon came backstag bris...</td>\n",
              "      <td>1</td>\n",
              "    </tr>\n",
              "    <tr>\n",
              "      <th>416677</th>\n",
              "      <td>hey gotta byee lov yaa keep boy seankingstontv...</td>\n",
              "      <td>0</td>\n",
              "    </tr>\n",
              "    <tr>\n",
              "      <th>35781</th>\n",
              "      <td>papa pl protect dear son circ necessari sure ...</td>\n",
              "      <td>0</td>\n",
              "    </tr>\n",
              "    <tr>\n",
              "      <th>124868</th>\n",
              "      <td>shit</td>\n",
              "      <td>0</td>\n",
              "    </tr>\n",
              "    <tr>\n",
              "      <th>132031</th>\n",
              "      <td>take dat nap earlier cant sleep shit</td>\n",
              "      <td>0</td>\n",
              "    </tr>\n",
              "    <tr>\n",
              "      <th>237106</th>\n",
              "      <td>miss cuz afgan workin usa base</td>\n",
              "      <td>0</td>\n",
              "    </tr>\n",
              "    <tr>\n",
              "      <th>845865</th>\n",
              "      <td>ooh jealou wanna see live tour hope watch vid...</td>\n",
              "      <td>0</td>\n",
              "    </tr>\n",
              "    <tr>\n",
              "      <th>22995</th>\n",
              "      <td>sound good evil next time keep info sigh</td>\n",
              "      <td>0</td>\n",
              "    </tr>\n",
              "  </tbody>\n",
              "</table>\n",
              "</div>"
            ],
            "text/plain": [
              "                                                     text  polarity\n",
              "118046                                       wolv promot          1\n",
              "791062        want power ranger shirt hot topic one want          0\n",
              "430000                                       think smart          1\n",
              "484839  realli tire bein sick tri watch king nbc feeli...         0\n",
              "631898                          got got would want watch          0\n",
              "208500                                            stress          0\n",
              "931329                        phobia hair make feel sick          0\n",
              "202758                                    lost beer pong          0\n",
              "67271                                        back awesom          1\n",
              "56870                           realli fed twitter right          0\n",
              "316036                       go bed absolut exhaust pain          0\n",
              "674779   start work yet finish ground chanc skate till...         0\n",
              "433322  sydney awesom thank everyon came backstag bris...         1\n",
              "416677  hey gotta byee lov yaa keep boy seankingstontv...         0\n",
              "35781    papa pl protect dear son circ necessari sure ...         0\n",
              "124868                                              shit          0\n",
              "132031              take dat nap earlier cant sleep shit          0\n",
              "237106                    miss cuz afgan workin usa base          0\n",
              "845865   ooh jealou wanna see live tour hope watch vid...         0\n",
              "22995           sound good evil next time keep info sigh          0"
            ]
          },
          "metadata": {
            "tags": []
          },
          "execution_count": 87
        }
      ]
    },
    {
      "cell_type": "code",
      "metadata": {
        "id": "uMSFcIqsdZyH",
        "colab": {
          "base_uri": "https://localhost:8080/"
        },
        "outputId": "607bf0dc-95f3-4a3e-af61-8a628c9717e2"
      },
      "source": [
        "df = df[:4000]\n",
        "len(df)"
      ],
      "execution_count": 88,
      "outputs": [
        {
          "output_type": "execute_result",
          "data": {
            "text/plain": [
              "4000"
            ]
          },
          "metadata": {
            "tags": []
          },
          "execution_count": 88
        }
      ]
    },
    {
      "cell_type": "code",
      "metadata": {
        "id": "GluMm1Nj2DqK"
      },
      "source": [
        "import re\n",
        "def clean_text(text1):\n",
        "    text = re.sub(r\"@[A-Za-z0-9]+\", ' ', text)\n",
        "    text = re.sub(r\"https?://[A-Za-z0-9./]+\", ' ', text)\n",
        "    text = re.sub(r\"[^a-zA-z.!?'0-9]\", ' ', text)\n",
        "    text = re.sub('\\t', ' ',  text)\n",
        "    text = re.sub(r\" +\", ' ', text)\n",
        "    return text1"
      ],
      "execution_count": 107,
      "outputs": []
    },
    {
      "cell_type": "code",
      "metadata": {
        "colab": {
          "base_uri": "https://localhost:8080/",
          "height": 419
        },
        "id": "oOJrb-Z4JjIq",
        "outputId": "c9504cba-da50-4de9-e508-8ba1791ad88f"
      },
      "source": [
        "#df_new = df.rename(columns={'text': 'review'})\n",
        "#df_new"
      ],
      "execution_count": 48,
      "outputs": [
        {
          "output_type": "execute_result",
          "data": {
            "text/html": [
              "<div>\n",
              "<style scoped>\n",
              "    .dataframe tbody tr th:only-of-type {\n",
              "        vertical-align: middle;\n",
              "    }\n",
              "\n",
              "    .dataframe tbody tr th {\n",
              "        vertical-align: top;\n",
              "    }\n",
              "\n",
              "    .dataframe thead th {\n",
              "        text-align: right;\n",
              "    }\n",
              "</style>\n",
              "<table border=\"1\" class=\"dataframe\">\n",
              "  <thead>\n",
              "    <tr style=\"text-align: right;\">\n",
              "      <th></th>\n",
              "      <th>review</th>\n",
              "      <th>polarity</th>\n",
              "    </tr>\n",
              "  </thead>\n",
              "  <tbody>\n",
              "    <tr>\n",
              "      <th>625640</th>\n",
              "      <td>go fail exam today</td>\n",
              "      <td>0</td>\n",
              "    </tr>\n",
              "    <tr>\n",
              "      <th>506637</th>\n",
              "      <td>barn realli hope ride jazz tire</td>\n",
              "      <td>0</td>\n",
              "    </tr>\n",
              "    <tr>\n",
              "      <th>908365</th>\n",
              "      <td>wish could gotta work</td>\n",
              "      <td>0</td>\n",
              "    </tr>\n",
              "    <tr>\n",
              "      <th>91667</th>\n",
              "      <td>come sit</td>\n",
              "      <td>0</td>\n",
              "    </tr>\n",
              "    <tr>\n",
              "      <th>420997</th>\n",
              "      <td>happi birthday total apolog last night write ...</td>\n",
              "      <td>0</td>\n",
              "    </tr>\n",
              "    <tr>\n",
              "      <th>...</th>\n",
              "      <td>...</td>\n",
              "      <td>...</td>\n",
              "    </tr>\n",
              "    <tr>\n",
              "      <th>708405</th>\n",
              "      <td>cant picnic</td>\n",
              "      <td>0</td>\n",
              "    </tr>\n",
              "    <tr>\n",
              "      <th>1034155</th>\n",
              "      <td></td>\n",
              "      <td>0</td>\n",
              "    </tr>\n",
              "    <tr>\n",
              "      <th>185986</th>\n",
              "      <td>get readi pascha servic</td>\n",
              "      <td>1</td>\n",
              "    </tr>\n",
              "    <tr>\n",
              "      <th>1039912</th>\n",
              "      <td>keep tell alli good idea yet agre</td>\n",
              "      <td>0</td>\n",
              "    </tr>\n",
              "    <tr>\n",
              "      <th>10077</th>\n",
              "      <td>rawr cloudi noo</td>\n",
              "      <td>0</td>\n",
              "    </tr>\n",
              "  </tbody>\n",
              "</table>\n",
              "<p>2000 rows × 2 columns</p>\n",
              "</div>"
            ],
            "text/plain": [
              "                                                    review  polarity\n",
              "625640                                 go fail exam today          0\n",
              "506637                    barn realli hope ride jazz tire          0\n",
              "908365                              wish could gotta work          0\n",
              "91667                                            come sit          0\n",
              "420997    happi birthday total apolog last night write ...         0\n",
              "...                                                    ...       ...\n",
              "708405                                        cant picnic          0\n",
              "1034155                                                            0\n",
              "185986                            get readi pascha servic          1\n",
              "1039912                 keep tell alli good idea yet agre          0\n",
              "10077                                     rawr cloudi noo          0\n",
              "\n",
              "[2000 rows x 2 columns]"
            ]
          },
          "metadata": {
            "tags": []
          },
          "execution_count": 48
        }
      ]
    },
    {
      "cell_type": "code",
      "metadata": {
        "colab": {
          "base_uri": "https://localhost:8080/",
          "height": 419
        },
        "id": "C0vKDoYuObRE",
        "outputId": "a3694b5f-56ef-4c4b-fb9c-e7a46af4bacf"
      },
      "source": [
        "#data = df_new[['review', 'polarity']]\n",
        "#data.polarity.replace(4, 1, inplace=True)\n",
        "#data"
      ],
      "execution_count": 49,
      "outputs": [
        {
          "output_type": "execute_result",
          "data": {
            "text/html": [
              "<div>\n",
              "<style scoped>\n",
              "    .dataframe tbody tr th:only-of-type {\n",
              "        vertical-align: middle;\n",
              "    }\n",
              "\n",
              "    .dataframe tbody tr th {\n",
              "        vertical-align: top;\n",
              "    }\n",
              "\n",
              "    .dataframe thead th {\n",
              "        text-align: right;\n",
              "    }\n",
              "</style>\n",
              "<table border=\"1\" class=\"dataframe\">\n",
              "  <thead>\n",
              "    <tr style=\"text-align: right;\">\n",
              "      <th></th>\n",
              "      <th>review</th>\n",
              "      <th>polarity</th>\n",
              "    </tr>\n",
              "  </thead>\n",
              "  <tbody>\n",
              "    <tr>\n",
              "      <th>625640</th>\n",
              "      <td>go fail exam today</td>\n",
              "      <td>0</td>\n",
              "    </tr>\n",
              "    <tr>\n",
              "      <th>506637</th>\n",
              "      <td>barn realli hope ride jazz tire</td>\n",
              "      <td>0</td>\n",
              "    </tr>\n",
              "    <tr>\n",
              "      <th>908365</th>\n",
              "      <td>wish could gotta work</td>\n",
              "      <td>0</td>\n",
              "    </tr>\n",
              "    <tr>\n",
              "      <th>91667</th>\n",
              "      <td>come sit</td>\n",
              "      <td>0</td>\n",
              "    </tr>\n",
              "    <tr>\n",
              "      <th>420997</th>\n",
              "      <td>happi birthday total apolog last night write ...</td>\n",
              "      <td>0</td>\n",
              "    </tr>\n",
              "    <tr>\n",
              "      <th>...</th>\n",
              "      <td>...</td>\n",
              "      <td>...</td>\n",
              "    </tr>\n",
              "    <tr>\n",
              "      <th>708405</th>\n",
              "      <td>cant picnic</td>\n",
              "      <td>0</td>\n",
              "    </tr>\n",
              "    <tr>\n",
              "      <th>1034155</th>\n",
              "      <td></td>\n",
              "      <td>0</td>\n",
              "    </tr>\n",
              "    <tr>\n",
              "      <th>185986</th>\n",
              "      <td>get readi pascha servic</td>\n",
              "      <td>1</td>\n",
              "    </tr>\n",
              "    <tr>\n",
              "      <th>1039912</th>\n",
              "      <td>keep tell alli good idea yet agre</td>\n",
              "      <td>0</td>\n",
              "    </tr>\n",
              "    <tr>\n",
              "      <th>10077</th>\n",
              "      <td>rawr cloudi noo</td>\n",
              "      <td>0</td>\n",
              "    </tr>\n",
              "  </tbody>\n",
              "</table>\n",
              "<p>2000 rows × 2 columns</p>\n",
              "</div>"
            ],
            "text/plain": [
              "                                                    review  polarity\n",
              "625640                                 go fail exam today          0\n",
              "506637                    barn realli hope ride jazz tire          0\n",
              "908365                              wish could gotta work          0\n",
              "91667                                            come sit          0\n",
              "420997    happi birthday total apolog last night write ...         0\n",
              "...                                                    ...       ...\n",
              "708405                                        cant picnic          0\n",
              "1034155                                                            0\n",
              "185986                            get readi pascha servic          1\n",
              "1039912                 keep tell alli good idea yet agre          0\n",
              "10077                                     rawr cloudi noo          0\n",
              "\n",
              "[2000 rows x 2 columns]"
            ]
          },
          "metadata": {
            "tags": []
          },
          "execution_count": 49
        }
      ]
    },
    {
      "cell_type": "code",
      "metadata": {
        "id": "8HpgvTb72wtm"
      },
      "source": [
        "#df['text'] = df_new['text'].apply(clean_text)"
      ],
      "execution_count": 108,
      "outputs": []
    },
    {
      "cell_type": "code",
      "metadata": {
        "id": "ptC13l5r25qH",
        "colab": {
          "base_uri": "https://localhost:8080/",
          "height": 564
        },
        "outputId": "dea98bbd-2252-4705-9def-f0b9bc9d2d47"
      },
      "source": [
        "rcParams['figure.figsize'] = 10, 8\n",
        "sns.countplot(data.polarity)\n",
        "plt.xlabel('review score');"
      ],
      "execution_count": 109,
      "outputs": [
        {
          "output_type": "stream",
          "text": [
            "/usr/local/lib/python3.6/dist-packages/seaborn/_decorators.py:43: FutureWarning: Pass the following variable as a keyword arg: x. From version 0.12, the only valid positional argument will be `data`, and passing other arguments without an explicit keyword will result in an error or misinterpretation.\n",
            "  FutureWarning\n"
          ],
          "name": "stderr"
        },
        {
          "output_type": "display_data",
          "data": {
            "image/png": "[encoded data removed]",
            "text/plain": [
              "<Figure size 720x576 with 1 Axes>"
            ]
          },
          "metadata": {
            "tags": [],
            "image/png": {
              "width": 633,
              "height": 493
            }
          }
        }
      ]
    },
    {
      "cell_type": "code",
      "metadata": {
        "id": "2I-Du1vR3EZN"
      },
      "source": [
        "def sentiment2label(polarity):\n",
        "    if polarity == \"positive\":\n",
        "        return 1\n",
        "    else :\n",
        "        return 0\n",
        "\n",
        "df['polarity'] = df['polarity'].apply(sentiment2label)"
      ],
      "execution_count": 68,
      "outputs": []
    },
    {
      "cell_type": "code",
      "metadata": {
        "id": "YK3jPP3i3lRw",
        "colab": {
          "base_uri": "https://localhost:8080/"
        },
        "outputId": "d62827a7-67a2-4f60-86cc-8870d4562da3"
      },
      "source": [
        "df['polarity'].value_counts()"
      ],
      "execution_count": 110,
      "outputs": [
        {
          "output_type": "execute_result",
          "data": {
            "text/plain": [
              "0    3055\n",
              "1     945\n",
              "Name: polarity, dtype: int64"
            ]
          },
          "metadata": {
            "tags": []
          },
          "execution_count": 110
        }
      ]
    },
    {
      "cell_type": "code",
      "metadata": {
        "id": "StOb4mAa3rgo"
      },
      "source": [
        "#class_names = ['negative', 'positive']"
      ],
      "execution_count": 57,
      "outputs": []
    },
    {
      "cell_type": "markdown",
      "metadata": {
        "id": "mmBGGgUVJBpT"
      },
      "source": [
        "### Playing with XLNetTokenizer"
      ]
    },
    {
      "cell_type": "code",
      "metadata": {
        "id": "hVWO_38_32jL"
      },
      "source": [
        "from transformers import XLNetTokenizer, XLNetModel\n",
        "PRE_TRAINED_MODEL_NAME = 'xlnet-base-cased'\n",
        "tokenizer = XLNetTokenizer.from_pretrained(PRE_TRAINED_MODEL_NAME)"
      ],
      "execution_count": 111,
      "outputs": []
    },
    {
      "cell_type": "code",
      "metadata": {
        "id": "1ckpqWd_YWgZ",
        "colab": {
          "base_uri": "https://localhost:8080/"
        },
        "outputId": "922fb557-0bc8-4b06-b99f-dc7f5c8a7034"
      },
      "source": [
        "input_txt = \"India is my country. All Indians are my brothers and sisters\"\n",
        "encodings = tokenizer.encode_plus(input_txt, add_special_tokens=True, max_length=16, return_tensors='pt', return_token_type_ids=False, return_attention_mask=True, pad_to_max_length=False)"
      ],
      "execution_count": 112,
      "outputs": [
        {
          "output_type": "stream",
          "text": [
            "Truncation was not explicitly activated but `max_length` is provided a specific value, please use `truncation=True` to explicitly truncate examples to max length. Defaulting to 'longest_first' truncation strategy. If you encode pairs of sequences (GLUE-style) with the tokenizer you can select this strategy more precisely by providing a specific strategy to `truncation`.\n"
          ],
          "name": "stderr"
        }
      ]
    },
    {
      "cell_type": "code",
      "metadata": {
        "id": "Y_ew5njtYWc1",
        "colab": {
          "base_uri": "https://localhost:8080/"
        },
        "outputId": "8c370af8-f81b-4455-ceb9-775b7a1a7cca"
      },
      "source": [
        "print('input_ids : ',encodings['input_ids'])"
      ],
      "execution_count": 113,
      "outputs": [
        {
          "output_type": "stream",
          "text": [
            "input_ids :  tensor([[ 837,   27,   94,  234,    9,  394, 7056,   41,   94, 4194,   21, 8301,\n",
            "            4,    3]])\n"
          ],
          "name": "stdout"
        }
      ]
    },
    {
      "cell_type": "code",
      "metadata": {
        "id": "eEXfe39mYWK7",
        "colab": {
          "base_uri": "https://localhost:8080/"
        },
        "outputId": "4c8c3a77-562b-4c16-9e36-69d674029023"
      },
      "source": [
        "tokenizer.convert_ids_to_tokens(encodings['input_ids'][0])"
      ],
      "execution_count": 114,
      "outputs": [
        {
          "output_type": "execute_result",
          "data": {
            "text/plain": [
              "['▁India',\n",
              " '▁is',\n",
              " '▁my',\n",
              " '▁country',\n",
              " '.',\n",
              " '▁All',\n",
              " '▁Indians',\n",
              " '▁are',\n",
              " '▁my',\n",
              " '▁brothers',\n",
              " '▁and',\n",
              " '▁sisters',\n",
              " '<sep>',\n",
              " '<cls>']"
            ]
          },
          "metadata": {
            "tags": []
          },
          "execution_count": 114
        }
      ]
    },
    {
      "cell_type": "code",
      "metadata": {
        "id": "XR1xkLYtTurv",
        "colab": {
          "base_uri": "https://localhost:8080/"
        },
        "outputId": "f76587f5-bad6-4448-9dd3-87a5b11115ea"
      },
      "source": [
        "type(encodings['attention_mask'])"
      ],
      "execution_count": 115,
      "outputs": [
        {
          "output_type": "execute_result",
          "data": {
            "text/plain": [
              "torch.Tensor"
            ]
          },
          "metadata": {
            "tags": []
          },
          "execution_count": 115
        }
      ]
    },
    {
      "cell_type": "code",
      "metadata": {
        "id": "Pp97KX-9UtMK"
      },
      "source": [
        "attention_mask = pad_sequences(encodings['attention_mask'], maxlen=512, dtype=torch.Tensor ,truncating=\"post\",padding=\"post\")"
      ],
      "execution_count": 116,
      "outputs": []
    },
    {
      "cell_type": "code",
      "metadata": {
        "id": "6Pzeyv1_UvMT",
        "colab": {
          "base_uri": "https://localhost:8080/"
        },
        "outputId": "e26a57db-3bdc-4918-c303-0c8d2c08396a"
      },
      "source": [
        "attention_mask = attention_mask.astype(dtype = 'int64')\n",
        "attention_mask = torch.tensor(attention_mask) \n",
        "attention_mask.flatten()"
      ],
      "execution_count": 117,
      "outputs": [
        {
          "output_type": "execute_result",
          "data": {
            "text/plain": [
              "tensor([1, 1, 1, 1, 1, 1, 1, 1, 1, 1, 1, 1, 1, 1, 0, 0, 0, 0, 0, 0, 0, 0, 0, 0,\n",
              "        0, 0, 0, 0, 0, 0, 0, 0, 0, 0, 0, 0, 0, 0, 0, 0, 0, 0, 0, 0, 0, 0, 0, 0,\n",
              "        0, 0, 0, 0, 0, 0, 0, 0, 0, 0, 0, 0, 0, 0, 0, 0, 0, 0, 0, 0, 0, 0, 0, 0,\n",
              "        0, 0, 0, 0, 0, 0, 0, 0, 0, 0, 0, 0, 0, 0, 0, 0, 0, 0, 0, 0, 0, 0, 0, 0,\n",
              "        0, 0, 0, 0, 0, 0, 0, 0, 0, 0, 0, 0, 0, 0, 0, 0, 0, 0, 0, 0, 0, 0, 0, 0,\n",
              "        0, 0, 0, 0, 0, 0, 0, 0, 0, 0, 0, 0, 0, 0, 0, 0, 0, 0, 0, 0, 0, 0, 0, 0,\n",
              "        0, 0, 0, 0, 0, 0, 0, 0, 0, 0, 0, 0, 0, 0, 0, 0, 0, 0, 0, 0, 0, 0, 0, 0,\n",
              "        0, 0, 0, 0, 0, 0, 0, 0, 0, 0, 0, 0, 0, 0, 0, 0, 0, 0, 0, 0, 0, 0, 0, 0,\n",
              "        0, 0, 0, 0, 0, 0, 0, 0, 0, 0, 0, 0, 0, 0, 0, 0, 0, 0, 0, 0, 0, 0, 0, 0,\n",
              "        0, 0, 0, 0, 0, 0, 0, 0, 0, 0, 0, 0, 0, 0, 0, 0, 0, 0, 0, 0, 0, 0, 0, 0,\n",
              "        0, 0, 0, 0, 0, 0, 0, 0, 0, 0, 0, 0, 0, 0, 0, 0, 0, 0, 0, 0, 0, 0, 0, 0,\n",
              "        0, 0, 0, 0, 0, 0, 0, 0, 0, 0, 0, 0, 0, 0, 0, 0, 0, 0, 0, 0, 0, 0, 0, 0,\n",
              "        0, 0, 0, 0, 0, 0, 0, 0, 0, 0, 0, 0, 0, 0, 0, 0, 0, 0, 0, 0, 0, 0, 0, 0,\n",
              "        0, 0, 0, 0, 0, 0, 0, 0, 0, 0, 0, 0, 0, 0, 0, 0, 0, 0, 0, 0, 0, 0, 0, 0,\n",
              "        0, 0, 0, 0, 0, 0, 0, 0, 0, 0, 0, 0, 0, 0, 0, 0, 0, 0, 0, 0, 0, 0, 0, 0,\n",
              "        0, 0, 0, 0, 0, 0, 0, 0, 0, 0, 0, 0, 0, 0, 0, 0, 0, 0, 0, 0, 0, 0, 0, 0,\n",
              "        0, 0, 0, 0, 0, 0, 0, 0, 0, 0, 0, 0, 0, 0, 0, 0, 0, 0, 0, 0, 0, 0, 0, 0,\n",
              "        0, 0, 0, 0, 0, 0, 0, 0, 0, 0, 0, 0, 0, 0, 0, 0, 0, 0, 0, 0, 0, 0, 0, 0,\n",
              "        0, 0, 0, 0, 0, 0, 0, 0, 0, 0, 0, 0, 0, 0, 0, 0, 0, 0, 0, 0, 0, 0, 0, 0,\n",
              "        0, 0, 0, 0, 0, 0, 0, 0, 0, 0, 0, 0, 0, 0, 0, 0, 0, 0, 0, 0, 0, 0, 0, 0,\n",
              "        0, 0, 0, 0, 0, 0, 0, 0, 0, 0, 0, 0, 0, 0, 0, 0, 0, 0, 0, 0, 0, 0, 0, 0,\n",
              "        0, 0, 0, 0, 0, 0, 0, 0])"
            ]
          },
          "metadata": {
            "tags": []
          },
          "execution_count": 117
        }
      ]
    },
    {
      "cell_type": "code",
      "metadata": {
        "id": "kM7cxiA9RlnA",
        "colab": {
          "base_uri": "https://localhost:8080/"
        },
        "outputId": "3e99ad14-fafb-4fbb-e571-32c806224761"
      },
      "source": [
        "encodings['input_ids']"
      ],
      "execution_count": 118,
      "outputs": [
        {
          "output_type": "execute_result",
          "data": {
            "text/plain": [
              "tensor([[ 837,   27,   94,  234,    9,  394, 7056,   41,   94, 4194,   21, 8301,\n",
              "            4,    3]])"
            ]
          },
          "metadata": {
            "tags": []
          },
          "execution_count": 118
        }
      ]
    },
    {
      "cell_type": "markdown",
      "metadata": {
        "id": "M12PPghlJUbg"
      },
      "source": [
        "### Checking the distribution of token lengths"
      ]
    },
    {
      "cell_type": "code",
      "metadata": {
        "id": "zW4_SrOw4BDy"
      },
      "source": [
        "token_lens = []\n",
        "\n",
        "for txt in df['text']:\n",
        "  tokens = tokenizer.encode(txt, max_length=512)\n",
        "  token_lens.append(len(tokens))"
      ],
      "execution_count": 122,
      "outputs": []
    },
    {
      "cell_type": "code",
      "metadata": {
        "id": "aSxO20TU4dz5",
        "colab": {
          "base_uri": "https://localhost:8080/",
          "height": 560
        },
        "outputId": "fae79d44-fd95-4464-87b2-bbd1337120dc"
      },
      "source": [
        "sns.distplot(token_lens)\n",
        "plt.xlim([0, 1024]);\n",
        "plt.xlabel('Token count');"
      ],
      "execution_count": 123,
      "outputs": [
        {
          "output_type": "stream",
          "text": [
            "/usr/local/lib/python3.6/dist-packages/seaborn/distributions.py:2551: FutureWarning: `distplot` is a deprecated function and will be removed in a future version. Please adapt your code to use either `displot` (a figure-level function with similar flexibility) or `histplot` (an axes-level function for histograms).\n",
            "  warnings.warn(msg, FutureWarning)\n"
          ],
          "name": "stderr"
        },
        {
          "output_type": "display_data",
          "data": {
            "image/png": "[encoded data removed]",
            "text/plain": [
              "<Figure size 720x576 with 1 Axes>"
            ]
          },
          "metadata": {
            "tags": [],
            "image/png": {
              "width": 632,
              "height": 489
            }
          }
        }
      ]
    },
    {
      "cell_type": "code",
      "metadata": {
        "id": "CR3rHUQR4pDE"
      },
      "source": [
        "MAX_LEN = 512"
      ],
      "execution_count": 124,
      "outputs": []
    },
    {
      "cell_type": "markdown",
      "metadata": {
        "id": "e6Kutw4dJyUG"
      },
      "source": [
        "### Custom Dataset class"
      ]
    },
    {
      "cell_type": "code",
      "metadata": {
        "id": "q2NOYXcjPK4z"
      },
      "source": [
        "class sent140(Dataset):\n",
        "\n",
        "    def __init__(self, reviews, targets, tokenizer, max_len):\n",
        "        self.reviews = reviews\n",
        "        self.targets = targets\n",
        "        self.tokenizer = tokenizer\n",
        "        self.max_len = max_len\n",
        "    \n",
        "    def __len__(self):\n",
        "        return len(self.reviews)\n",
        "    \n",
        "    def __getitem__(self, item):\n",
        "        review = str(self.reviews[item])\n",
        "        target = self.targets[item]\n",
        "\n",
        "        encoding = self.tokenizer.encode_plus(\n",
        "        review,\n",
        "        add_special_tokens=True,\n",
        "        max_length=self.max_len,\n",
        "        return_token_type_ids=False,\n",
        "        pad_to_max_length=False,\n",
        "        return_attention_mask=True,\n",
        "        return_tensors='pt',\n",
        "        )\n",
        "\n",
        "        input_ids = pad_sequences(encoding['input_ids'], maxlen=MAX_LEN, dtype=torch.Tensor ,truncating=\"post\",padding=\"post\")\n",
        "        input_ids = input_ids.astype(dtype = 'int64')\n",
        "        input_ids = torch.tensor(input_ids) \n",
        "\n",
        "        attention_mask = pad_sequences(encoding['attention_mask'], maxlen=MAX_LEN, dtype=torch.Tensor ,truncating=\"post\",padding=\"post\")\n",
        "        attention_mask = attention_mask.astype(dtype = 'int64')\n",
        "        attention_mask = torch.tensor(attention_mask)       \n",
        "\n",
        "        return {\n",
        "        'review_text': review,\n",
        "        'input_ids': input_ids,\n",
        "        'attention_mask': attention_mask.flatten(),\n",
        "        'targets': torch.tensor(target, dtype=torch.long)\n",
        "        }"
      ],
      "execution_count": 125,
      "outputs": []
    },
    {
      "cell_type": "code",
      "metadata": {
        "id": "wYXt2AtW6iaT"
      },
      "source": [
        "df_train, df_test = train_test_split(df, test_size=0.5, random_state=101)\n",
        "df_val, df_test = train_test_split(df_test, test_size=0.5, random_state=101)"
      ],
      "execution_count": 126,
      "outputs": []
    },
    {
      "cell_type": "code",
      "metadata": {
        "id": "VmAsa9pg6oac",
        "colab": {
          "base_uri": "https://localhost:8080/"
        },
        "outputId": "de8f4b6a-f1ca-4070-b710-7130ec4a2858"
      },
      "source": [
        "df_train.shape, df_val.shape, df_test.shape"
      ],
      "execution_count": 127,
      "outputs": [
        {
          "output_type": "execute_result",
          "data": {
            "text/plain": [
              "((2000, 2), (1000, 2), (1000, 2))"
            ]
          },
          "metadata": {
            "tags": []
          },
          "execution_count": 127
        }
      ]
    },
    {
      "cell_type": "markdown",
      "metadata": {
        "id": "iFw2z6ElMZMX"
      },
      "source": [
        "### Custom Dataloader"
      ]
    },
    {
      "cell_type": "code",
      "metadata": {
        "id": "3rd7890Z6zLr"
      },
      "source": [
        "def create_data_loader(df, tokenizer, max_len, batch_size):\n",
        "  ds = sent140(\n",
        "    reviews=df.text.to_numpy(),\n",
        "    targets=df.polarity.to_numpy(),\n",
        "    tokenizer=tokenizer,\n",
        "    max_len=max_len\n",
        "  )\n",
        "\n",
        "  return DataLoader(\n",
        "    ds,\n",
        "    batch_size=batch_size,\n",
        "    num_workers=4\n",
        "  )"
      ],
      "execution_count": 130,
      "outputs": []
    },
    {
      "cell_type": "code",
      "metadata": {
        "id": "tVU8o6i569ly"
      },
      "source": [
        "BATCH_SIZE = 4\n",
        "\n",
        "train_data_loader = create_data_loader(df_train, tokenizer, MAX_LEN, BATCH_SIZE)\n",
        "val_data_loader = create_data_loader(df_val, tokenizer, MAX_LEN, BATCH_SIZE)\n",
        "test_data_loader = create_data_loader(df_test, tokenizer, MAX_LEN, BATCH_SIZE)"
      ],
      "execution_count": 131,
      "outputs": []
    },
    {
      "cell_type": "markdown",
      "metadata": {
        "id": "aC5D5Dh8J5w9"
      },
      "source": [
        "### Loading the Pre-trained XLNet model for sequence classification from huggingface transformers"
      ]
    },
    {
      "cell_type": "code",
      "metadata": {
        "id": "H5mC8v6i7VH1",
        "colab": {
          "base_uri": "https://localhost:8080/",
          "height": 220,
          "referenced_widgets": [
            "f4ed8a4c39544c61bfb858d3ef7e819d",
            "d2a2280d589f460ea33b26e57cfc4eca",
            "e05a2a44ccea41a4ba53da73a9088c84",
            "f61568d4f2d34339b62014c5fb0e5ae8",
            "f55078ce73ae4f4994c13640bddea3c2",
            "928dc7e4bec84e2d9d9ba0f2527df5a1",
            "afc9d1878137456192918fb2ea4fb2ba",
            "0cf24e1c0d134213957771bd247e86eb",
            "8b51547925df45aeb0596831dc4de356",
            "a41d6416e75c4603af1066aa02e6caa4",
            "c9293413bfe840d18c7b0f2f98049bde",
            "ee9fd46bee404640b78b8a73bb71f50d",
            "b34362c8f09242729942b6be48f54f27",
            "b866e2bac2334f819945cfddbc6b6a32",
            "0bcd0c198b134d278cf1012e5d454adf",
            "b131669ba7174813b16f12b3b86e0caa"
          ]
        },
        "outputId": "5ff37e0d-e76a-4c67-e350-bf7e3211e206"
      },
      "source": [
        "from transformers import XLNetForSequenceClassification\n",
        "model = XLNetForSequenceClassification.from_pretrained('xlnet-base-cased', num_labels = 2)\n",
        "model = model.to(device)"
      ],
      "execution_count": 132,
      "outputs": [
        {
          "output_type": "display_data",
          "data": {
            "application/vnd.jupyter.widget-view+json": {
              "model_id": "f4ed8a4c39544c61bfb858d3ef7e819d",
              "version_minor": 0,
              "version_major": 2
            },
            "text/plain": [
              "HBox(children=(FloatProgress(value=0.0, description='Downloading', max=760.0, style=ProgressStyle(description_…"
            ]
          },
          "metadata": {
            "tags": []
          }
        },
        {
          "output_type": "stream",
          "text": [
            "\n"
          ],
          "name": "stdout"
        },
        {
          "output_type": "display_data",
          "data": {
            "application/vnd.jupyter.widget-view+json": {
              "model_id": "8b51547925df45aeb0596831dc4de356",
              "version_minor": 0,
              "version_major": 2
            },
            "text/plain": [
              "HBox(children=(FloatProgress(value=0.0, description='Downloading', max=467042463.0, style=ProgressStyle(descri…"
            ]
          },
          "metadata": {
            "tags": []
          }
        },
        {
          "output_type": "stream",
          "text": [
            "\n"
          ],
          "name": "stdout"
        },
        {
          "output_type": "stream",
          "text": [
            "Some weights of the model checkpoint at xlnet-base-cased were not used when initializing XLNetForSequenceClassification: ['lm_loss.weight', 'lm_loss.bias']\n",
            "- This IS expected if you are initializing XLNetForSequenceClassification from the checkpoint of a model trained on another task or with another architecture (e.g. initializing a BertForSequenceClassification model from a BertForPreTraining model).\n",
            "- This IS NOT expected if you are initializing XLNetForSequenceClassification from the checkpoint of a model that you expect to be exactly identical (initializing a BertForSequenceClassification model from a BertForSequenceClassification model).\n",
            "Some weights of XLNetForSequenceClassification were not initialized from the model checkpoint at xlnet-base-cased and are newly initialized: ['sequence_summary.summary.weight', 'sequence_summary.summary.bias', 'logits_proj.weight', 'logits_proj.bias']\n",
            "You should probably TRAIN this model on a down-stream task to be able to use it for predictions and inference.\n"
          ],
          "name": "stderr"
        }
      ]
    },
    {
      "cell_type": "code",
      "metadata": {
        "id": "KYsVoULvfmvD",
        "colab": {
          "base_uri": "https://localhost:8080/"
        },
        "outputId": "1730b2fb-c456-45dc-b90b-d0124fae84e2"
      },
      "source": [
        "model"
      ],
      "execution_count": 133,
      "outputs": [
        {
          "output_type": "execute_result",
          "data": {
            "text/plain": [
              "XLNetForSequenceClassification(\n",
              "  (transformer): XLNetModel(\n",
              "    (word_embedding): Embedding(32000, 768)\n",
              "    (layer): ModuleList(\n",
              "      (0): XLNetLayer(\n",
              "        (rel_attn): XLNetRelativeAttention(\n",
              "          (layer_norm): LayerNorm((768,), eps=1e-12, elementwise_affine=True)\n",
              "          (dropout): Dropout(p=0.1, inplace=False)\n",
              "        )\n",
              "        (ff): XLNetFeedForward(\n",
              "          (layer_norm): LayerNorm((768,), eps=1e-12, elementwise_affine=True)\n",
              "          (layer_1): Linear(in_features=768, out_features=3072, bias=True)\n",
              "          (layer_2): Linear(in_features=3072, out_features=768, bias=True)\n",
              "          (dropout): Dropout(p=0.1, inplace=False)\n",
              "        )\n",
              "        (dropout): Dropout(p=0.1, inplace=False)\n",
              "      )\n",
              "      (1): XLNetLayer(\n",
              "        (rel_attn): XLNetRelativeAttention(\n",
              "          (layer_norm): LayerNorm((768,), eps=1e-12, elementwise_affine=True)\n",
              "          (dropout): Dropout(p=0.1, inplace=False)\n",
              "        )\n",
              "        (ff): XLNetFeedForward(\n",
              "          (layer_norm): LayerNorm((768,), eps=1e-12, elementwise_affine=True)\n",
              "          (layer_1): Linear(in_features=768, out_features=3072, bias=True)\n",
              "          (layer_2): Linear(in_features=3072, out_features=768, bias=True)\n",
              "          (dropout): Dropout(p=0.1, inplace=False)\n",
              "        )\n",
              "        (dropout): Dropout(p=0.1, inplace=False)\n",
              "      )\n",
              "      (2): XLNetLayer(\n",
              "        (rel_attn): XLNetRelativeAttention(\n",
              "          (layer_norm): LayerNorm((768,), eps=1e-12, elementwise_affine=True)\n",
              "          (dropout): Dropout(p=0.1, inplace=False)\n",
              "        )\n",
              "        (ff): XLNetFeedForward(\n",
              "          (layer_norm): LayerNorm((768,), eps=1e-12, elementwise_affine=True)\n",
              "          (layer_1): Linear(in_features=768, out_features=3072, bias=True)\n",
              "          (layer_2): Linear(in_features=3072, out_features=768, bias=True)\n",
              "          (dropout): Dropout(p=0.1, inplace=False)\n",
              "        )\n",
              "        (dropout): Dropout(p=0.1, inplace=False)\n",
              "      )\n",
              "      (3): XLNetLayer(\n",
              "        (rel_attn): XLNetRelativeAttention(\n",
              "          (layer_norm): LayerNorm((768,), eps=1e-12, elementwise_affine=True)\n",
              "          (dropout): Dropout(p=0.1, inplace=False)\n",
              "        )\n",
              "        (ff): XLNetFeedForward(\n",
              "          (layer_norm): LayerNorm((768,), eps=1e-12, elementwise_affine=True)\n",
              "          (layer_1): Linear(in_features=768, out_features=3072, bias=True)\n",
              "          (layer_2): Linear(in_features=3072, out_features=768, bias=True)\n",
              "          (dropout): Dropout(p=0.1, inplace=False)\n",
              "        )\n",
              "        (dropout): Dropout(p=0.1, inplace=False)\n",
              "      )\n",
              "      (4): XLNetLayer(\n",
              "        (rel_attn): XLNetRelativeAttention(\n",
              "          (layer_norm): LayerNorm((768,), eps=1e-12, elementwise_affine=True)\n",
              "          (dropout): Dropout(p=0.1, inplace=False)\n",
              "        )\n",
              "        (ff): XLNetFeedForward(\n",
              "          (layer_norm): LayerNorm((768,), eps=1e-12, elementwise_affine=True)\n",
              "          (layer_1): Linear(in_features=768, out_features=3072, bias=True)\n",
              "          (layer_2): Linear(in_features=3072, out_features=768, bias=True)\n",
              "          (dropout): Dropout(p=0.1, inplace=False)\n",
              "        )\n",
              "        (dropout): Dropout(p=0.1, inplace=False)\n",
              "      )\n",
              "      (5): XLNetLayer(\n",
              "        (rel_attn): XLNetRelativeAttention(\n",
              "          (layer_norm): LayerNorm((768,), eps=1e-12, elementwise_affine=True)\n",
              "          (dropout): Dropout(p=0.1, inplace=False)\n",
              "        )\n",
              "        (ff): XLNetFeedForward(\n",
              "          (layer_norm): LayerNorm((768,), eps=1e-12, elementwise_affine=True)\n",
              "          (layer_1): Linear(in_features=768, out_features=3072, bias=True)\n",
              "          (layer_2): Linear(in_features=3072, out_features=768, bias=True)\n",
              "          (dropout): Dropout(p=0.1, inplace=False)\n",
              "        )\n",
              "        (dropout): Dropout(p=0.1, inplace=False)\n",
              "      )\n",
              "      (6): XLNetLayer(\n",
              "        (rel_attn): XLNetRelativeAttention(\n",
              "          (layer_norm): LayerNorm((768,), eps=1e-12, elementwise_affine=True)\n",
              "          (dropout): Dropout(p=0.1, inplace=False)\n",
              "        )\n",
              "        (ff): XLNetFeedForward(\n",
              "          (layer_norm): LayerNorm((768,), eps=1e-12, elementwise_affine=True)\n",
              "          (layer_1): Linear(in_features=768, out_features=3072, bias=True)\n",
              "          (layer_2): Linear(in_features=3072, out_features=768, bias=True)\n",
              "          (dropout): Dropout(p=0.1, inplace=False)\n",
              "        )\n",
              "        (dropout): Dropout(p=0.1, inplace=False)\n",
              "      )\n",
              "      (7): XLNetLayer(\n",
              "        (rel_attn): XLNetRelativeAttention(\n",
              "          (layer_norm): LayerNorm((768,), eps=1e-12, elementwise_affine=True)\n",
              "          (dropout): Dropout(p=0.1, inplace=False)\n",
              "        )\n",
              "        (ff): XLNetFeedForward(\n",
              "          (layer_norm): LayerNorm((768,), eps=1e-12, elementwise_affine=True)\n",
              "          (layer_1): Linear(in_features=768, out_features=3072, bias=True)\n",
              "          (layer_2): Linear(in_features=3072, out_features=768, bias=True)\n",
              "          (dropout): Dropout(p=0.1, inplace=False)\n",
              "        )\n",
              "        (dropout): Dropout(p=0.1, inplace=False)\n",
              "      )\n",
              "      (8): XLNetLayer(\n",
              "        (rel_attn): XLNetRelativeAttention(\n",
              "          (layer_norm): LayerNorm((768,), eps=1e-12, elementwise_affine=True)\n",
              "          (dropout): Dropout(p=0.1, inplace=False)\n",
              "        )\n",
              "        (ff): XLNetFeedForward(\n",
              "          (layer_norm): LayerNorm((768,), eps=1e-12, elementwise_affine=True)\n",
              "          (layer_1): Linear(in_features=768, out_features=3072, bias=True)\n",
              "          (layer_2): Linear(in_features=3072, out_features=768, bias=True)\n",
              "          (dropout): Dropout(p=0.1, inplace=False)\n",
              "        )\n",
              "        (dropout): Dropout(p=0.1, inplace=False)\n",
              "      )\n",
              "      (9): XLNetLayer(\n",
              "        (rel_attn): XLNetRelativeAttention(\n",
              "          (layer_norm): LayerNorm((768,), eps=1e-12, elementwise_affine=True)\n",
              "          (dropout): Dropout(p=0.1, inplace=False)\n",
              "        )\n",
              "        (ff): XLNetFeedForward(\n",
              "          (layer_norm): LayerNorm((768,), eps=1e-12, elementwise_affine=True)\n",
              "          (layer_1): Linear(in_features=768, out_features=3072, bias=True)\n",
              "          (layer_2): Linear(in_features=3072, out_features=768, bias=True)\n",
              "          (dropout): Dropout(p=0.1, inplace=False)\n",
              "        )\n",
              "        (dropout): Dropout(p=0.1, inplace=False)\n",
              "      )\n",
              "      (10): XLNetLayer(\n",
              "        (rel_attn): XLNetRelativeAttention(\n",
              "          (layer_norm): LayerNorm((768,), eps=1e-12, elementwise_affine=True)\n",
              "          (dropout): Dropout(p=0.1, inplace=False)\n",
              "        )\n",
              "        (ff): XLNetFeedForward(\n",
              "          (layer_norm): LayerNorm((768,), eps=1e-12, elementwise_affine=True)\n",
              "          (layer_1): Linear(in_features=768, out_features=3072, bias=True)\n",
              "          (layer_2): Linear(in_features=3072, out_features=768, bias=True)\n",
              "          (dropout): Dropout(p=0.1, inplace=False)\n",
              "        )\n",
              "        (dropout): Dropout(p=0.1, inplace=False)\n",
              "      )\n",
              "      (11): XLNetLayer(\n",
              "        (rel_attn): XLNetRelativeAttention(\n",
              "          (layer_norm): LayerNorm((768,), eps=1e-12, elementwise_affine=True)\n",
              "          (dropout): Dropout(p=0.1, inplace=False)\n",
              "        )\n",
              "        (ff): XLNetFeedForward(\n",
              "          (layer_norm): LayerNorm((768,), eps=1e-12, elementwise_affine=True)\n",
              "          (layer_1): Linear(in_features=768, out_features=3072, bias=True)\n",
              "          (layer_2): Linear(in_features=3072, out_features=768, bias=True)\n",
              "          (dropout): Dropout(p=0.1, inplace=False)\n",
              "        )\n",
              "        (dropout): Dropout(p=0.1, inplace=False)\n",
              "      )\n",
              "    )\n",
              "    (dropout): Dropout(p=0.1, inplace=False)\n",
              "  )\n",
              "  (sequence_summary): SequenceSummary(\n",
              "    (summary): Linear(in_features=768, out_features=768, bias=True)\n",
              "    (first_dropout): Identity()\n",
              "    (last_dropout): Dropout(p=0.1, inplace=False)\n",
              "  )\n",
              "  (logits_proj): Linear(in_features=768, out_features=2, bias=True)\n",
              ")"
            ]
          },
          "metadata": {
            "tags": []
          },
          "execution_count": 133
        }
      ]
    },
    {
      "cell_type": "markdown",
      "metadata": {
        "id": "vpn2sTTMK_zL"
      },
      "source": [
        "### Setting Hyperparameters"
      ]
    },
    {
      "cell_type": "code",
      "metadata": {
        "id": "aQ9Od31B9YJa"
      },
      "source": [
        "EPOCHS = 3\n",
        "\n",
        "param_optimizer = list(model.named_parameters())\n",
        "no_decay = ['bias', 'LayerNorm.bias', 'LayerNorm.weight']\n",
        "optimizer_grouped_parameters = [\n",
        "                                {'params': [p for n, p in param_optimizer if not any(nd in n for nd in no_decay)], 'weight_decay': 0.01},\n",
        "                                {'params': [p for n, p in param_optimizer if any(nd in n for nd in no_decay)], 'weight_decay':0.0}\n",
        "]\n",
        "optimizer = AdamW(optimizer_grouped_parameters, lr=3e-5)\n",
        "\n",
        "total_steps = len(train_data_loader) * EPOCHS\n",
        "\n",
        "scheduler = get_linear_schedule_with_warmup(\n",
        "  optimizer,\n",
        "  num_warmup_steps=0,\n",
        "  num_training_steps=total_steps\n",
        ")"
      ],
      "execution_count": 134,
      "outputs": []
    },
    {
      "cell_type": "markdown",
      "metadata": {
        "id": "G2AtJcvwLV3x"
      },
      "source": [
        "### Sanity check with one batch"
      ]
    },
    {
      "cell_type": "code",
      "metadata": {
        "id": "rUoaMqjvKdym",
        "colab": {
          "base_uri": "https://localhost:8080/"
        },
        "outputId": "2ebec0e1-f06c-46ac-d456-ae05320618f2"
      },
      "source": [
        "data = next(iter(val_data_loader))\n",
        "data.keys()"
      ],
      "execution_count": 135,
      "outputs": [
        {
          "output_type": "execute_result",
          "data": {
            "text/plain": [
              "dict_keys(['review_text', 'input_ids', 'attention_mask', 'targets'])"
            ]
          },
          "metadata": {
            "tags": []
          },
          "execution_count": 135
        }
      ]
    },
    {
      "cell_type": "code",
      "metadata": {
        "id": "RIUB5WJNKhBs",
        "colab": {
          "base_uri": "https://localhost:8080/"
        },
        "outputId": "97f56bad-11d7-404d-cd07-5a73393b8cb9"
      },
      "source": [
        "input_ids = data['input_ids'].to(device)\n",
        "attention_mask = data['attention_mask'].to(device)\n",
        "targets = data['targets'].to(device)\n",
        "print(input_ids.reshape(4,512).shape) # batch size x seq length\n",
        "print(attention_mask.shape) # batch size x seq length"
      ],
      "execution_count": 136,
      "outputs": [
        {
          "output_type": "stream",
          "text": [
            "torch.Size([4, 512])\n",
            "torch.Size([4, 512])\n"
          ],
          "name": "stdout"
        }
      ]
    },
    {
      "cell_type": "code",
      "metadata": {
        "id": "EYsDR9leYb4Z",
        "colab": {
          "base_uri": "https://localhost:8080/"
        },
        "outputId": "9bc9a178-5811-41d4-fe80-7edeaa08101f"
      },
      "source": [
        "input_ids[0]"
      ],
      "execution_count": 137,
      "outputs": [
        {
          "output_type": "execute_result",
          "data": {
            "text/plain": [
              "tensor([[11041,  3678,   132,   508,  1411,   250,     4,     3,     0,     0,\n",
              "             0,     0,     0,     0,     0,     0,     0,     0,     0,     0,\n",
              "             0,     0,     0,     0,     0,     0,     0,     0,     0,     0,\n",
              "             0,     0,     0,     0,     0,     0,     0,     0,     0,     0,\n",
              "             0,     0,     0,     0,     0,     0,     0,     0,     0,     0,\n",
              "             0,     0,     0,     0,     0,     0,     0,     0,     0,     0,\n",
              "             0,     0,     0,     0,     0,     0,     0,     0,     0,     0,\n",
              "             0,     0,     0,     0,     0,     0,     0,     0,     0,     0,\n",
              "             0,     0,     0,     0,     0,     0,     0,     0,     0,     0,\n",
              "             0,     0,     0,     0,     0,     0,     0,     0,     0,     0,\n",
              "             0,     0,     0,     0,     0,     0,     0,     0,     0,     0,\n",
              "             0,     0,     0,     0,     0,     0,     0,     0,     0,     0,\n",
              "             0,     0,     0,     0,     0,     0,     0,     0,     0,     0,\n",
              "             0,     0,     0,     0,     0,     0,     0,     0,     0,     0,\n",
              "             0,     0,     0,     0,     0,     0,     0,     0,     0,     0,\n",
              "             0,     0,     0,     0,     0,     0,     0,     0,     0,     0,\n",
              "             0,     0,     0,     0,     0,     0,     0,     0,     0,     0,\n",
              "             0,     0,     0,     0,     0,     0,     0,     0,     0,     0,\n",
              "             0,     0,     0,     0,     0,     0,     0,     0,     0,     0,\n",
              "             0,     0,     0,     0,     0,     0,     0,     0,     0,     0,\n",
              "             0,     0,     0,     0,     0,     0,     0,     0,     0,     0,\n",
              "             0,     0,     0,     0,     0,     0,     0,     0,     0,     0,\n",
              "             0,     0,     0,     0,     0,     0,     0,     0,     0,     0,\n",
              "             0,     0,     0,     0,     0,     0,     0,     0,     0,     0,\n",
              "             0,     0,     0,     0,     0,     0,     0,     0,     0,     0,\n",
              "             0,     0,     0,     0,     0,     0,     0,     0,     0,     0,\n",
              "             0,     0,     0,     0,     0,     0,     0,     0,     0,     0,\n",
              "             0,     0,     0,     0,     0,     0,     0,     0,     0,     0,\n",
              "             0,     0,     0,     0,     0,     0,     0,     0,     0,     0,\n",
              "             0,     0,     0,     0,     0,     0,     0,     0,     0,     0,\n",
              "             0,     0,     0,     0,     0,     0,     0,     0,     0,     0,\n",
              "             0,     0,     0,     0,     0,     0,     0,     0,     0,     0,\n",
              "             0,     0,     0,     0,     0,     0,     0,     0,     0,     0,\n",
              "             0,     0,     0,     0,     0,     0,     0,     0,     0,     0,\n",
              "             0,     0,     0,     0,     0,     0,     0,     0,     0,     0,\n",
              "             0,     0,     0,     0,     0,     0,     0,     0,     0,     0,\n",
              "             0,     0,     0,     0,     0,     0,     0,     0,     0,     0,\n",
              "             0,     0,     0,     0,     0,     0,     0,     0,     0,     0,\n",
              "             0,     0,     0,     0,     0,     0,     0,     0,     0,     0,\n",
              "             0,     0,     0,     0,     0,     0,     0,     0,     0,     0,\n",
              "             0,     0,     0,     0,     0,     0,     0,     0,     0,     0,\n",
              "             0,     0,     0,     0,     0,     0,     0,     0,     0,     0,\n",
              "             0,     0,     0,     0,     0,     0,     0,     0,     0,     0,\n",
              "             0,     0,     0,     0,     0,     0,     0,     0,     0,     0,\n",
              "             0,     0,     0,     0,     0,     0,     0,     0,     0,     0,\n",
              "             0,     0,     0,     0,     0,     0,     0,     0,     0,     0,\n",
              "             0,     0,     0,     0,     0,     0,     0,     0,     0,     0,\n",
              "             0,     0,     0,     0,     0,     0,     0,     0,     0,     0,\n",
              "             0,     0,     0,     0,     0,     0,     0,     0,     0,     0,\n",
              "             0,     0,     0,     0,     0,     0,     0,     0,     0,     0,\n",
              "             0,     0,     0,     0,     0,     0,     0,     0,     0,     0,\n",
              "             0,     0]], device='cuda:0')"
            ]
          },
          "metadata": {
            "tags": []
          },
          "execution_count": 137
        }
      ]
    },
    {
      "cell_type": "code",
      "metadata": {
        "id": "KCFLKXL0KmaA",
        "colab": {
          "base_uri": "https://localhost:8080/"
        },
        "outputId": "15a82640-7a84-401b-97ca-f38d822c4ee8"
      },
      "source": [
        "outputs = model(input_ids.reshape(4,512), token_type_ids=None, attention_mask=attention_mask, labels=targets)\n",
        "outputs"
      ],
      "execution_count": 138,
      "outputs": [
        {
          "output_type": "execute_result",
          "data": {
            "text/plain": [
              "(tensor(1.1018, device='cuda:0', grad_fn=<NllLossBackward>),\n",
              " tensor([[-1.0559, -0.1804],\n",
              "         [-0.8864, -0.3936],\n",
              "         [-0.9821, -0.2513],\n",
              "         [-0.9609, -0.2807]], device='cuda:0', grad_fn=<AddmmBackward>),\n",
              " (tensor([[[-0.0245,  0.0987, -0.0104,  ..., -0.0174,  0.0214, -0.0353],\n",
              "           [-0.0169,  0.0038,  0.0598,  ...,  0.0273,  0.0995,  0.0577],\n",
              "           [ 0.0143,  0.0468, -0.0209,  ..., -0.0510, -0.0089,  0.0754],\n",
              "           [-0.0765, -0.0201, -0.0235,  ...,  0.0012,  0.0155, -0.0075]],\n",
              "  \n",
              "          [[-0.0116, -0.1061,  0.0524,  ...,  0.0669, -0.0193, -0.0015],\n",
              "           [ 0.0250,  0.0470, -0.0170,  ...,  0.0033,  0.0053, -0.0005],\n",
              "           [-0.0227, -0.0932, -0.0614,  ..., -0.0136,  0.0560, -0.0515],\n",
              "           [-0.0514, -0.0740, -0.0114,  ..., -0.0006,  0.0237,  0.0538]],\n",
              "  \n",
              "          [[ 0.0346, -0.0237, -0.0094,  ..., -0.0154, -0.0519, -0.0293],\n",
              "           [ 0.0788, -0.0583, -0.0905,  ...,  0.0493,  0.0634, -0.0520],\n",
              "           [ 0.0121,  0.0233, -0.0811,  ..., -0.0500, -0.0678, -0.0080],\n",
              "           [-0.0387, -0.0099, -0.0053,  ...,  0.0643,  0.0192, -0.0144]],\n",
              "  \n",
              "          ...,\n",
              "  \n",
              "          [[-0.0049,  0.0655, -0.0151,  ..., -0.0458, -0.0061,  0.0346],\n",
              "           [-0.0049,  0.0655, -0.0151,  ..., -0.0458, -0.0061,  0.0346],\n",
              "           [-0.0049,  0.0655, -0.0151,  ..., -0.0458, -0.0061,  0.0346],\n",
              "           [-0.0049,  0.0655, -0.0151,  ..., -0.0458, -0.0061,  0.0346]],\n",
              "  \n",
              "          [[-0.0049,  0.0655, -0.0151,  ..., -0.0458, -0.0061,  0.0346],\n",
              "           [-0.0049,  0.0655, -0.0151,  ..., -0.0458, -0.0061,  0.0346],\n",
              "           [-0.0049,  0.0655, -0.0151,  ..., -0.0458, -0.0061,  0.0346],\n",
              "           [-0.0049,  0.0655, -0.0151,  ..., -0.0458, -0.0061,  0.0346]],\n",
              "  \n",
              "          [[-0.0049,  0.0655, -0.0151,  ..., -0.0458, -0.0061,  0.0346],\n",
              "           [-0.0049,  0.0655, -0.0151,  ..., -0.0458, -0.0061,  0.0346],\n",
              "           [-0.0049,  0.0655, -0.0151,  ..., -0.0458, -0.0061,  0.0346],\n",
              "           [-0.0049,  0.0655, -0.0151,  ..., -0.0458, -0.0061,  0.0346]]],\n",
              "         device='cuda:0'),\n",
              "  tensor([[[-0.3763,  1.8693, -0.3719,  ..., -0.8664,  0.3144, -0.3638],\n",
              "           [-0.8868,  0.2268,  0.1652,  ...,  0.1648,  1.7499, -0.2458],\n",
              "           [ 0.5937,  1.3241, -0.9577,  ..., -0.5383, -0.4107,  1.2478],\n",
              "           [-1.3975, -0.7505, -0.7839,  ..., -1.0476,  0.0314,  0.0405]],\n",
              "  \n",
              "          [[ 0.6955, -1.6627,  0.6304,  ...,  0.8189,  0.1958, -0.4717],\n",
              "           [ 0.8700,  0.9947, -0.3242,  ..., -0.6732,  0.6204,  1.0969],\n",
              "           [-0.0782, -2.0790, -1.2837,  ..., -0.4026,  1.1971, -0.3164],\n",
              "           [-0.9894, -2.1521, -1.0193,  ..., -1.2013, -0.1469,  0.5878]],\n",
              "  \n",
              "          [[ 1.7066,  0.6465,  0.3103,  ..., -0.3255, -0.5209, -0.3973],\n",
              "           [ 1.5342, -0.4883, -1.8454,  ...,  0.3398,  0.7693,  0.3204],\n",
              "           [ 0.1735,  0.2453, -0.8297,  ..., -0.9144, -1.1540,  0.0985],\n",
              "           [-0.4039, -0.0448,  0.0773,  ..., -0.0221, -0.2896,  0.1016]],\n",
              "  \n",
              "          ...,\n",
              "  \n",
              "          [[ 0.1354,  2.2602,  0.1175,  ..., -0.7471, -1.6832,  0.6988],\n",
              "           [ 0.4424,  2.1249,  0.2888,  ..., -0.7899, -1.3878,  0.6013],\n",
              "           [ 0.2853,  2.3138,  0.1263,  ..., -0.3750, -1.6353,  0.5909],\n",
              "           [ 0.2507,  2.0198,  0.3086,  ..., -0.8270, -1.3447,  0.5705]],\n",
              "  \n",
              "          [[ 0.1197,  2.2565,  0.1141,  ..., -0.7689, -1.7018,  0.6977],\n",
              "           [ 0.4799,  2.0984,  0.2601,  ..., -0.7711, -1.3758,  0.5434],\n",
              "           [ 0.3318,  2.2672,  0.1126,  ..., -0.3802, -1.6078,  0.5739],\n",
              "           [ 0.2592,  1.9959,  0.3187,  ..., -0.8674, -1.3134,  0.5683]],\n",
              "  \n",
              "          [[ 0.1083,  2.2548,  0.1508,  ..., -0.7637, -1.7115,  0.7113],\n",
              "           [ 0.4968,  2.0917,  0.2415,  ..., -0.7369, -1.3870,  0.4803],\n",
              "           [ 0.3852,  2.2250,  0.0974,  ..., -0.3761, -1.5804,  0.5231],\n",
              "           [ 0.2756,  1.9734,  0.3280,  ..., -0.9149, -1.3036,  0.5886]]],\n",
              "         device='cuda:0'),\n",
              "  tensor([[[-0.9349,  1.0074, -0.0863,  ...,  0.1017,  0.4744,  0.2026],\n",
              "           [-1.0721, -0.5251,  0.1995,  ...,  0.1501,  1.9041, -0.4315],\n",
              "           [-0.1007,  0.4520, -0.6351,  ...,  0.5048,  0.0763,  1.3548],\n",
              "           [-1.2796, -0.8149, -0.6307,  ..., -0.2126,  0.2626,  0.0738]],\n",
              "  \n",
              "          [[-0.2976, -1.4295,  1.1868,  ...,  1.0334, -1.0165, -0.2011],\n",
              "           [-0.0073, -0.2037, -0.2352,  ..., -0.7321,  0.9266,  0.4583],\n",
              "           [-0.4767, -1.3544, -0.8564,  ...,  0.2975,  1.1838,  0.0903],\n",
              "           [-0.4051, -2.4076, -1.2108,  ..., -1.0993,  0.1566, -0.1497]],\n",
              "  \n",
              "          [[ 0.5717,  0.1243,  0.5379,  ...,  0.1620, -0.8674, -0.6003],\n",
              "           [ 0.8370, -0.6926, -1.7281,  ..., -0.7161,  0.7265,  0.3106],\n",
              "           [-0.0759, -0.2569, -1.5728,  ..., -0.1815, -0.3463,  0.9964],\n",
              "           [-0.7198, -0.1344, -0.1477,  ..., -0.5563, -0.3594,  0.6039]],\n",
              "  \n",
              "          ...,\n",
              "  \n",
              "          [[-0.2545,  1.8974,  1.1330,  ..., -0.3677, -1.4699,  0.8960],\n",
              "           [-0.0578,  1.7345,  1.3561,  ..., -0.7169, -1.1695,  0.8290],\n",
              "           [-0.3230,  2.3204,  0.9395,  ..., -0.4591, -1.2963,  1.1314],\n",
              "           [-0.2472,  1.6862,  1.3007,  ..., -0.0498, -1.3767,  0.2860]],\n",
              "  \n",
              "          [[-0.2674,  1.9471,  1.1387,  ..., -0.3188, -1.5265,  0.8951],\n",
              "           [-0.0332,  1.7186,  1.2887,  ..., -0.7471, -1.1701,  0.8191],\n",
              "           [-0.2937,  2.2666,  0.8940,  ..., -0.4982, -1.2835,  1.1419],\n",
              "           [-0.1975,  1.5904,  1.3227,  ..., -0.1161, -1.3158,  0.2707]],\n",
              "  \n",
              "          [[-0.2634,  2.0011,  1.1572,  ..., -0.2694, -1.5580,  0.8907],\n",
              "           [-0.0256,  1.7286,  1.2479,  ..., -0.7631, -1.1952,  0.7962],\n",
              "           [-0.2482,  2.2197,  0.8319,  ..., -0.5276, -1.2758,  1.1331],\n",
              "           [-0.1171,  1.5078,  1.3347,  ..., -0.2161, -1.2588,  0.2873]]],\n",
              "         device='cuda:0'),\n",
              "  tensor([[[-0.9090,  1.5572, -0.1859,  ..., -0.3928,  0.5928, -0.0993],\n",
              "           [-0.0652, -0.3046, -0.2537,  ..., -0.2461,  2.9226, -1.1852],\n",
              "           [ 0.0812,  1.2407, -1.5624,  ...,  0.2464,  0.4557,  2.3714],\n",
              "           [-1.2072, -0.4058, -0.8188,  ..., -0.5991,  0.0521, -0.5747]],\n",
              "  \n",
              "          [[-0.7128, -1.6155,  1.0775,  ...,  0.7073, -0.1429, -0.1157],\n",
              "           [ 0.4239,  0.1911, -1.1574,  ..., -1.3145,  1.3803, -0.1500],\n",
              "           [ 0.0520, -0.1939, -0.8842,  ..., -0.2097,  1.3590, -0.4272],\n",
              "           [-0.7445, -2.7794, -0.8259,  ..., -1.7010,  0.8354, -0.1519]],\n",
              "  \n",
              "          [[ 0.2947,  0.7493,  1.1138,  ..., -1.1764, -0.1449, -0.9878],\n",
              "           [ 0.9078, -0.6589, -2.5787,  ..., -0.5392,  0.2881, -0.3024],\n",
              "           [ 0.0551,  0.1707, -2.4086,  ..., -0.9564, -0.7306,  1.1533],\n",
              "           [-0.5705, -1.1113, -0.2020,  ..., -0.1234, -0.0149,  0.5448]],\n",
              "  \n",
              "          ...,\n",
              "  \n",
              "          [[-0.3715,  3.1279,  0.7776,  ..., -0.7527, -2.3995,  0.5328],\n",
              "           [ 0.1362,  3.0359,  1.0225,  ..., -0.4454, -2.3067,  0.5123],\n",
              "           [-0.2852,  3.5161,  0.6770,  ..., -0.4145, -2.4438,  0.5440],\n",
              "           [-0.0841,  2.8475,  0.8884,  ...,  0.0119, -2.1082, -0.0277]],\n",
              "  \n",
              "          [[-0.4186,  3.1954,  0.7390,  ..., -0.6501, -2.4439,  0.5979],\n",
              "           [ 0.1783,  2.9819,  0.9064,  ..., -0.4682, -2.2935,  0.4539],\n",
              "           [-0.2315,  3.4441,  0.5992,  ..., -0.4723, -2.4322,  0.5586],\n",
              "           [-0.0070,  2.7137,  0.9693,  ..., -0.0983, -2.0836, -0.0953]],\n",
              "  \n",
              "          [[-0.4277,  3.2891,  0.7595,  ..., -0.6136, -2.4733,  0.6183],\n",
              "           [ 0.2073,  2.9700,  0.8134,  ..., -0.4556, -2.3070,  0.3896],\n",
              "           [-0.1617,  3.3589,  0.4802,  ..., -0.4698, -2.4473,  0.5589],\n",
              "           [ 0.1092,  2.5839,  1.0843,  ..., -0.2457, -2.0654, -0.0802]]],\n",
              "         device='cuda:0'),\n",
              "  tensor([[[-8.2189e-01,  6.6303e-01,  2.1611e-01,  ...,  6.1799e-01,\n",
              "             6.1619e-01,  1.7826e-01],\n",
              "           [ 1.1455e-01, -5.3846e-01, -4.2657e-01,  ...,  7.2351e-01,\n",
              "             2.5511e+00,  9.9868e-02],\n",
              "           [ 4.0407e-01,  6.3307e-01, -6.3469e-01,  ...,  5.8208e-01,\n",
              "             5.5206e-01,  1.8223e+00],\n",
              "           [-8.6741e-01, -5.6631e-01, -1.0120e+00,  ...,  6.0991e-01,\n",
              "            -2.6035e-01,  8.6463e-01]],\n",
              "  \n",
              "          [[-8.5641e-01, -1.4036e+00,  1.1971e+00,  ...,  1.2477e+00,\n",
              "            -4.0708e-01,  4.2656e-01],\n",
              "           [ 4.2101e-01, -2.7561e-01, -9.2378e-01,  ..., -1.4100e-03,\n",
              "             1.4782e+00,  1.9905e-01],\n",
              "           [ 4.1288e-01, -1.3854e-01, -2.1291e-01,  ...,  8.7432e-01,\n",
              "             6.3441e-01,  4.7505e-02],\n",
              "           [-5.9006e-01, -2.3278e+00, -8.3012e-01,  ..., -2.7866e-01,\n",
              "             5.2673e-01,  7.0562e-01]],\n",
              "  \n",
              "          [[ 8.8188e-01,  6.1835e-01,  1.2255e+00,  ..., -7.4055e-01,\n",
              "            -7.2700e-01,  2.4124e-01],\n",
              "           [ 1.4877e+00, -7.5388e-01, -1.8795e+00,  ...,  9.3151e-02,\n",
              "            -4.5796e-01, -4.1001e-01],\n",
              "           [ 7.1096e-01, -7.1300e-01, -1.9490e+00,  ...,  5.7550e-02,\n",
              "             1.1782e-01,  8.9867e-01],\n",
              "           [ 8.7196e-02, -1.2269e+00, -5.6095e-01,  ...,  9.6088e-01,\n",
              "            -4.7029e-02,  1.9482e-01]],\n",
              "  \n",
              "          ...,\n",
              "  \n",
              "          [[ 3.8240e-01,  2.1367e+00,  1.9904e-01,  ...,  5.5084e-01,\n",
              "            -1.4228e+00,  2.2544e-01],\n",
              "           [ 6.2563e-01,  1.8788e+00,  5.5709e-01,  ...,  1.1744e+00,\n",
              "            -1.4941e+00, -5.3553e-02],\n",
              "           [ 7.2223e-02,  2.3280e+00,  3.4678e-01,  ...,  1.5443e+00,\n",
              "            -1.0885e+00,  4.3851e-01],\n",
              "           [ 7.2564e-01,  2.0725e+00,  5.6151e-01,  ...,  1.4354e+00,\n",
              "            -1.1384e+00, -8.4889e-02]],\n",
              "  \n",
              "          [[ 3.1926e-01,  2.1873e+00,  4.9079e-02,  ...,  6.5668e-01,\n",
              "            -1.4639e+00,  3.1510e-01],\n",
              "           [ 6.9834e-01,  1.8029e+00,  4.7815e-01,  ...,  1.1395e+00,\n",
              "            -1.4642e+00, -1.0511e-01],\n",
              "           [ 1.5749e-01,  2.2475e+00,  2.8683e-01,  ...,  1.4728e+00,\n",
              "            -1.0777e+00,  4.3606e-01],\n",
              "           [ 8.3213e-01,  2.0371e+00,  7.4241e-01,  ...,  1.2828e+00,\n",
              "            -1.0943e+00, -1.6917e-01]],\n",
              "  \n",
              "          [[ 3.3156e-01,  2.2183e+00, -1.7881e-02,  ...,  7.3117e-01,\n",
              "            -1.5339e+00,  3.5551e-01],\n",
              "           [ 7.2380e-01,  1.7744e+00,  3.9327e-01,  ...,  1.1510e+00,\n",
              "            -1.4804e+00, -1.6130e-01],\n",
              "           [ 2.6461e-01,  2.1530e+00,  1.9425e-01,  ...,  1.4351e+00,\n",
              "            -1.0679e+00,  3.8945e-01],\n",
              "           [ 9.5634e-01,  2.0047e+00,  9.3368e-01,  ...,  1.1460e+00,\n",
              "            -1.0042e+00, -2.4064e-01]]], device='cuda:0'),\n",
              "  tensor([[[-0.6210,  0.9950,  0.2096,  ..., -0.3863, -0.5659, -0.3795],\n",
              "           [-0.0107,  0.1431, -0.5545,  ...,  0.7064,  1.0646, -0.0176],\n",
              "           [ 0.5748,  1.1351, -0.3506,  ..., -0.3925, -0.1866,  0.2325],\n",
              "           [-0.5514,  0.3150, -0.7638,  ..., -0.5365, -1.4154, -0.2228]],\n",
              "  \n",
              "          [[-1.0273, -0.3614,  1.0631,  ...,  0.3684, -1.1563,  0.0670],\n",
              "           [ 0.3389,  0.4504, -0.9512,  ...,  0.1112,  0.4946, -0.0442],\n",
              "           [ 0.1718,  0.5275, -0.0525,  ..., -0.3928, -0.1602, -1.2342],\n",
              "           [-0.4983, -1.0317, -0.5252,  ..., -0.8963, -0.5658, -0.1280]],\n",
              "  \n",
              "          [[ 0.2999,  1.0763,  1.2325,  ..., -1.6799, -1.3548,  0.4385],\n",
              "           [ 1.3778,  0.0625, -1.0166,  ...,  0.2416, -0.1819, -0.5655],\n",
              "           [ 0.9351, -0.0390, -0.6969,  ..., -0.6509, -0.3382,  0.2131],\n",
              "           [ 0.6954, -0.1915, -0.4244,  ..., -0.3331, -1.0863, -0.4778]],\n",
              "  \n",
              "          ...,\n",
              "  \n",
              "          [[ 1.0883,  2.3272,  0.3694,  ...,  0.4542, -0.8606,  0.0455],\n",
              "           [ 1.0839,  1.8853,  0.2443,  ...,  0.6454, -0.8075,  0.2403],\n",
              "           [ 0.8917,  2.5067,  0.6251,  ...,  1.0864, -0.3743,  0.0639],\n",
              "           [ 1.1817,  1.9744,  0.2071,  ...,  0.5108, -1.0521, -0.3795]],\n",
              "  \n",
              "          [[ 0.9988,  2.3117,  0.2088,  ...,  0.4701, -0.8541,  0.1485],\n",
              "           [ 1.2098,  1.8146,  0.1775,  ...,  0.6508, -0.8010,  0.2621],\n",
              "           [ 0.9918,  2.4315,  0.5883,  ...,  1.0699, -0.3859,  0.0924],\n",
              "           [ 1.2723,  1.9226,  0.3506,  ...,  0.4202, -0.9542, -0.4573]],\n",
              "  \n",
              "          [[ 1.0038,  2.3167,  0.1124,  ...,  0.4814, -0.8827,  0.1998],\n",
              "           [ 1.2760,  1.8005,  0.0950,  ...,  0.6618, -0.8015,  0.2251],\n",
              "           [ 1.1330,  2.3262,  0.5034,  ...,  1.0544, -0.3850,  0.1448],\n",
              "           [ 1.3814,  1.8442,  0.4511,  ...,  0.3683, -0.8154, -0.4475]]],\n",
              "         device='cuda:0'),\n",
              "  tensor([[[-1.1178,  2.2900, -0.5630,  ..., -0.7501, -1.1298, -1.4195],\n",
              "           [-0.4636,  0.2217, -1.3706,  ...,  0.0619,  1.0052,  0.4120],\n",
              "           [ 0.2113,  1.5997, -1.0915,  ..., -0.1682, -0.4001,  0.1717],\n",
              "           [-0.9490,  0.5473, -1.6206,  ..., -1.0710, -1.5985, -0.2485]],\n",
              "  \n",
              "          [[-1.1048,  0.4889,  0.4426,  ...,  0.2387, -1.7446, -1.0643],\n",
              "           [-0.0495,  0.7546, -1.8111,  ..., -0.3309,  0.9056,  0.8984],\n",
              "           [-0.0905,  1.0393, -0.9540,  ..., -1.0584, -0.8161, -1.1879],\n",
              "           [-1.2991, -0.9974, -0.8330,  ..., -0.8774, -0.6677, -0.0456]],\n",
              "  \n",
              "          [[-0.4329,  1.8682,  0.8643,  ..., -1.3593, -1.7024, -0.0535],\n",
              "           [ 0.9668,  0.2227, -1.2249,  ...,  0.3239, -0.1525,  0.2637],\n",
              "           [ 0.4925,  0.4345, -1.1908,  ..., -0.9074, -0.6786,  0.7204],\n",
              "           [ 0.5868,  0.7774, -0.9902,  ...,  0.0364, -1.3150, -1.2000]],\n",
              "  \n",
              "          ...,\n",
              "  \n",
              "          [[ 1.0876,  3.2919,  0.4966,  ...,  1.0503, -0.8606,  0.1168],\n",
              "           [ 0.8289,  2.7446,  0.6465,  ...,  1.8658, -0.5599,  0.8585],\n",
              "           [ 0.7151,  3.3385,  1.0714,  ...,  1.3162, -1.0280,  0.2202],\n",
              "           [ 1.1794,  2.7354,  0.2109,  ...,  0.6651, -1.4836, -0.8168]],\n",
              "  \n",
              "          [[ 1.0417,  3.1707,  0.4050,  ...,  1.0884, -0.8446,  0.2042],\n",
              "           [ 0.9374,  2.6138,  0.5347,  ...,  1.8622, -0.4918,  0.8212],\n",
              "           [ 0.8491,  3.2799,  0.9747,  ...,  1.2823, -1.0534,  0.2967],\n",
              "           [ 1.2248,  2.7442,  0.2370,  ...,  0.4869, -1.1867, -0.8283]],\n",
              "  \n",
              "          [[ 1.0985,  3.1373,  0.3754,  ...,  1.1268, -0.8800,  0.2431],\n",
              "           [ 0.9995,  2.5458,  0.3933,  ...,  1.8439, -0.4611,  0.7279],\n",
              "           [ 1.0508,  3.1590,  0.7918,  ...,  1.2334, -1.0133,  0.3880],\n",
              "           [ 1.2734,  2.7021,  0.2623,  ...,  0.2740, -0.7145, -0.6828]]],\n",
              "         device='cuda:0'),\n",
              "  tensor([[[-1.0014,  2.2698, -0.3853,  ..., -0.9999, -1.1566, -0.9251],\n",
              "           [-0.7350, -0.0190, -0.2866,  ..., -0.5083,  0.1297,  0.4962],\n",
              "           [-0.1231,  2.0769, -0.3761,  ..., -0.2226, -0.2429,  0.4126],\n",
              "           [-1.5470,  0.7434, -0.8219,  ..., -1.2674, -0.8099, -0.4241]],\n",
              "  \n",
              "          [[-1.1963,  0.6402,  0.4412,  ..., -0.0098, -1.7189, -0.7446],\n",
              "           [-0.1435,  0.3564, -0.4134,  ..., -0.7634,  0.3483,  0.6789],\n",
              "           [-0.4625,  1.6298, -0.8225,  ..., -0.7730, -0.2899, -0.5021],\n",
              "           [-1.7034, -0.5926,  0.1539,  ..., -1.3341,  0.1178, -0.1273]],\n",
              "  \n",
              "          [[-0.9008,  2.4059,  0.8497,  ..., -1.5590, -1.4791, -0.1238],\n",
              "           [ 0.4773, -0.5442,  0.2406,  ...,  0.1754, -0.3265,  0.4097],\n",
              "           [ 0.5227,  0.7530, -1.4827,  ..., -0.8241, -0.2659,  0.7852],\n",
              "           [-0.7280,  0.5445,  0.0299,  ..., -0.4967, -0.2541, -0.5804]],\n",
              "  \n",
              "          ...,\n",
              "  \n",
              "          [[ 0.9068,  3.0322,  0.4287,  ...,  1.1116, -0.3773,  0.2071],\n",
              "           [ 0.3055,  1.8467,  0.6787,  ...,  1.2474, -0.3509,  1.3966],\n",
              "           [ 0.2653,  3.0448,  1.2405,  ...,  0.9713, -0.3750,  0.7068],\n",
              "           [ 0.8448,  2.7943,  0.1315,  ...,  0.7087, -0.4613, -0.2754]],\n",
              "  \n",
              "          [[ 0.9393,  2.9123,  0.3086,  ...,  1.1448, -0.3521,  0.3365],\n",
              "           [ 0.3247,  1.7498,  0.5626,  ...,  1.2131, -0.2976,  1.3330],\n",
              "           [ 0.3767,  2.9490,  1.1302,  ...,  0.9662, -0.4121,  0.6938],\n",
              "           [ 0.8058,  2.7947,  0.2027,  ...,  0.4992, -0.3020, -0.2503]],\n",
              "  \n",
              "          [[ 1.0044,  2.8656,  0.2657,  ...,  1.1725, -0.3719,  0.3669],\n",
              "           [ 0.3241,  1.7284,  0.4416,  ...,  1.1569, -0.2381,  1.2300],\n",
              "           [ 0.5480,  2.7872,  0.9014,  ...,  0.9069, -0.4309,  0.7062],\n",
              "           [ 0.7030,  2.6923,  0.3541,  ...,  0.2670, -0.1289, -0.1447]]],\n",
              "         device='cuda:0'),\n",
              "  tensor([[[-1.4819,  2.5493, -0.8366,  ..., -1.0843, -1.0643, -1.1180],\n",
              "           [-1.4851,  0.3670, -0.6673,  ..., -0.6895,  0.2186, -0.7150],\n",
              "           [-0.3708,  2.3687, -0.5226,  ..., -0.3014, -0.4049,  0.1447],\n",
              "           [-1.6953,  0.7717, -2.0873,  ..., -1.6731, -0.1965, -0.2820]],\n",
              "  \n",
              "          [[-2.1452,  0.8080,  0.2182,  ..., -0.2081, -1.2918, -0.7657],\n",
              "           [-0.5724,  0.3501, -0.8195,  ..., -1.1329,  0.0115, -0.5268],\n",
              "           [ 0.3520,  1.4385, -1.1008,  ..., -1.2005, -0.4488, -0.9650],\n",
              "           [-2.0800, -0.3207, -1.1560,  ..., -1.4856,  0.7541, -0.2288]],\n",
              "  \n",
              "          [[-1.3758,  2.4612,  0.2906,  ..., -1.3696, -0.9619, -0.2646],\n",
              "           [-0.2612, -0.0960,  0.2064,  ..., -0.0725, -0.3722, -0.3542],\n",
              "           [ 0.6925,  0.7248, -2.0539,  ..., -1.4447, -0.8739,  0.3095],\n",
              "           [-0.5595,  0.8454, -1.1445,  ..., -0.2173,  0.5775, -0.1071]],\n",
              "  \n",
              "          ...,\n",
              "  \n",
              "          [[ 0.6903,  2.4262,  0.1443,  ...,  1.0790, -0.5391, -0.1250],\n",
              "           [ 0.1383,  1.0778,  0.5579,  ...,  1.0571, -1.2368,  0.6404],\n",
              "           [ 0.2568,  2.2635,  1.0766,  ...,  0.9052, -1.0326,  0.1737],\n",
              "           [ 0.6871,  2.1876, -0.3684,  ...,  1.0881, -0.1728, -0.4562]],\n",
              "  \n",
              "          [[ 0.7382,  2.2576,  0.0471,  ...,  1.1093, -0.5011,  0.0107],\n",
              "           [ 0.1871,  1.0599,  0.4177,  ...,  0.9763, -1.1842,  0.5800],\n",
              "           [ 0.3406,  2.1737,  0.9583,  ...,  0.8767, -1.1041,  0.1381],\n",
              "           [ 0.6590,  2.1800, -0.3502,  ...,  0.8147, -0.0054, -0.4378]],\n",
              "  \n",
              "          [[ 0.7950,  2.1658,  0.0801,  ...,  1.1062, -0.4770,  0.0257],\n",
              "           [ 0.2057,  1.1110,  0.2794,  ...,  0.8529, -1.1592,  0.5514],\n",
              "           [ 0.4704,  2.0197,  0.7397,  ...,  0.8303, -1.2127,  0.1793],\n",
              "           [ 0.6666,  2.0409, -0.1797,  ...,  0.4651,  0.1616, -0.2988]]],\n",
              "         device='cuda:0'),\n",
              "  tensor([[[-1.2963,  1.8811, -0.4266,  ..., -0.4326, -0.2192, -0.5167],\n",
              "           [-0.7284, -0.3370, -0.5925,  ..., -1.3098,  0.6795, -0.7189],\n",
              "           [ 0.3110,  1.5695,  0.2609,  ..., -0.7274,  0.1649,  0.2205],\n",
              "           [-1.4701,  0.5859, -1.4766,  ..., -1.8792,  0.2332, -0.9251]],\n",
              "  \n",
              "          [[-1.6591,  0.4037,  0.4612,  ...,  0.1378, -0.3904, -0.1876],\n",
              "           [-0.1130, -0.1964, -0.6919,  ..., -1.4036,  0.3630, -0.7247],\n",
              "           [ 0.7404,  0.9917, -0.1105,  ..., -1.4346,  0.5815, -0.7643],\n",
              "           [-1.3659, -0.3964, -0.9399,  ..., -1.7245,  0.9346, -0.1750]],\n",
              "  \n",
              "          [[-0.8128,  1.7725,  0.5046,  ..., -0.9756, -0.4335,  0.1557],\n",
              "           [ 0.3247, -0.3933, -0.1248,  ..., -0.5759,  0.3347, -0.5877],\n",
              "           [ 0.4282,  0.5000, -1.4770,  ..., -1.3248,  0.1171,  0.4878],\n",
              "           [-0.0288,  0.4391, -0.9815,  ..., -1.1223,  0.6225, -0.0247]],\n",
              "  \n",
              "          ...,\n",
              "  \n",
              "          [[ 0.6811,  1.7511,  0.3468,  ...,  0.6341, -0.4112, -0.5026],\n",
              "           [ 0.7799,  0.4554,  0.8199,  ...,  0.4037, -0.7685, -0.6254],\n",
              "           [ 0.5176,  2.0228,  1.1130,  ...,  0.2936, -0.4706, -0.4656],\n",
              "           [ 1.2426,  1.8906, -0.0576,  ...,  0.4286,  0.1365, -0.5699]],\n",
              "  \n",
              "          [[ 0.7229,  1.6321,  0.2489,  ...,  0.6648, -0.3854, -0.3416],\n",
              "           [ 0.7762,  0.4627,  0.6809,  ...,  0.3769, -0.7304, -0.6515],\n",
              "           [ 0.5583,  1.9429,  1.0212,  ...,  0.2581, -0.5512, -0.4696],\n",
              "           [ 1.2381,  1.8623,  0.0522,  ...,  0.1741,  0.2993, -0.5631]],\n",
              "  \n",
              "          [[ 0.7671,  1.5898,  0.2713,  ...,  0.6503, -0.3773, -0.3101],\n",
              "           [ 0.7748,  0.5299,  0.5395,  ...,  0.3291, -0.6908, -0.6322],\n",
              "           [ 0.6138,  1.7926,  0.8138,  ...,  0.2297, -0.7099, -0.4344],\n",
              "           [ 1.1919,  1.6958,  0.2445,  ..., -0.0771,  0.4916, -0.4174]]],\n",
              "         device='cuda:0'),\n",
              "  tensor([[[-1.2542,  1.6016, -0.7635,  ..., -0.1534, -0.0951,  0.1583],\n",
              "           [-1.3446, -0.8774, -0.3531,  ..., -0.5922,  0.4460, -0.2135],\n",
              "           [-0.2982,  1.8312,  0.2448,  ..., -0.3543, -0.3028,  0.6362],\n",
              "           [-2.3253,  0.6801, -1.2151,  ..., -1.9004,  0.2368, -0.7281]],\n",
              "  \n",
              "          [[-2.0554,  0.1354,  0.1935,  ...,  0.6928, -0.3025,  0.5501],\n",
              "           [-0.8243, -0.8589, -0.5894,  ..., -0.4567,  0.1452, -0.3465],\n",
              "           [-0.4267,  1.0121, -0.4617,  ..., -0.9056,  0.1261, -0.4246],\n",
              "           [-1.9992, -0.5664, -0.5988,  ..., -1.8472,  1.2218,  0.1314]],\n",
              "  \n",
              "          [[-1.2273,  1.4900,  0.6943,  ..., -0.5743, -0.2972,  1.0293],\n",
              "           [-0.0591, -1.1512,  0.0520,  ..., -0.1445,  0.2365, -0.2796],\n",
              "           [-0.0822,  0.4203, -1.6235,  ..., -1.1812, -0.2378,  0.5431],\n",
              "           [-0.5134,  0.4928, -0.5546,  ..., -0.5399,  0.8849, -0.0935]],\n",
              "  \n",
              "          ...,\n",
              "  \n",
              "          [[ 0.7780,  1.6259, -0.0594,  ...,  0.4834, -0.1169,  0.3561],\n",
              "           [ 0.9453,  0.9073,  0.5207,  ...,  0.9220, -0.5822,  0.4995],\n",
              "           [ 0.5849,  2.3324,  1.4377,  ...,  0.4892, -0.4977,  0.8444],\n",
              "           [ 1.5189,  2.2653, -0.2012,  ...,  0.3687,  0.5992,  0.3087]],\n",
              "  \n",
              "          [[ 0.7666,  1.7618, -0.1280,  ...,  0.3713, -0.2072,  0.5276],\n",
              "           [ 0.9677,  0.8931,  0.4240,  ...,  0.9825, -0.5087,  0.5497],\n",
              "           [ 0.6138,  2.3077,  1.2540,  ...,  0.4390, -0.4896,  0.9177],\n",
              "           [ 1.4953,  2.2363,  0.0302,  ...,  0.1844,  0.7176,  0.2791]],\n",
              "  \n",
              "          [[ 0.8037,  1.8335, -0.1052,  ...,  0.2817, -0.2497,  0.5454],\n",
              "           [ 0.9479,  0.9727,  0.3244,  ...,  0.9637, -0.4544,  0.6209],\n",
              "           [ 0.6636,  2.2082,  0.8852,  ...,  0.3434, -0.5484,  0.9817],\n",
              "           [ 1.4354,  2.1471,  0.4297,  ..., -0.0150,  0.8135,  0.3052]]],\n",
              "         device='cuda:0'),\n",
              "  tensor([[[-0.9570,  0.7229, -0.2612,  ..., -0.0758, -0.2557,  0.5439],\n",
              "           [-0.0132, -1.5941, -0.1670,  ..., -0.3334,  0.7153,  0.3085],\n",
              "           [ 0.1216,  0.0705, -0.0250,  ..., -0.1266,  0.1176,  0.7184],\n",
              "           [-1.5345, -0.2663, -0.4416,  ..., -0.9261,  0.0266, -0.6594]],\n",
              "  \n",
              "          [[-1.7445, -0.2583,  0.1090,  ...,  0.5322, -0.4918,  0.9487],\n",
              "           [ 0.3140, -1.6067, -0.4105,  ..., -0.0049,  0.5745, -0.0173],\n",
              "           [ 0.2112, -0.3692, -0.2164,  ..., -0.5067,  0.4505, -0.0348],\n",
              "           [-1.4410, -1.1499, -0.8143,  ..., -1.0423,  1.0922,  0.4549]],\n",
              "  \n",
              "          [[-0.7873,  0.3435,  0.1629,  ..., -0.1635, -0.2566,  1.4319],\n",
              "           [ 0.6513, -1.4570, -0.3532,  ...,  0.2018,  0.5786,  0.1575],\n",
              "           [ 0.7364, -0.7011, -1.2416,  ..., -0.3424,  0.4130,  0.4678],\n",
              "           [-0.4910, -1.2412, -0.1351,  ...,  0.1342,  0.9731,  0.1612]],\n",
              "  \n",
              "          ...,\n",
              "  \n",
              "          [[ 0.8973,  1.5019, -0.1019,  ...,  0.5365,  0.1061,  1.4445],\n",
              "           [ 0.9937,  0.7826, -0.0546,  ...,  0.9061, -0.0799,  1.4253],\n",
              "           [ 1.1563,  1.5713,  0.5061,  ...,  0.2389, -0.2875,  1.4035],\n",
              "           [ 0.9223,  1.5371, -0.3890,  ...,  0.6361,  0.4400,  0.5003]],\n",
              "  \n",
              "          [[ 0.8024,  1.2463, -0.1423,  ...,  0.5103,  0.0058,  1.4413],\n",
              "           [ 1.0149,  0.8530, -0.0958,  ...,  0.9771, -0.0317,  1.4315],\n",
              "           [ 1.1851,  1.6665,  0.4425,  ...,  0.2331, -0.2699,  1.4366],\n",
              "           [ 0.8677,  1.3790, -0.2920,  ...,  0.6071,  0.4092,  0.3592]],\n",
              "  \n",
              "          [[ 0.7668,  1.1813, -0.1153,  ...,  0.4737, -0.0610,  1.3973],\n",
              "           [ 1.0015,  0.9521, -0.1226,  ...,  1.0000, -0.0384,  1.4276],\n",
              "           [ 1.2374,  1.7152,  0.3060,  ...,  0.1802, -0.2793,  1.4419],\n",
              "           [ 0.7915,  1.1878, -0.0290,  ...,  0.4228,  0.3412,  0.2926]]],\n",
              "         device='cuda:0')))"
            ]
          },
          "metadata": {
            "tags": []
          },
          "execution_count": 138
        }
      ]
    },
    {
      "cell_type": "code",
      "metadata": {
        "id": "zbyJNtqVkg4Y",
        "colab": {
          "base_uri": "https://localhost:8080/"
        },
        "outputId": "2cc2dfec-6ea4-4d4b-bb4d-98fc4e1b7afc"
      },
      "source": [
        "type(outputs[0])"
      ],
      "execution_count": 139,
      "outputs": [
        {
          "output_type": "execute_result",
          "data": {
            "text/plain": [
              "torch.Tensor"
            ]
          },
          "metadata": {
            "tags": []
          },
          "execution_count": 139
        }
      ]
    },
    {
      "cell_type": "markdown",
      "metadata": {
        "id": "eg44cHnNLd3J"
      },
      "source": [
        "### Defining the training step function"
      ]
    },
    {
      "cell_type": "code",
      "metadata": {
        "id": "tPnWttRNMArt"
      },
      "source": [
        "from sklearn import metrics\n",
        "def train_epoch(model, data_loader, optimizer, device, scheduler, n_examples):\n",
        "    model = model.train()\n",
        "    losses = []\n",
        "    acc = 0\n",
        "    counter = 0\n",
        "  \n",
        "    for d in data_loader:\n",
        "        input_ids = d[\"input_ids\"].reshape(4,512).to(device)\n",
        "        attention_mask = d[\"attention_mask\"].to(device)\n",
        "        targets = d[\"targets\"].to(device)\n",
        "        \n",
        "        outputs = model(input_ids=input_ids, token_type_ids=None, attention_mask=attention_mask, labels = targets)\n",
        "        loss = outputs[0]\n",
        "        logits = outputs[1]\n",
        "\n",
        "        # preds = preds.cpu().detach().numpy()\n",
        "        _, prediction = torch.max(outputs[1], dim=1)\n",
        "        targets = targets.cpu().detach().numpy()\n",
        "        prediction = prediction.cpu().detach().numpy()\n",
        "        accuracy = metrics.accuracy_score(targets, prediction)\n",
        "\n",
        "        acc += accuracy\n",
        "        losses.append(loss.item())\n",
        "        \n",
        "        loss.backward()\n",
        "\n",
        "        nn.utils.clip_grad_norm_(model.parameters(), max_norm=1.0)\n",
        "        optimizer.step()\n",
        "        scheduler.step()\n",
        "        optimizer.zero_grad()\n",
        "        counter = counter + 1\n",
        "\n",
        "    return acc / counter, np.mean(losses)"
      ],
      "execution_count": 140,
      "outputs": []
    },
    {
      "cell_type": "markdown",
      "metadata": {
        "id": "4N2ktqT8LoDS"
      },
      "source": [
        "### Defining the evaluation function"
      ]
    },
    {
      "cell_type": "code",
      "metadata": {
        "id": "V_ZyoJ4qb-CB"
      },
      "source": [
        "def eval_model(model, data_loader, device, n_examples):\n",
        "    model = model.eval()\n",
        "    losses = []\n",
        "    acc = 0\n",
        "    counter = 0\n",
        "  \n",
        "    with torch.no_grad():\n",
        "        for d in data_loader:\n",
        "            input_ids = d[\"input_ids\"].reshape(4,512).to(device)\n",
        "            attention_mask = d[\"attention_mask\"].to(device)\n",
        "            targets = d[\"targets\"].to(device)\n",
        "            \n",
        "            outputs = model(input_ids=input_ids, token_type_ids=None, attention_mask=attention_mask, labels = targets)\n",
        "            loss = outputs[0]\n",
        "            logits = outputs[1]\n",
        "\n",
        "            _, prediction = torch.max(outputs[1], dim=1)\n",
        "            targets = targets.cpu().detach().numpy()\n",
        "            prediction = prediction.cpu().detach().numpy()\n",
        "            accuracy = metrics.accuracy_score(targets, prediction)\n",
        "\n",
        "            acc += accuracy\n",
        "            losses.append(loss.item())\n",
        "            counter += 1\n",
        "\n",
        "    return acc / counter, np.mean(losses)"
      ],
      "execution_count": 141,
      "outputs": []
    },
    {
      "cell_type": "markdown",
      "metadata": {
        "id": "9AG1TE43LvkX"
      },
      "source": [
        "### Fine-tuning the pre-trained model"
      ]
    },
    {
      "cell_type": "code",
      "metadata": {
        "id": "eNSQSFkScp6f",
        "colab": {
          "base_uri": "https://localhost:8080/"
        },
        "outputId": "73664f71-fbfd-4882-cf08-71997097af4f"
      },
      "source": [
        "%%time\n",
        "history = defaultdict(list)\n",
        "best_accuracy = 0\n",
        "\n",
        "for epoch in range(EPOCHS):\n",
        "    print(f'Epoch {epoch + 1}/{EPOCHS}')\n",
        "    print('-' * 10)\n",
        "\n",
        "    train_acc, train_loss = train_epoch(\n",
        "        model,\n",
        "        train_data_loader,     \n",
        "        optimizer, \n",
        "        device, \n",
        "        scheduler, \n",
        "        len(df_train)\n",
        "    )\n",
        "\n",
        "    print(f'Train loss {train_loss} Train accuracy {train_acc}')\n",
        "\n",
        "    val_acc, val_loss = eval_model(\n",
        "        model,\n",
        "        val_data_loader, \n",
        "        device, \n",
        "        len(df_val)\n",
        "    )\n",
        "\n",
        "    print(f'Val loss {val_loss} Val accuracy {val_acc}')\n",
        "    print()\n",
        "\n",
        "    history['train_acc'].append(train_acc)\n",
        "    history['train_loss'].append(train_loss)\n",
        "    history['val_acc'].append(val_acc)\n",
        "    history['val_loss'].append(val_loss)\n",
        "\n",
        "    if val_acc > best_accuracy:\n",
        "        torch.save(model.state_dict(), 'C:\\\\Users\\\\BUJJI\\\\Desktop\\\\NLP\\\\models\\\\xlnet_model1.bin')\n",
        "        best_accuracy = val_acc"
      ],
      "execution_count": 143,
      "outputs": [
        {
          "output_type": "stream",
          "text": [
            "Epoch 1/3\n",
            "----------\n",
            "Train loss 0.5852309298217296 Train accuracy 0.7585\n",
            "Val loss 0.7540176632255315 Val accuracy 0.766\n",
            "\n",
            "Epoch 2/3\n",
            "----------\n",
            "Train loss 0.5752474646037444 Train accuracy 0.764\n",
            "Val loss 0.6447369921803474 Val accuracy 0.765\n",
            "\n",
            "Epoch 3/3\n",
            "----------\n",
            "Train loss 0.5502564660999923 Train accuracy 0.812\n",
            "Val loss 0.8428783402740956 Val accuracy 0.771\n",
            "\n",
            "CPU times: user 8min 6s, sys: 3min 50s, total: 11min 57s\n",
            "Wall time: 12min\n"
          ],
          "name": "stdout"
        }
      ]
    },
    {
      "cell_type": "markdown",
      "metadata": {
        "id": "qe08GjtNL-Sh"
      },
      "source": [
        "### Evaluation of the fine-tuned model"
      ]
    },
    {
      "cell_type": "code",
      "metadata": {
        "id": "XqtQkz2yrZE3",
        "colab": {
          "base_uri": "https://localhost:8080/"
        },
        "outputId": "1d27ac67-2544-4b90-dcbf-b61bf56b28ea"
      },
      "source": [
        "model.load_state_dict(torch.load('C:\\\\Users\\\\BUJJI\\\\Desktop\\\\NLP\\\\models\\\\xlnet_model1.bin'))"
      ],
      "execution_count": 144,
      "outputs": [
        {
          "output_type": "execute_result",
          "data": {
            "text/plain": [
              "<All keys matched successfully>"
            ]
          },
          "metadata": {
            "tags": []
          },
          "execution_count": 144
        }
      ]
    },
    {
      "cell_type": "code",
      "metadata": {
        "id": "26k0PMpdy1QT"
      },
      "source": [
        "model = model.to(device)"
      ],
      "execution_count": 145,
      "outputs": []
    },
    {
      "cell_type": "code",
      "metadata": {
        "id": "QHINzx6ezSD0",
        "colab": {
          "base_uri": "https://localhost:8080/"
        },
        "outputId": "188b27f7-7a50-4c40-d289-c29063cb015a"
      },
      "source": [
        "test_acc, test_loss = eval_model(\n",
        "  model,\n",
        "  test_data_loader,\n",
        "  device,\n",
        "  len(df_test)\n",
        ")\n",
        "\n",
        "print('Test Accuracy :', test_acc)\n",
        "print('Test Loss :', test_loss)"
      ],
      "execution_count": 146,
      "outputs": [
        {
          "output_type": "stream",
          "text": [
            "Test Accuracy : 0.755\n",
            "Test Loss : 0.8722399174310267\n"
          ],
          "name": "stdout"
        }
      ]
    },
    {
      "cell_type": "code",
      "metadata": {
        "id": "NBWsLq4yzubR"
      },
      "source": [
        "def get_predictions(model, data_loader):\n",
        "    model = model.eval()\n",
        "    \n",
        "    review_texts = []\n",
        "    predictions = []\n",
        "    prediction_probs = []\n",
        "    real_values = []\n",
        "\n",
        "    with torch.no_grad():\n",
        "        for d in data_loader:\n",
        "\n",
        "            texts = d[\"review_text\"]\n",
        "            input_ids = d[\"input_ids\"].reshape(4,512).to(device)\n",
        "            attention_mask = d[\"attention_mask\"].to(device)\n",
        "            targets = d[\"targets\"].to(device)\n",
        "            \n",
        "            outputs = model(input_ids=input_ids, token_type_ids=None, attention_mask=attention_mask, labels = targets)\n",
        "\n",
        "            loss = outputs[0]\n",
        "            logits = outputs[1]\n",
        "            \n",
        "            _, preds = torch.max(outputs[1], dim=1)\n",
        "\n",
        "            probs = F.softmax(outputs[1], dim=1)\n",
        "\n",
        "            review_texts.extend(texts)\n",
        "            predictions.extend(preds)\n",
        "            prediction_probs.extend(probs)\n",
        "            real_values.extend(targets)\n",
        "\n",
        "    predictions = torch.stack(predictions).cpu()\n",
        "    prediction_probs = torch.stack(prediction_probs).cpu()\n",
        "    real_values = torch.stack(real_values).cpu()\n",
        "    return review_texts, predictions, prediction_probs, real_values"
      ],
      "execution_count": 147,
      "outputs": []
    },
    {
      "cell_type": "code",
      "metadata": {
        "id": "hwCQaTFH5KWy"
      },
      "source": [
        "y_review_texts, y_pred, y_pred_probs, y_test = get_predictions(\n",
        "  model,\n",
        "  test_data_loader\n",
        ")"
      ],
      "execution_count": 148,
      "outputs": []
    },
    {
      "cell_type": "code",
      "metadata": {
        "id": "wviSSrIP5Pvl",
        "colab": {
          "base_uri": "https://localhost:8080/"
        },
        "outputId": "f469f108-5e8f-47fc-a5f1-ea18872949a4"
      },
      "source": [
        "print(classification_report(y_test, y_pred, target_names=class_names))"
      ],
      "execution_count": 149,
      "outputs": [
        {
          "output_type": "stream",
          "text": [
            "              precision    recall  f1-score   support\n",
            "\n",
            "    negative       0.83      0.86      0.84       768\n",
            "    positive       0.47      0.42      0.44       232\n",
            "\n",
            "    accuracy                           0.76      1000\n",
            "   macro avg       0.65      0.64      0.64      1000\n",
            "weighted avg       0.75      0.76      0.75      1000\n",
            "\n"
          ],
          "name": "stdout"
        }
      ]
    },
    {
      "cell_type": "markdown",
      "metadata": {
        "id": "FdrnJkm-MGvv"
      },
      "source": [
        "### Custom prediction function on raw text"
      ]
    },
    {
      "cell_type": "code",
      "metadata": {
        "id": "lIxCoTjo6tWM"
      },
      "source": [
        "def predict_sentiment(text):\n",
        "    review_text = text\n",
        "\n",
        "    encoded_review = tokenizer.encode_plus(\n",
        "    review_text,\n",
        "    max_length=MAX_LEN,\n",
        "    add_special_tokens=True,\n",
        "    return_token_type_ids=False,\n",
        "    pad_to_max_length=False,\n",
        "    return_attention_mask=True,\n",
        "    return_tensors='pt',\n",
        "    )\n",
        "\n",
        "    input_ids = pad_sequences(encoded_review['input_ids'], maxlen=MAX_LEN, dtype=torch.Tensor ,truncating=\"post\",padding=\"post\")\n",
        "    input_ids = input_ids.astype(dtype = 'int64')\n",
        "    input_ids = torch.tensor(input_ids) \n",
        "\n",
        "    attention_mask = pad_sequences(encoded_review['attention_mask'], maxlen=MAX_LEN, dtype=torch.Tensor ,truncating=\"post\",padding=\"post\")\n",
        "    attention_mask = attention_mask.astype(dtype = 'int64')\n",
        "    attention_mask = torch.tensor(attention_mask) \n",
        "\n",
        "    input_ids = input_ids.reshape(1,512).to(device)\n",
        "    attention_mask = attention_mask.to(device)\n",
        "\n",
        "    outputs = model(input_ids=input_ids, attention_mask=attention_mask)\n",
        "\n",
        "    outputs = outputs[0][0].cpu().detach()\n",
        "\n",
        "    probs = F.softmax(outputs, dim=-1).cpu().detach().numpy().tolist()\n",
        "    _, prediction = torch.max(outputs, dim =-1)\n",
        "\n",
        "    print(\"Positive score:\", probs[1])\n",
        "    print(\"Negative score:\", probs[0])\n",
        "    print(f'Review text: {review_text}')\n",
        "    print(f'Sentiment  : {class_names[prediction]}')"
      ],
      "execution_count": 150,
      "outputs": []
    },
    {
      "cell_type": "code",
      "metadata": {
        "id": "8UlPGZgNFV1j",
        "colab": {
          "base_uri": "https://localhost:8080/"
        },
        "outputId": "68490b32-c591-486c-ef2e-3c17aa0ddf89"
      },
      "source": [
        "text = \"Movie is the worst one I have ever seen!! The story has no meaning at all\"\n",
        "predict_sentiment(text)"
      ],
      "execution_count": 151,
      "outputs": [
        {
          "output_type": "stream",
          "text": [
            "Positive score: 0.04329725727438927\n",
            "Negative score: 0.9567027688026428\n",
            "Review text: Movie is the worst one I have ever seen!! The story has no meaning at all\n",
            "Sentiment  : negative\n"
          ],
          "name": "stdout"
        }
      ]
    },
    {
      "cell_type": "code",
      "metadata": {
        "id": "2oO0OhNoF4wo",
        "colab": {
          "base_uri": "https://localhost:8080/"
        },
        "outputId": "00f6966a-98c9-4cd1-b259-a37079352772"
      },
      "source": [
        "text = \"This is the best movie I have ever seen!! The story is such a motivation\"\n",
        "predict_sentiment(text)"
      ],
      "execution_count": 152,
      "outputs": [
        {
          "output_type": "stream",
          "text": [
            "Positive score: 0.9775038957595825\n",
            "Negative score: 0.022496072575449944\n",
            "Review text: This is the best movie I have ever seen!! The story is such a motivation\n",
            "Sentiment  : positive\n"
          ],
          "name": "stdout"
        }
      ]
    }
  ]
}