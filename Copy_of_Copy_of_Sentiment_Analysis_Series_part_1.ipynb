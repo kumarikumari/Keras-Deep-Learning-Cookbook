{
  "nbformat": 4,
  "nbformat_minor": 0,
  "metadata": {
    "colab": {
      "name": "Copy of Copy of Sentiment Analysis Series part-1.ipynb",
      "provenance": [],
      "collapsed_sections": [],
      "include_colab_link": true
    },
    "kernelspec": {
      "name": "python3",
      "display_name": "Python 3"
    },
    "accelerator": "GPU",
    "widgets": {
      "application/vnd.jupyter.widget-state+json": {
        "9bb844979dbc4eada25bfea23ed337ef": {
          "model_module": "@jupyter-widgets/controls",
          "model_name": "HBoxModel",
          "state": {
            "_view_name": "HBoxView",
            "_dom_classes": [],
            "_model_name": "HBoxModel",
            "_view_module": "@jupyter-widgets/controls",
            "_model_module_version": "1.5.0",
            "_view_count": null,
            "_view_module_version": "1.5.0",
            "box_style": "",
            "layout": "IPY_MODEL_fea67a27849842469fefc9344ceedb61",
            "_model_module": "@jupyter-widgets/controls",
            "children": [
              "IPY_MODEL_e6ff5b11a17d449ba39553797ce802f8",
              "IPY_MODEL_5b28e7c6780d409682a2bd22095800a3"
            ]
          }
        },
        "fea67a27849842469fefc9344ceedb61": {
          "model_module": "@jupyter-widgets/base",
          "model_name": "LayoutModel",
          "state": {
            "_view_name": "LayoutView",
            "grid_template_rows": null,
            "right": null,
            "justify_content": null,
            "_view_module": "@jupyter-widgets/base",
            "overflow": null,
            "_model_module_version": "1.2.0",
            "_view_count": null,
            "flex_flow": null,
            "width": null,
            "min_width": null,
            "border": null,
            "align_items": null,
            "bottom": null,
            "_model_module": "@jupyter-widgets/base",
            "top": null,
            "grid_column": null,
            "overflow_y": null,
            "overflow_x": null,
            "grid_auto_flow": null,
            "grid_area": null,
            "grid_template_columns": null,
            "flex": null,
            "_model_name": "LayoutModel",
            "justify_items": null,
            "grid_row": null,
            "max_height": null,
            "align_content": null,
            "visibility": null,
            "align_self": null,
            "height": null,
            "min_height": null,
            "padding": null,
            "grid_auto_rows": null,
            "grid_gap": null,
            "max_width": null,
            "order": null,
            "_view_module_version": "1.2.0",
            "grid_template_areas": null,
            "object_position": null,
            "object_fit": null,
            "grid_auto_columns": null,
            "margin": null,
            "display": null,
            "left": null
          }
        },
        "e6ff5b11a17d449ba39553797ce802f8": {
          "model_module": "@jupyter-widgets/controls",
          "model_name": "FloatProgressModel",
          "state": {
            "_view_name": "ProgressView",
            "style": "IPY_MODEL_887f80cab4334c66907a52937edbb285",
            "_dom_classes": [],
            "description": "Downloading: 100%",
            "_model_name": "FloatProgressModel",
            "bar_style": "success",
            "max": 798011,
            "_view_module": "@jupyter-widgets/controls",
            "_model_module_version": "1.5.0",
            "value": 798011,
            "_view_count": null,
            "_view_module_version": "1.5.0",
            "orientation": "horizontal",
            "min": 0,
            "description_tooltip": null,
            "_model_module": "@jupyter-widgets/controls",
            "layout": "IPY_MODEL_90855ed0e1e4444fa19d75632ad5b47f"
          }
        },
        "5b28e7c6780d409682a2bd22095800a3": {
          "model_module": "@jupyter-widgets/controls",
          "model_name": "HTMLModel",
          "state": {
            "_view_name": "HTMLView",
            "style": "IPY_MODEL_70611f714b1d4e90896996deeeff92df",
            "_dom_classes": [],
            "description": "",
            "_model_name": "HTMLModel",
            "placeholder": "​",
            "_view_module": "@jupyter-widgets/controls",
            "_model_module_version": "1.5.0",
            "value": " 798k/798k [00:16&lt;00:00, 49.4kB/s]",
            "_view_count": null,
            "_view_module_version": "1.5.0",
            "description_tooltip": null,
            "_model_module": "@jupyter-widgets/controls",
            "layout": "IPY_MODEL_7d495401a15547e2ab514c72a4034c35"
          }
        },
        "887f80cab4334c66907a52937edbb285": {
          "model_module": "@jupyter-widgets/controls",
          "model_name": "ProgressStyleModel",
          "state": {
            "_view_name": "StyleView",
            "_model_name": "ProgressStyleModel",
            "description_width": "initial",
            "_view_module": "@jupyter-widgets/base",
            "_model_module_version": "1.5.0",
            "_view_count": null,
            "_view_module_version": "1.2.0",
            "bar_color": null,
            "_model_module": "@jupyter-widgets/controls"
          }
        },
        "90855ed0e1e4444fa19d75632ad5b47f": {
          "model_module": "@jupyter-widgets/base",
          "model_name": "LayoutModel",
          "state": {
            "_view_name": "LayoutView",
            "grid_template_rows": null,
            "right": null,
            "justify_content": null,
            "_view_module": "@jupyter-widgets/base",
            "overflow": null,
            "_model_module_version": "1.2.0",
            "_view_count": null,
            "flex_flow": null,
            "width": null,
            "min_width": null,
            "border": null,
            "align_items": null,
            "bottom": null,
            "_model_module": "@jupyter-widgets/base",
            "top": null,
            "grid_column": null,
            "overflow_y": null,
            "overflow_x": null,
            "grid_auto_flow": null,
            "grid_area": null,
            "grid_template_columns": null,
            "flex": null,
            "_model_name": "LayoutModel",
            "justify_items": null,
            "grid_row": null,
            "max_height": null,
            "align_content": null,
            "visibility": null,
            "align_self": null,
            "height": null,
            "min_height": null,
            "padding": null,
            "grid_auto_rows": null,
            "grid_gap": null,
            "max_width": null,
            "order": null,
            "_view_module_version": "1.2.0",
            "grid_template_areas": null,
            "object_position": null,
            "object_fit": null,
            "grid_auto_columns": null,
            "margin": null,
            "display": null,
            "left": null
          }
        },
        "70611f714b1d4e90896996deeeff92df": {
          "model_module": "@jupyter-widgets/controls",
          "model_name": "DescriptionStyleModel",
          "state": {
            "_view_name": "StyleView",
            "_model_name": "DescriptionStyleModel",
            "description_width": "",
            "_view_module": "@jupyter-widgets/base",
            "_model_module_version": "1.5.0",
            "_view_count": null,
            "_view_module_version": "1.2.0",
            "_model_module": "@jupyter-widgets/controls"
          }
        },
        "7d495401a15547e2ab514c72a4034c35": {
          "model_module": "@jupyter-widgets/base",
          "model_name": "LayoutModel",
          "state": {
            "_view_name": "LayoutView",
            "grid_template_rows": null,
            "right": null,
            "justify_content": null,
            "_view_module": "@jupyter-widgets/base",
            "overflow": null,
            "_model_module_version": "1.2.0",
            "_view_count": null,
            "flex_flow": null,
            "width": null,
            "min_width": null,
            "border": null,
            "align_items": null,
            "bottom": null,
            "_model_module": "@jupyter-widgets/base",
            "top": null,
            "grid_column": null,
            "overflow_y": null,
            "overflow_x": null,
            "grid_auto_flow": null,
            "grid_area": null,
            "grid_template_columns": null,
            "flex": null,
            "_model_name": "LayoutModel",
            "justify_items": null,
            "grid_row": null,
            "max_height": null,
            "align_content": null,
            "visibility": null,
            "align_self": null,
            "height": null,
            "min_height": null,
            "padding": null,
            "grid_auto_rows": null,
            "grid_gap": null,
            "max_width": null,
            "order": null,
            "_view_module_version": "1.2.0",
            "grid_template_areas": null,
            "object_position": null,
            "object_fit": null,
            "grid_auto_columns": null,
            "margin": null,
            "display": null,
            "left": null
          }
        },
        "ffc53f7b7070484c8f81228d62ee6c8d": {
          "model_module": "@jupyter-widgets/controls",
          "model_name": "HBoxModel",
          "state": {
            "_view_name": "HBoxView",
            "_dom_classes": [],
            "_model_name": "HBoxModel",
            "_view_module": "@jupyter-widgets/controls",
            "_model_module_version": "1.5.0",
            "_view_count": null,
            "_view_module_version": "1.5.0",
            "box_style": "",
            "layout": "IPY_MODEL_9da8181f6e474112957bc97664e61358",
            "_model_module": "@jupyter-widgets/controls",
            "children": [
              "IPY_MODEL_a5617a562fca4a43aa91f59728516218",
              "IPY_MODEL_7c400fd1486a49f79fe5a03c227808e1"
            ]
          }
        },
        "9da8181f6e474112957bc97664e61358": {
          "model_module": "@jupyter-widgets/base",
          "model_name": "LayoutModel",
          "state": {
            "_view_name": "LayoutView",
            "grid_template_rows": null,
            "right": null,
            "justify_content": null,
            "_view_module": "@jupyter-widgets/base",
            "overflow": null,
            "_model_module_version": "1.2.0",
            "_view_count": null,
            "flex_flow": null,
            "width": null,
            "min_width": null,
            "border": null,
            "align_items": null,
            "bottom": null,
            "_model_module": "@jupyter-widgets/base",
            "top": null,
            "grid_column": null,
            "overflow_y": null,
            "overflow_x": null,
            "grid_auto_flow": null,
            "grid_area": null,
            "grid_template_columns": null,
            "flex": null,
            "_model_name": "LayoutModel",
            "justify_items": null,
            "grid_row": null,
            "max_height": null,
            "align_content": null,
            "visibility": null,
            "align_self": null,
            "height": null,
            "min_height": null,
            "padding": null,
            "grid_auto_rows": null,
            "grid_gap": null,
            "max_width": null,
            "order": null,
            "_view_module_version": "1.2.0",
            "grid_template_areas": null,
            "object_position": null,
            "object_fit": null,
            "grid_auto_columns": null,
            "margin": null,
            "display": null,
            "left": null
          }
        },
        "a5617a562fca4a43aa91f59728516218": {
          "model_module": "@jupyter-widgets/controls",
          "model_name": "FloatProgressModel",
          "state": {
            "_view_name": "ProgressView",
            "style": "IPY_MODEL_7888da65c575472fbaf53aa5e8fc6bd0",
            "_dom_classes": [],
            "description": "Downloading: 100%",
            "_model_name": "FloatProgressModel",
            "bar_style": "success",
            "max": 760,
            "_view_module": "@jupyter-widgets/controls",
            "_model_module_version": "1.5.0",
            "value": 760,
            "_view_count": null,
            "_view_module_version": "1.5.0",
            "orientation": "horizontal",
            "min": 0,
            "description_tooltip": null,
            "_model_module": "@jupyter-widgets/controls",
            "layout": "IPY_MODEL_680e3c92430149bfa93d2f9aa5b1d841"
          }
        },
        "7c400fd1486a49f79fe5a03c227808e1": {
          "model_module": "@jupyter-widgets/controls",
          "model_name": "HTMLModel",
          "state": {
            "_view_name": "HTMLView",
            "style": "IPY_MODEL_a358d89d73ec448d84995270434e1ce3",
            "_dom_classes": [],
            "description": "",
            "_model_name": "HTMLModel",
            "placeholder": "​",
            "_view_module": "@jupyter-widgets/controls",
            "_model_module_version": "1.5.0",
            "value": " 760/760 [04:01&lt;00:00, 3.14B/s]",
            "_view_count": null,
            "_view_module_version": "1.5.0",
            "description_tooltip": null,
            "_model_module": "@jupyter-widgets/controls",
            "layout": "IPY_MODEL_5f7a6635c20b4aac801cb6481b1603e2"
          }
        },
        "7888da65c575472fbaf53aa5e8fc6bd0": {
          "model_module": "@jupyter-widgets/controls",
          "model_name": "ProgressStyleModel",
          "state": {
            "_view_name": "StyleView",
            "_model_name": "ProgressStyleModel",
            "description_width": "initial",
            "_view_module": "@jupyter-widgets/base",
            "_model_module_version": "1.5.0",
            "_view_count": null,
            "_view_module_version": "1.2.0",
            "bar_color": null,
            "_model_module": "@jupyter-widgets/controls"
          }
        },
        "680e3c92430149bfa93d2f9aa5b1d841": {
          "model_module": "@jupyter-widgets/base",
          "model_name": "LayoutModel",
          "state": {
            "_view_name": "LayoutView",
            "grid_template_rows": null,
            "right": null,
            "justify_content": null,
            "_view_module": "@jupyter-widgets/base",
            "overflow": null,
            "_model_module_version": "1.2.0",
            "_view_count": null,
            "flex_flow": null,
            "width": null,
            "min_width": null,
            "border": null,
            "align_items": null,
            "bottom": null,
            "_model_module": "@jupyter-widgets/base",
            "top": null,
            "grid_column": null,
            "overflow_y": null,
            "overflow_x": null,
            "grid_auto_flow": null,
            "grid_area": null,
            "grid_template_columns": null,
            "flex": null,
            "_model_name": "LayoutModel",
            "justify_items": null,
            "grid_row": null,
            "max_height": null,
            "align_content": null,
            "visibility": null,
            "align_self": null,
            "height": null,
            "min_height": null,
            "padding": null,
            "grid_auto_rows": null,
            "grid_gap": null,
            "max_width": null,
            "order": null,
            "_view_module_version": "1.2.0",
            "grid_template_areas": null,
            "object_position": null,
            "object_fit": null,
            "grid_auto_columns": null,
            "margin": null,
            "display": null,
            "left": null
          }
        },
        "a358d89d73ec448d84995270434e1ce3": {
          "model_module": "@jupyter-widgets/controls",
          "model_name": "DescriptionStyleModel",
          "state": {
            "_view_name": "StyleView",
            "_model_name": "DescriptionStyleModel",
            "description_width": "",
            "_view_module": "@jupyter-widgets/base",
            "_model_module_version": "1.5.0",
            "_view_count": null,
            "_view_module_version": "1.2.0",
            "_model_module": "@jupyter-widgets/controls"
          }
        },
        "5f7a6635c20b4aac801cb6481b1603e2": {
          "model_module": "@jupyter-widgets/base",
          "model_name": "LayoutModel",
          "state": {
            "_view_name": "LayoutView",
            "grid_template_rows": null,
            "right": null,
            "justify_content": null,
            "_view_module": "@jupyter-widgets/base",
            "overflow": null,
            "_model_module_version": "1.2.0",
            "_view_count": null,
            "flex_flow": null,
            "width": null,
            "min_width": null,
            "border": null,
            "align_items": null,
            "bottom": null,
            "_model_module": "@jupyter-widgets/base",
            "top": null,
            "grid_column": null,
            "overflow_y": null,
            "overflow_x": null,
            "grid_auto_flow": null,
            "grid_area": null,
            "grid_template_columns": null,
            "flex": null,
            "_model_name": "LayoutModel",
            "justify_items": null,
            "grid_row": null,
            "max_height": null,
            "align_content": null,
            "visibility": null,
            "align_self": null,
            "height": null,
            "min_height": null,
            "padding": null,
            "grid_auto_rows": null,
            "grid_gap": null,
            "max_width": null,
            "order": null,
            "_view_module_version": "1.2.0",
            "grid_template_areas": null,
            "object_position": null,
            "object_fit": null,
            "grid_auto_columns": null,
            "margin": null,
            "display": null,
            "left": null
          }
        },
        "69335d52aa5e4b318a45e8a17ed27f0f": {
          "model_module": "@jupyter-widgets/controls",
          "model_name": "HBoxModel",
          "state": {
            "_view_name": "HBoxView",
            "_dom_classes": [],
            "_model_name": "HBoxModel",
            "_view_module": "@jupyter-widgets/controls",
            "_model_module_version": "1.5.0",
            "_view_count": null,
            "_view_module_version": "1.5.0",
            "box_style": "",
            "layout": "IPY_MODEL_eb4d53b253bc40bc8a7c43501e3996a0",
            "_model_module": "@jupyter-widgets/controls",
            "children": [
              "IPY_MODEL_88eacc0f9843445b8de6a670baa1c31a",
              "IPY_MODEL_668ee0a7a0e14266a152f09e5eb78f1b"
            ]
          }
        },
        "eb4d53b253bc40bc8a7c43501e3996a0": {
          "model_module": "@jupyter-widgets/base",
          "model_name": "LayoutModel",
          "state": {
            "_view_name": "LayoutView",
            "grid_template_rows": null,
            "right": null,
            "justify_content": null,
            "_view_module": "@jupyter-widgets/base",
            "overflow": null,
            "_model_module_version": "1.2.0",
            "_view_count": null,
            "flex_flow": null,
            "width": null,
            "min_width": null,
            "border": null,
            "align_items": null,
            "bottom": null,
            "_model_module": "@jupyter-widgets/base",
            "top": null,
            "grid_column": null,
            "overflow_y": null,
            "overflow_x": null,
            "grid_auto_flow": null,
            "grid_area": null,
            "grid_template_columns": null,
            "flex": null,
            "_model_name": "LayoutModel",
            "justify_items": null,
            "grid_row": null,
            "max_height": null,
            "align_content": null,
            "visibility": null,
            "align_self": null,
            "height": null,
            "min_height": null,
            "padding": null,
            "grid_auto_rows": null,
            "grid_gap": null,
            "max_width": null,
            "order": null,
            "_view_module_version": "1.2.0",
            "grid_template_areas": null,
            "object_position": null,
            "object_fit": null,
            "grid_auto_columns": null,
            "margin": null,
            "display": null,
            "left": null
          }
        },
        "88eacc0f9843445b8de6a670baa1c31a": {
          "model_module": "@jupyter-widgets/controls",
          "model_name": "FloatProgressModel",
          "state": {
            "_view_name": "ProgressView",
            "style": "IPY_MODEL_c9dff814a6f34f2ca147dfb6586b5f1a",
            "_dom_classes": [],
            "description": "Downloading: 100%",
            "_model_name": "FloatProgressModel",
            "bar_style": "success",
            "max": 467042463,
            "_view_module": "@jupyter-widgets/controls",
            "_model_module_version": "1.5.0",
            "value": 467042463,
            "_view_count": null,
            "_view_module_version": "1.5.0",
            "orientation": "horizontal",
            "min": 0,
            "description_tooltip": null,
            "_model_module": "@jupyter-widgets/controls",
            "layout": "IPY_MODEL_af9525b21aa949bf8cc7643cf6848f55"
          }
        },
        "668ee0a7a0e14266a152f09e5eb78f1b": {
          "model_module": "@jupyter-widgets/controls",
          "model_name": "HTMLModel",
          "state": {
            "_view_name": "HTMLView",
            "style": "IPY_MODEL_781ac9afcaa4443481630a10c3918a40",
            "_dom_classes": [],
            "description": "",
            "_model_name": "HTMLModel",
            "placeholder": "​",
            "_view_module": "@jupyter-widgets/controls",
            "_model_module_version": "1.5.0",
            "value": " 467M/467M [00:06&lt;00:00, 77.4MB/s]",
            "_view_count": null,
            "_view_module_version": "1.5.0",
            "description_tooltip": null,
            "_model_module": "@jupyter-widgets/controls",
            "layout": "IPY_MODEL_7a55488a1c4f450aa01812309c30089a"
          }
        },
        "c9dff814a6f34f2ca147dfb6586b5f1a": {
          "model_module": "@jupyter-widgets/controls",
          "model_name": "ProgressStyleModel",
          "state": {
            "_view_name": "StyleView",
            "_model_name": "ProgressStyleModel",
            "description_width": "initial",
            "_view_module": "@jupyter-widgets/base",
            "_model_module_version": "1.5.0",
            "_view_count": null,
            "_view_module_version": "1.2.0",
            "bar_color": null,
            "_model_module": "@jupyter-widgets/controls"
          }
        },
        "af9525b21aa949bf8cc7643cf6848f55": {
          "model_module": "@jupyter-widgets/base",
          "model_name": "LayoutModel",
          "state": {
            "_view_name": "LayoutView",
            "grid_template_rows": null,
            "right": null,
            "justify_content": null,
            "_view_module": "@jupyter-widgets/base",
            "overflow": null,
            "_model_module_version": "1.2.0",
            "_view_count": null,
            "flex_flow": null,
            "width": null,
            "min_width": null,
            "border": null,
            "align_items": null,
            "bottom": null,
            "_model_module": "@jupyter-widgets/base",
            "top": null,
            "grid_column": null,
            "overflow_y": null,
            "overflow_x": null,
            "grid_auto_flow": null,
            "grid_area": null,
            "grid_template_columns": null,
            "flex": null,
            "_model_name": "LayoutModel",
            "justify_items": null,
            "grid_row": null,
            "max_height": null,
            "align_content": null,
            "visibility": null,
            "align_self": null,
            "height": null,
            "min_height": null,
            "padding": null,
            "grid_auto_rows": null,
            "grid_gap": null,
            "max_width": null,
            "order": null,
            "_view_module_version": "1.2.0",
            "grid_template_areas": null,
            "object_position": null,
            "object_fit": null,
            "grid_auto_columns": null,
            "margin": null,
            "display": null,
            "left": null
          }
        },
        "781ac9afcaa4443481630a10c3918a40": {
          "model_module": "@jupyter-widgets/controls",
          "model_name": "DescriptionStyleModel",
          "state": {
            "_view_name": "StyleView",
            "_model_name": "DescriptionStyleModel",
            "description_width": "",
            "_view_module": "@jupyter-widgets/base",
            "_model_module_version": "1.5.0",
            "_view_count": null,
            "_view_module_version": "1.2.0",
            "_model_module": "@jupyter-widgets/controls"
          }
        },
        "7a55488a1c4f450aa01812309c30089a": {
          "model_module": "@jupyter-widgets/base",
          "model_name": "LayoutModel",
          "state": {
            "_view_name": "LayoutView",
            "grid_template_rows": null,
            "right": null,
            "justify_content": null,
            "_view_module": "@jupyter-widgets/base",
            "overflow": null,
            "_model_module_version": "1.2.0",
            "_view_count": null,
            "flex_flow": null,
            "width": null,
            "min_width": null,
            "border": null,
            "align_items": null,
            "bottom": null,
            "_model_module": "@jupyter-widgets/base",
            "top": null,
            "grid_column": null,
            "overflow_y": null,
            "overflow_x": null,
            "grid_auto_flow": null,
            "grid_area": null,
            "grid_template_columns": null,
            "flex": null,
            "_model_name": "LayoutModel",
            "justify_items": null,
            "grid_row": null,
            "max_height": null,
            "align_content": null,
            "visibility": null,
            "align_self": null,
            "height": null,
            "min_height": null,
            "padding": null,
            "grid_auto_rows": null,
            "grid_gap": null,
            "max_width": null,
            "order": null,
            "_view_module_version": "1.2.0",
            "grid_template_areas": null,
            "object_position": null,
            "object_fit": null,
            "grid_auto_columns": null,
            "margin": null,
            "display": null,
            "left": null
          }
        }
      }
    }
  },
  "cells": [
    {
      "cell_type": "markdown",
      "metadata": {
        "id": "view-in-github",
        "colab_type": "text"
      },
      "source": [
        "<a href=\"https://colab.research.google.com/github/kumarikumari/Keras-Deep-Learning-Cookbook/blob/master/Copy_of_Copy_of_Sentiment_Analysis_Series_part_1.ipynb\" target=\"_parent\"><img src=\"https://colab.research.google.com/assets/colab-badge.svg\" alt=\"Open In Colab\"/></a>"
      ]
    },
    {
      "cell_type": "code",
      "metadata": {
        "id": "txqNzM1xIPIR",
        "colab": {
          "base_uri": "https://localhost:8080/"
        },
        "outputId": "ee732094-9f6c-4021-be1a-9bc203e8b464"
      },
      "source": [
        "from google.colab import drive\n",
        "drive.mount('/content/drive')"
      ],
      "execution_count": null,
      "outputs": [
        {
          "output_type": "stream",
          "text": [
            "Mounted at /content/drive\n"
          ],
          "name": "stdout"
        }
      ]
    },
    {
      "cell_type": "code",
      "metadata": {
        "id": "3m6sGbnGeXHk",
        "colab": {
          "base_uri": "https://localhost:8080/"
        },
        "outputId": "ab1134cc-1e42-4eee-8643-238e27207834"
      },
      "source": [
        "!nvidia-smi"
      ],
      "execution_count": null,
      "outputs": [
        {
          "output_type": "stream",
          "text": [
            "Sun Nov 29 10:16:29 2020       \n",
            "+-----------------------------------------------------------------------------+\n",
            "| NVIDIA-SMI 455.38       Driver Version: 418.67       CUDA Version: 10.1     |\n",
            "|-------------------------------+----------------------+----------------------+\n",
            "| GPU  Name        Persistence-M| Bus-Id        Disp.A | Volatile Uncorr. ECC |\n",
            "| Fan  Temp  Perf  Pwr:Usage/Cap|         Memory-Usage | GPU-Util  Compute M. |\n",
            "|                               |                      |               MIG M. |\n",
            "|===============================+======================+======================|\n",
            "|   0  Tesla T4            Off  | 00000000:00:04.0 Off |                    0 |\n",
            "| N/A   58C    P8    12W /  70W |      0MiB / 15079MiB |      0%      Default |\n",
            "|                               |                      |                 ERR! |\n",
            "+-------------------------------+----------------------+----------------------+\n",
            "                                                                               \n",
            "+-----------------------------------------------------------------------------+\n",
            "| Processes:                                                                  |\n",
            "|  GPU   GI   CI        PID   Type   Process name                  GPU Memory |\n",
            "|        ID   ID                                                   Usage      |\n",
            "|=============================================================================|\n",
            "|  No running processes found                                                 |\n",
            "+-----------------------------------------------------------------------------+\n"
          ],
          "name": "stdout"
        }
      ]
    },
    {
      "cell_type": "code",
      "metadata": {
        "id": "HqQKcukJAicL",
        "colab": {
          "base_uri": "https://localhost:8080/"
        },
        "outputId": "1e8b650c-5401-44fa-eaa4-dc1b8924bc28"
      },
      "source": [
        "!pip install transformers"
      ],
      "execution_count": null,
      "outputs": [
        {
          "output_type": "stream",
          "text": [
            "Collecting transformers\n",
            "\u001b[?25l  Downloading https://files.pythonhosted.org/packages/3a/83/e74092e7f24a08d751aa59b37a9fc572b2e4af3918cb66f7766c3affb1b4/transformers-3.5.1-py3-none-any.whl (1.3MB)\n",
            "\r\u001b[K     |▎                               | 10kB 24.4MB/s eta 0:00:01\r\u001b[K     |▌                               | 20kB 30.6MB/s eta 0:00:01\r\u001b[K     |▊                               | 30kB 22.8MB/s eta 0:00:01\r\u001b[K     |█                               | 40kB 20.9MB/s eta 0:00:01\r\u001b[K     |█▎                              | 51kB 21.8MB/s eta 0:00:01\r\u001b[K     |█▌                              | 61kB 15.9MB/s eta 0:00:01\r\u001b[K     |█▊                              | 71kB 15.5MB/s eta 0:00:01\r\u001b[K     |██                              | 81kB 16.9MB/s eta 0:00:01\r\u001b[K     |██▎                             | 92kB 15.9MB/s eta 0:00:01\r\u001b[K     |██▌                             | 102kB 17.1MB/s eta 0:00:01\r\u001b[K     |██▊                             | 112kB 17.1MB/s eta 0:00:01\r\u001b[K     |███                             | 122kB 17.1MB/s eta 0:00:01\r\u001b[K     |███▎                            | 133kB 17.1MB/s eta 0:00:01\r\u001b[K     |███▌                            | 143kB 17.1MB/s eta 0:00:01\r\u001b[K     |███▉                            | 153kB 17.1MB/s eta 0:00:01\r\u001b[K     |████                            | 163kB 17.1MB/s eta 0:00:01\r\u001b[K     |████▎                           | 174kB 17.1MB/s eta 0:00:01\r\u001b[K     |████▌                           | 184kB 17.1MB/s eta 0:00:01\r\u001b[K     |████▉                           | 194kB 17.1MB/s eta 0:00:01\r\u001b[K     |█████                           | 204kB 17.1MB/s eta 0:00:01\r\u001b[K     |█████▎                          | 215kB 17.1MB/s eta 0:00:01\r\u001b[K     |█████▌                          | 225kB 17.1MB/s eta 0:00:01\r\u001b[K     |█████▉                          | 235kB 17.1MB/s eta 0:00:01\r\u001b[K     |██████                          | 245kB 17.1MB/s eta 0:00:01\r\u001b[K     |██████▎                         | 256kB 17.1MB/s eta 0:00:01\r\u001b[K     |██████▌                         | 266kB 17.1MB/s eta 0:00:01\r\u001b[K     |██████▉                         | 276kB 17.1MB/s eta 0:00:01\r\u001b[K     |███████                         | 286kB 17.1MB/s eta 0:00:01\r\u001b[K     |███████▎                        | 296kB 17.1MB/s eta 0:00:01\r\u001b[K     |███████▋                        | 307kB 17.1MB/s eta 0:00:01\r\u001b[K     |███████▉                        | 317kB 17.1MB/s eta 0:00:01\r\u001b[K     |████████                        | 327kB 17.1MB/s eta 0:00:01\r\u001b[K     |████████▎                       | 337kB 17.1MB/s eta 0:00:01\r\u001b[K     |████████▋                       | 348kB 17.1MB/s eta 0:00:01\r\u001b[K     |████████▉                       | 358kB 17.1MB/s eta 0:00:01\r\u001b[K     |█████████                       | 368kB 17.1MB/s eta 0:00:01\r\u001b[K     |█████████▎                      | 378kB 17.1MB/s eta 0:00:01\r\u001b[K     |█████████▋                      | 389kB 17.1MB/s eta 0:00:01\r\u001b[K     |█████████▉                      | 399kB 17.1MB/s eta 0:00:01\r\u001b[K     |██████████                      | 409kB 17.1MB/s eta 0:00:01\r\u001b[K     |██████████▎                     | 419kB 17.1MB/s eta 0:00:01\r\u001b[K     |██████████▋                     | 430kB 17.1MB/s eta 0:00:01\r\u001b[K     |██████████▉                     | 440kB 17.1MB/s eta 0:00:01\r\u001b[K     |███████████                     | 450kB 17.1MB/s eta 0:00:01\r\u001b[K     |███████████▍                    | 460kB 17.1MB/s eta 0:00:01\r\u001b[K     |███████████▋                    | 471kB 17.1MB/s eta 0:00:01\r\u001b[K     |███████████▉                    | 481kB 17.1MB/s eta 0:00:01\r\u001b[K     |████████████                    | 491kB 17.1MB/s eta 0:00:01\r\u001b[K     |████████████▍                   | 501kB 17.1MB/s eta 0:00:01\r\u001b[K     |████████████▋                   | 512kB 17.1MB/s eta 0:00:01\r\u001b[K     |████████████▉                   | 522kB 17.1MB/s eta 0:00:01\r\u001b[K     |█████████████                   | 532kB 17.1MB/s eta 0:00:01\r\u001b[K     |█████████████▍                  | 542kB 17.1MB/s eta 0:00:01\r\u001b[K     |█████████████▋                  | 552kB 17.1MB/s eta 0:00:01\r\u001b[K     |█████████████▉                  | 563kB 17.1MB/s eta 0:00:01\r\u001b[K     |██████████████                  | 573kB 17.1MB/s eta 0:00:01\r\u001b[K     |██████████████▍                 | 583kB 17.1MB/s eta 0:00:01\r\u001b[K     |██████████████▋                 | 593kB 17.1MB/s eta 0:00:01\r\u001b[K     |██████████████▉                 | 604kB 17.1MB/s eta 0:00:01\r\u001b[K     |███████████████▏                | 614kB 17.1MB/s eta 0:00:01\r\u001b[K     |███████████████▍                | 624kB 17.1MB/s eta 0:00:01\r\u001b[K     |███████████████▋                | 634kB 17.1MB/s eta 0:00:01\r\u001b[K     |███████████████▉                | 645kB 17.1MB/s eta 0:00:01\r\u001b[K     |████████████████▏               | 655kB 17.1MB/s eta 0:00:01\r\u001b[K     |████████████████▍               | 665kB 17.1MB/s eta 0:00:01\r\u001b[K     |████████████████▋               | 675kB 17.1MB/s eta 0:00:01\r\u001b[K     |████████████████▉               | 686kB 17.1MB/s eta 0:00:01\r\u001b[K     |█████████████████▏              | 696kB 17.1MB/s eta 0:00:01\r\u001b[K     |█████████████████▍              | 706kB 17.1MB/s eta 0:00:01\r\u001b[K     |█████████████████▋              | 716kB 17.1MB/s eta 0:00:01\r\u001b[K     |██████████████████              | 727kB 17.1MB/s eta 0:00:01\r\u001b[K     |██████████████████▏             | 737kB 17.1MB/s eta 0:00:01\r\u001b[K     |██████████████████▍             | 747kB 17.1MB/s eta 0:00:01\r\u001b[K     |██████████████████▋             | 757kB 17.1MB/s eta 0:00:01\r\u001b[K     |███████████████████             | 768kB 17.1MB/s eta 0:00:01\r\u001b[K     |███████████████████▏            | 778kB 17.1MB/s eta 0:00:01\r\u001b[K     |███████████████████▍            | 788kB 17.1MB/s eta 0:00:01\r\u001b[K     |███████████████████▋            | 798kB 17.1MB/s eta 0:00:01\r\u001b[K     |████████████████████            | 808kB 17.1MB/s eta 0:00:01\r\u001b[K     |████████████████████▏           | 819kB 17.1MB/s eta 0:00:01\r\u001b[K     |████████████████████▍           | 829kB 17.1MB/s eta 0:00:01\r\u001b[K     |████████████████████▋           | 839kB 17.1MB/s eta 0:00:01\r\u001b[K     |█████████████████████           | 849kB 17.1MB/s eta 0:00:01\r\u001b[K     |█████████████████████▏          | 860kB 17.1MB/s eta 0:00:01\r\u001b[K     |█████████████████████▍          | 870kB 17.1MB/s eta 0:00:01\r\u001b[K     |█████████████████████▊          | 880kB 17.1MB/s eta 0:00:01\r\u001b[K     |██████████████████████          | 890kB 17.1MB/s eta 0:00:01\r\u001b[K     |██████████████████████▏         | 901kB 17.1MB/s eta 0:00:01\r\u001b[K     |██████████████████████▍         | 911kB 17.1MB/s eta 0:00:01\r\u001b[K     |██████████████████████▊         | 921kB 17.1MB/s eta 0:00:01\r\u001b[K     |███████████████████████         | 931kB 17.1MB/s eta 0:00:01\r\u001b[K     |███████████████████████▏        | 942kB 17.1MB/s eta 0:00:01\r\u001b[K     |███████████████████████▍        | 952kB 17.1MB/s eta 0:00:01\r\u001b[K     |███████████████████████▊        | 962kB 17.1MB/s eta 0:00:01\r\u001b[K     |████████████████████████        | 972kB 17.1MB/s eta 0:00:01\r\u001b[K     |████████████████████████▏       | 983kB 17.1MB/s eta 0:00:01\r\u001b[K     |████████████████████████▍       | 993kB 17.1MB/s eta 0:00:01\r\u001b[K     |████████████████████████▊       | 1.0MB 17.1MB/s eta 0:00:01\r\u001b[K     |█████████████████████████       | 1.0MB 17.1MB/s eta 0:00:01\r\u001b[K     |█████████████████████████▏      | 1.0MB 17.1MB/s eta 0:00:01\r\u001b[K     |█████████████████████████▌      | 1.0MB 17.1MB/s eta 0:00:01\r\u001b[K     |█████████████████████████▊      | 1.0MB 17.1MB/s eta 0:00:01\r\u001b[K     |██████████████████████████      | 1.1MB 17.1MB/s eta 0:00:01\r\u001b[K     |██████████████████████████▏     | 1.1MB 17.1MB/s eta 0:00:01\r\u001b[K     |██████████████████████████▌     | 1.1MB 17.1MB/s eta 0:00:01\r\u001b[K     |██████████████████████████▊     | 1.1MB 17.1MB/s eta 0:00:01\r\u001b[K     |███████████████████████████     | 1.1MB 17.1MB/s eta 0:00:01\r\u001b[K     |███████████████████████████▏    | 1.1MB 17.1MB/s eta 0:00:01\r\u001b[K     |███████████████████████████▌    | 1.1MB 17.1MB/s eta 0:00:01\r\u001b[K     |███████████████████████████▊    | 1.1MB 17.1MB/s eta 0:00:01\r\u001b[K     |████████████████████████████    | 1.1MB 17.1MB/s eta 0:00:01\r\u001b[K     |████████████████████████████▏   | 1.1MB 17.1MB/s eta 0:00:01\r\u001b[K     |████████████████████████████▌   | 1.2MB 17.1MB/s eta 0:00:01\r\u001b[K     |████████████████████████████▊   | 1.2MB 17.1MB/s eta 0:00:01\r\u001b[K     |█████████████████████████████   | 1.2MB 17.1MB/s eta 0:00:01\r\u001b[K     |█████████████████████████████▎  | 1.2MB 17.1MB/s eta 0:00:01\r\u001b[K     |█████████████████████████████▌  | 1.2MB 17.1MB/s eta 0:00:01\r\u001b[K     |█████████████████████████████▊  | 1.2MB 17.1MB/s eta 0:00:01\r\u001b[K     |██████████████████████████████  | 1.2MB 17.1MB/s eta 0:00:01\r\u001b[K     |██████████████████████████████▎ | 1.2MB 17.1MB/s eta 0:00:01\r\u001b[K     |██████████████████████████████▌ | 1.2MB 17.1MB/s eta 0:00:01\r\u001b[K     |██████████████████████████████▊ | 1.2MB 17.1MB/s eta 0:00:01\r\u001b[K     |███████████████████████████████ | 1.3MB 17.1MB/s eta 0:00:01\r\u001b[K     |███████████████████████████████▎| 1.3MB 17.1MB/s eta 0:00:01\r\u001b[K     |███████████████████████████████▌| 1.3MB 17.1MB/s eta 0:00:01\r\u001b[K     |███████████████████████████████▊| 1.3MB 17.1MB/s eta 0:00:01\r\u001b[K     |████████████████████████████████| 1.3MB 17.1MB/s eta 0:00:01\r\u001b[K     |████████████████████████████████| 1.3MB 17.1MB/s \n",
            "\u001b[?25hRequirement already satisfied: tqdm>=4.27 in /usr/local/lib/python3.6/dist-packages (from transformers) (4.41.1)\n",
            "Requirement already satisfied: regex!=2019.12.17 in /usr/local/lib/python3.6/dist-packages (from transformers) (2019.12.20)\n",
            "Collecting tokenizers==0.9.3\n",
            "\u001b[?25l  Downloading https://files.pythonhosted.org/packages/4c/34/b39eb9994bc3c999270b69c9eea40ecc6f0e97991dba28282b9fd32d44ee/tokenizers-0.9.3-cp36-cp36m-manylinux1_x86_64.whl (2.9MB)\n",
            "\u001b[K     |████████████████████████████████| 2.9MB 52.6MB/s \n",
            "\u001b[?25hRequirement already satisfied: packaging in /usr/local/lib/python3.6/dist-packages (from transformers) (20.4)\n",
            "Requirement already satisfied: protobuf in /usr/local/lib/python3.6/dist-packages (from transformers) (3.12.4)\n",
            "Requirement already satisfied: requests in /usr/local/lib/python3.6/dist-packages (from transformers) (2.23.0)\n",
            "Collecting sacremoses\n",
            "\u001b[?25l  Downloading https://files.pythonhosted.org/packages/7d/34/09d19aff26edcc8eb2a01bed8e98f13a1537005d31e95233fd48216eed10/sacremoses-0.0.43.tar.gz (883kB)\n",
            "\u001b[K     |████████████████████████████████| 890kB 60.4MB/s \n",
            "\u001b[?25hCollecting sentencepiece==0.1.91\n",
            "\u001b[?25l  Downloading https://files.pythonhosted.org/packages/d4/a4/d0a884c4300004a78cca907a6ff9a5e9fe4f090f5d95ab341c53d28cbc58/sentencepiece-0.1.91-cp36-cp36m-manylinux1_x86_64.whl (1.1MB)\n",
            "\u001b[K     |████████████████████████████████| 1.1MB 53.8MB/s \n",
            "\u001b[?25hRequirement already satisfied: numpy in /usr/local/lib/python3.6/dist-packages (from transformers) (1.18.5)\n",
            "Requirement already satisfied: dataclasses; python_version < \"3.7\" in /usr/local/lib/python3.6/dist-packages (from transformers) (0.8)\n",
            "Requirement already satisfied: filelock in /usr/local/lib/python3.6/dist-packages (from transformers) (3.0.12)\n",
            "Requirement already satisfied: pyparsing>=2.0.2 in /usr/local/lib/python3.6/dist-packages (from packaging->transformers) (2.4.7)\n",
            "Requirement already satisfied: six in /usr/local/lib/python3.6/dist-packages (from packaging->transformers) (1.15.0)\n",
            "Requirement already satisfied: setuptools in /usr/local/lib/python3.6/dist-packages (from protobuf->transformers) (50.3.2)\n",
            "Requirement already satisfied: chardet<4,>=3.0.2 in /usr/local/lib/python3.6/dist-packages (from requests->transformers) (3.0.4)\n",
            "Requirement already satisfied: certifi>=2017.4.17 in /usr/local/lib/python3.6/dist-packages (from requests->transformers) (2020.11.8)\n",
            "Requirement already satisfied: urllib3!=1.25.0,!=1.25.1,<1.26,>=1.21.1 in /usr/local/lib/python3.6/dist-packages (from requests->transformers) (1.24.3)\n",
            "Requirement already satisfied: idna<3,>=2.5 in /usr/local/lib/python3.6/dist-packages (from requests->transformers) (2.10)\n",
            "Requirement already satisfied: click in /usr/local/lib/python3.6/dist-packages (from sacremoses->transformers) (7.1.2)\n",
            "Requirement already satisfied: joblib in /usr/local/lib/python3.6/dist-packages (from sacremoses->transformers) (0.17.0)\n",
            "Building wheels for collected packages: sacremoses\n",
            "  Building wheel for sacremoses (setup.py) ... \u001b[?25l\u001b[?25hdone\n",
            "  Created wheel for sacremoses: filename=sacremoses-0.0.43-cp36-none-any.whl size=893257 sha256=26daef506a07630643f0224086f828a20b7221dd49353b0082abfd5cc9444bf3\n",
            "  Stored in directory: /root/.cache/pip/wheels/29/3c/fd/7ce5c3f0666dab31a50123635e6fb5e19ceb42ce38d4e58f45\n",
            "Successfully built sacremoses\n",
            "Installing collected packages: tokenizers, sacremoses, sentencepiece, transformers\n",
            "Successfully installed sacremoses-0.0.43 sentencepiece-0.1.91 tokenizers-0.9.3 transformers-3.5.1\n"
          ],
          "name": "stdout"
        }
      ]
    },
    {
      "cell_type": "code",
      "metadata": {
        "id": "U8FRjwBo15uT"
      },
      "source": [
        "!pip install -q -U watermark"
      ],
      "execution_count": null,
      "outputs": []
    },
    {
      "cell_type": "code",
      "metadata": {
        "id": "3DNdmQhn2D43",
        "colab": {
          "base_uri": "https://localhost:8080/"
        },
        "outputId": "82f103c5-151a-45c5-c241-88be50d6add8"
      },
      "source": [
        "%reload_ext watermark\n",
        "%watermark -v -p numpy,pandas,torch,transformers"
      ],
      "execution_count": null,
      "outputs": [
        {
          "output_type": "stream",
          "text": [
            "CPython 3.6.9\n",
            "IPython 5.5.0\n",
            "\n",
            "numpy 1.18.5\n",
            "pandas 1.1.4\n",
            "torch 1.7.0+cu101\n",
            "transformers 3.5.1\n"
          ],
          "name": "stdout"
        }
      ]
    },
    {
      "cell_type": "code",
      "metadata": {
        "id": "I43EIdEoyNJh",
        "colab": {
          "base_uri": "https://localhost:8080/"
        },
        "outputId": "c3291fea-02db-4ad6-a7aa-8d3c779c06e0"
      },
      "source": [
        "!pip install sklearn\n",
        "import sklearn"
      ],
      "execution_count": null,
      "outputs": [
        {
          "output_type": "stream",
          "text": [
            "Requirement already satisfied: sklearn in /usr/local/lib/python3.6/dist-packages (0.0)\n",
            "Requirement already satisfied: scikit-learn in /usr/local/lib/python3.6/dist-packages (from sklearn) (0.22.2.post1)\n",
            "Requirement already satisfied: joblib>=0.11 in /usr/local/lib/python3.6/dist-packages (from scikit-learn->sklearn) (0.17.0)\n",
            "Requirement already satisfied: scipy>=0.17.0 in /usr/local/lib/python3.6/dist-packages (from scikit-learn->sklearn) (1.4.1)\n",
            "Requirement already satisfied: numpy>=1.11.0 in /usr/local/lib/python3.6/dist-packages (from scikit-learn->sklearn) (1.18.5)\n"
          ],
          "name": "stdout"
        }
      ]
    },
    {
      "cell_type": "markdown",
      "metadata": {
        "id": "Mk0GnvUQIdxc"
      },
      "source": [
        "### Making the necessary imports"
      ]
    },
    {
      "cell_type": "code",
      "metadata": {
        "id": "dOpc8w_12D1f"
      },
      "source": [
        "import transformers\n",
        "from transformers import XLNetTokenizer, XLNetModel, AdamW, get_linear_schedule_with_warmup\n",
        "import torch\n",
        "\n",
        "import numpy as np\n",
        "import pandas as pd\n",
        "import seaborn as sns\n",
        "import matplotlib.pyplot as plt\n",
        "from matplotlib import rc\n",
        "from sklearn.model_selection import train_test_split\n",
        "from sklearn.metrics import confusion_matrix\n",
        "from sklearn.metrics import classification_report\n",
        "from sklearn.metrics import accuracy_score\n",
        "from collections import defaultdict\n",
        "from textwrap import wrap\n",
        "from pylab import rcParams\n",
        "\n",
        "from torch import nn, optim\n",
        "from keras.preprocessing.sequence import pad_sequences\n",
        "from torch.utils.data import TensorDataset,RandomSampler,SequentialSampler\n",
        "from torch.utils.data import Dataset, DataLoader\n",
        "import torch.nn.functional as F"
      ],
      "execution_count": null,
      "outputs": []
    },
    {
      "cell_type": "code",
      "metadata": {
        "id": "qAICzZNo2Dyw",
        "colab": {
          "base_uri": "https://localhost:8080/"
        },
        "outputId": "ba6ac577-efdd-48b1-87cb-6445cd28b0a7"
      },
      "source": [
        "%matplotlib inline\n",
        "%config InlineBackend.figure_format='retina'\n",
        "\n",
        "sns.set(style='whitegrid', palette='muted', font_scale=1.2)\n",
        "\n",
        "HAPPY_COLORS_PALETTE = [\"#01BEFE\", \"#FFDD00\", \"#FF7D00\", \"#FF006D\", \"#ADFF02\", \"#8F00FF\"]\n",
        "\n",
        "sns.set_palette(sns.color_palette(HAPPY_COLORS_PALETTE))\n",
        "\n",
        "rcParams['figure.figsize'] = 12, 8\n",
        "\n",
        "RANDOM_SEED = 42\n",
        "np.random.seed(RANDOM_SEED)\n",
        "torch.manual_seed(RANDOM_SEED)\n",
        "\n",
        "device = torch.device(\"cuda:0\" if torch.cuda.is_available() else \"cpu\")\n",
        "device"
      ],
      "execution_count": null,
      "outputs": [
        {
          "output_type": "execute_result",
          "data": {
            "text/plain": [
              "device(type='cuda', index=0)"
            ]
          },
          "metadata": {
            "tags": []
          },
          "execution_count": 8
        }
      ]
    },
    {
      "cell_type": "markdown",
      "metadata": {
        "id": "gC-WS1hYIxkr"
      },
      "source": [
        "### Data Preprocessing"
      ]
    },
    {
      "cell_type": "code",
      "metadata": {
        "id": "Q9idUaM7y404",
        "colab": {
          "resources": {
            "http://localhost:8080/nbextensions/google.colab/files.js": {
              "data": "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",
              "ok": true,
              "headers": [
                [
                  "content-type",
                  "application/javascript"
                ]
              ],
              "status": 200,
              "status_text": ""
            }
          },
          "base_uri": "https://localhost:8080/",
          "height": 72
        },
        "outputId": "ae92831b-7d6b-4ed2-ada7-0b44ecf2f4c8"
      },
      "source": [
        "from google.colab import files\n",
        "files.upload()"
      ],
      "execution_count": null,
      "outputs": [
        {
          "output_type": "display_data",
          "data": {
            "text/html": [
              "\n",
              "     <input type=\"file\" id=\"files-de7f74cd-beab-4869-ad4f-741364b2dcd0\" name=\"files[]\" multiple disabled\n",
              "        style=\"border:none\" />\n",
              "     <output id=\"result-de7f74cd-beab-4869-ad4f-741364b2dcd0\">\n",
              "      Upload widget is only available when the cell has been executed in the\n",
              "      current browser session. Please rerun this cell to enable.\n",
              "      </output>\n",
              "      <script src=\"/nbextensions/google.colab/files.js\"></script> "
            ],
            "text/plain": [
              "<IPython.core.display.HTML object>"
            ]
          },
          "metadata": {
            "tags": []
          }
        },
        {
          "output_type": "stream",
          "text": [
            "Saving IMDBDataset.csv to IMDBDataset.csv\n"
          ],
          "name": "stdout"
        }
      ]
    },
    {
      "cell_type": "code",
      "metadata": {
        "id": "jJ83RaRG2Dv8",
        "colab": {
          "base_uri": "https://localhost:8080/",
          "height": 204
        },
        "outputId": "d53342da-b8ec-45e2-8c65-7c06d4f39b01"
      },
      "source": [
        "df = pd.read_csv('IMDBDataset.csv')\n",
        "df.head()"
      ],
      "execution_count": null,
      "outputs": [
        {
          "output_type": "execute_result",
          "data": {
            "text/html": [
              "<div>\n",
              "<style scoped>\n",
              "    .dataframe tbody tr th:only-of-type {\n",
              "        vertical-align: middle;\n",
              "    }\n",
              "\n",
              "    .dataframe tbody tr th {\n",
              "        vertical-align: top;\n",
              "    }\n",
              "\n",
              "    .dataframe thead th {\n",
              "        text-align: right;\n",
              "    }\n",
              "</style>\n",
              "<table border=\"1\" class=\"dataframe\">\n",
              "  <thead>\n",
              "    <tr style=\"text-align: right;\">\n",
              "      <th></th>\n",
              "      <th>review</th>\n",
              "      <th>sentiment</th>\n",
              "    </tr>\n",
              "  </thead>\n",
              "  <tbody>\n",
              "    <tr>\n",
              "      <th>0</th>\n",
              "      <td>One of the other reviewers has mentioned that ...</td>\n",
              "      <td>positive</td>\n",
              "    </tr>\n",
              "    <tr>\n",
              "      <th>1</th>\n",
              "      <td>A wonderful little production. &lt;br /&gt;&lt;br /&gt;The...</td>\n",
              "      <td>positive</td>\n",
              "    </tr>\n",
              "    <tr>\n",
              "      <th>2</th>\n",
              "      <td>I thought this was a wonderful way to spend ti...</td>\n",
              "      <td>positive</td>\n",
              "    </tr>\n",
              "    <tr>\n",
              "      <th>3</th>\n",
              "      <td>Basically there's a family where a little boy ...</td>\n",
              "      <td>negative</td>\n",
              "    </tr>\n",
              "    <tr>\n",
              "      <th>4</th>\n",
              "      <td>Petter Mattei's \"Love in the Time of Money\" is...</td>\n",
              "      <td>positive</td>\n",
              "    </tr>\n",
              "  </tbody>\n",
              "</table>\n",
              "</div>"
            ],
            "text/plain": [
              "                                              review sentiment\n",
              "0  One of the other reviewers has mentioned that ...  positive\n",
              "1  A wonderful little production. <br /><br />The...  positive\n",
              "2  I thought this was a wonderful way to spend ti...  positive\n",
              "3  Basically there's a family where a little boy ...  negative\n",
              "4  Petter Mattei's \"Love in the Time of Money\" is...  positive"
            ]
          },
          "metadata": {
            "tags": []
          },
          "execution_count": 10
        }
      ]
    },
    {
      "cell_type": "code",
      "metadata": {
        "id": "4J5-ddIc2DtI",
        "colab": {
          "base_uri": "https://localhost:8080/",
          "height": 669
        },
        "outputId": "28e6f03d-79b7-4bed-ebe0-0025ec873414"
      },
      "source": [
        "from sklearn.utils import shuffle\n",
        "df = shuffle(df)\n",
        "df.head(20)"
      ],
      "execution_count": null,
      "outputs": [
        {
          "output_type": "execute_result",
          "data": {
            "text/html": [
              "<div>\n",
              "<style scoped>\n",
              "    .dataframe tbody tr th:only-of-type {\n",
              "        vertical-align: middle;\n",
              "    }\n",
              "\n",
              "    .dataframe tbody tr th {\n",
              "        vertical-align: top;\n",
              "    }\n",
              "\n",
              "    .dataframe thead th {\n",
              "        text-align: right;\n",
              "    }\n",
              "</style>\n",
              "<table border=\"1\" class=\"dataframe\">\n",
              "  <thead>\n",
              "    <tr style=\"text-align: right;\">\n",
              "      <th></th>\n",
              "      <th>review</th>\n",
              "      <th>sentiment</th>\n",
              "    </tr>\n",
              "  </thead>\n",
              "  <tbody>\n",
              "    <tr>\n",
              "      <th>33553</th>\n",
              "      <td>I really liked this Summerslam due to the look...</td>\n",
              "      <td>positive</td>\n",
              "    </tr>\n",
              "    <tr>\n",
              "      <th>9427</th>\n",
              "      <td>Not many television shows appeal to quite as m...</td>\n",
              "      <td>positive</td>\n",
              "    </tr>\n",
              "    <tr>\n",
              "      <th>199</th>\n",
              "      <td>The film quickly gets to a major chase scene w...</td>\n",
              "      <td>negative</td>\n",
              "    </tr>\n",
              "    <tr>\n",
              "      <th>12447</th>\n",
              "      <td>Jane Austen would definitely approve of this o...</td>\n",
              "      <td>positive</td>\n",
              "    </tr>\n",
              "    <tr>\n",
              "      <th>39489</th>\n",
              "      <td>Expectations were somewhat high for me when I ...</td>\n",
              "      <td>negative</td>\n",
              "    </tr>\n",
              "    <tr>\n",
              "      <th>42724</th>\n",
              "      <td>I've watched this movie on a fairly regular ba...</td>\n",
              "      <td>positive</td>\n",
              "    </tr>\n",
              "    <tr>\n",
              "      <th>10822</th>\n",
              "      <td>For once a story of hope highlighted over the ...</td>\n",
              "      <td>positive</td>\n",
              "    </tr>\n",
              "    <tr>\n",
              "      <th>49498</th>\n",
              "      <td>Okay, I didn't get the Purgatory thing the fir...</td>\n",
              "      <td>positive</td>\n",
              "    </tr>\n",
              "    <tr>\n",
              "      <th>4144</th>\n",
              "      <td>I was very disappointed with this series. It h...</td>\n",
              "      <td>negative</td>\n",
              "    </tr>\n",
              "    <tr>\n",
              "      <th>36958</th>\n",
              "      <td>The first 30 minutes of Tinseltown had my fing...</td>\n",
              "      <td>negative</td>\n",
              "    </tr>\n",
              "    <tr>\n",
              "      <th>43106</th>\n",
              "      <td>jeez, this was immensely boring. the leading m...</td>\n",
              "      <td>negative</td>\n",
              "    </tr>\n",
              "    <tr>\n",
              "      <th>38695</th>\n",
              "      <td>Great just great! The West Coast got \"Dirty\" H...</td>\n",
              "      <td>positive</td>\n",
              "    </tr>\n",
              "    <tr>\n",
              "      <th>6188</th>\n",
              "      <td>It's made in 2007 and the CG is bad for a movi...</td>\n",
              "      <td>negative</td>\n",
              "    </tr>\n",
              "    <tr>\n",
              "      <th>1414</th>\n",
              "      <td>This movie stinks majorly. The only reason I g...</td>\n",
              "      <td>negative</td>\n",
              "    </tr>\n",
              "    <tr>\n",
              "      <th>18471</th>\n",
              "      <td>We can start with the wooden acting but this f...</td>\n",
              "      <td>negative</td>\n",
              "    </tr>\n",
              "    <tr>\n",
              "      <th>29282</th>\n",
              "      <td>This movie starts off somewhat slowly and gets...</td>\n",
              "      <td>positive</td>\n",
              "    </tr>\n",
              "    <tr>\n",
              "      <th>15177</th>\n",
              "      <td>This is a slightly uneven entry with one stand...</td>\n",
              "      <td>positive</td>\n",
              "    </tr>\n",
              "    <tr>\n",
              "      <th>34304</th>\n",
              "      <td>I was first introduced to John Waters films by...</td>\n",
              "      <td>positive</td>\n",
              "    </tr>\n",
              "    <tr>\n",
              "      <th>12609</th>\n",
              "      <td>This movie has very good acting by virtually a...</td>\n",
              "      <td>positive</td>\n",
              "    </tr>\n",
              "    <tr>\n",
              "      <th>12144</th>\n",
              "      <td>I can't help but notice the negative reviews t...</td>\n",
              "      <td>positive</td>\n",
              "    </tr>\n",
              "  </tbody>\n",
              "</table>\n",
              "</div>"
            ],
            "text/plain": [
              "                                                  review sentiment\n",
              "33553  I really liked this Summerslam due to the look...  positive\n",
              "9427   Not many television shows appeal to quite as m...  positive\n",
              "199    The film quickly gets to a major chase scene w...  negative\n",
              "12447  Jane Austen would definitely approve of this o...  positive\n",
              "39489  Expectations were somewhat high for me when I ...  negative\n",
              "42724  I've watched this movie on a fairly regular ba...  positive\n",
              "10822  For once a story of hope highlighted over the ...  positive\n",
              "49498  Okay, I didn't get the Purgatory thing the fir...  positive\n",
              "4144   I was very disappointed with this series. It h...  negative\n",
              "36958  The first 30 minutes of Tinseltown had my fing...  negative\n",
              "43106  jeez, this was immensely boring. the leading m...  negative\n",
              "38695  Great just great! The West Coast got \"Dirty\" H...  positive\n",
              "6188   It's made in 2007 and the CG is bad for a movi...  negative\n",
              "1414   This movie stinks majorly. The only reason I g...  negative\n",
              "18471  We can start with the wooden acting but this f...  negative\n",
              "29282  This movie starts off somewhat slowly and gets...  positive\n",
              "15177  This is a slightly uneven entry with one stand...  positive\n",
              "34304  I was first introduced to John Waters films by...  positive\n",
              "12609  This movie has very good acting by virtually a...  positive\n",
              "12144  I can't help but notice the negative reviews t...  positive"
            ]
          },
          "metadata": {
            "tags": []
          },
          "execution_count": 11
        }
      ]
    },
    {
      "cell_type": "code",
      "metadata": {
        "id": "uMSFcIqsdZyH",
        "colab": {
          "base_uri": "https://localhost:8080/"
        },
        "outputId": "e988f1ad-752e-4df2-da9b-e74cb9339c66"
      },
      "source": [
        "df = df[:2000]\n",
        "len(df)"
      ],
      "execution_count": null,
      "outputs": [
        {
          "output_type": "execute_result",
          "data": {
            "text/plain": [
              "2000"
            ]
          },
          "metadata": {
            "tags": []
          },
          "execution_count": 12
        }
      ]
    },
    {
      "cell_type": "code",
      "metadata": {
        "id": "GluMm1Nj2DqK"
      },
      "source": [
        "import re\n",
        "def clean_text(text):\n",
        "    text = re.sub(r\"@[A-Za-z0-9]+\", ' ', text)\n",
        "    text = re.sub(r\"https?://[A-Za-z0-9./]+\", ' ', text)\n",
        "    text = re.sub(r\"[^a-zA-z.!?'0-9]\", ' ', text)\n",
        "    text = re.sub('\\t', ' ',  text)\n",
        "    text = re.sub(r\" +\", ' ', text)\n",
        "    return text"
      ],
      "execution_count": null,
      "outputs": []
    },
    {
      "cell_type": "code",
      "metadata": {
        "id": "8HpgvTb72wtm"
      },
      "source": [
        "df['review'] = df['review'].apply(clean_text)"
      ],
      "execution_count": null,
      "outputs": []
    },
    {
      "cell_type": "code",
      "metadata": {
        "id": "ptC13l5r25qH",
        "colab": {
          "base_uri": "https://localhost:8080/",
          "height": 452
        },
        "outputId": "b444e123-a9cf-4c32-db1b-01c2118b0655"
      },
      "source": [
        "rcParams['figure.figsize'] = 8, 6\n",
        "sns.countplot(df.sentiment)\n",
        "plt.xlabel('review score');"
      ],
      "execution_count": null,
      "outputs": [
        {
          "output_type": "stream",
          "text": [
            "/usr/local/lib/python3.6/dist-packages/seaborn/_decorators.py:43: FutureWarning: Pass the following variable as a keyword arg: x. From version 0.12, the only valid positional argument will be `data`, and passing other arguments without an explicit keyword will result in an error or misinterpretation.\n",
            "  FutureWarning\n"
          ],
          "name": "stderr"
        },
        {
          "output_type": "display_data",
          "data": {
            "image/png": "[encoded data removed]",
            "text/plain": [
              "<Figure size 576x432 with 1 Axes>"
            ]
          },
          "metadata": {
            "tags": [],
            "image/png": {
              "width": 521,
              "height": 381
            }
          }
        }
      ]
    },
    {
      "cell_type": "code",
      "metadata": {
        "id": "2I-Du1vR3EZN"
      },
      "source": [
        "def sentiment2label(sentiment):\n",
        "    if sentiment == \"positive\":\n",
        "        return 1\n",
        "    else :\n",
        "        return 0\n",
        "\n",
        "df['sentiment'] = df['sentiment'].apply(sentiment2label)"
      ],
      "execution_count": null,
      "outputs": []
    },
    {
      "cell_type": "code",
      "metadata": {
        "id": "YK3jPP3i3lRw",
        "colab": {
          "base_uri": "https://localhost:8080/"
        },
        "outputId": "b30f6dff-c455-4e24-9e8e-eeb3967152fb"
      },
      "source": [
        "df['sentiment'].value_counts()"
      ],
      "execution_count": null,
      "outputs": [
        {
          "output_type": "execute_result",
          "data": {
            "text/plain": [
              "0    1024\n",
              "1     976\n",
              "Name: sentiment, dtype: int64"
            ]
          },
          "metadata": {
            "tags": []
          },
          "execution_count": 17
        }
      ]
    },
    {
      "cell_type": "code",
      "metadata": {
        "id": "StOb4mAa3rgo"
      },
      "source": [
        "class_names = ['negative', 'positive']"
      ],
      "execution_count": null,
      "outputs": []
    },
    {
      "cell_type": "markdown",
      "metadata": {
        "id": "mmBGGgUVJBpT"
      },
      "source": [
        "### Playing with XLNetTokenizer"
      ]
    },
    {
      "cell_type": "code",
      "metadata": {
        "id": "hVWO_38_32jL",
        "colab": {
          "base_uri": "https://localhost:8080/",
          "height": 66,
          "referenced_widgets": [
            "9bb844979dbc4eada25bfea23ed337ef",
            "fea67a27849842469fefc9344ceedb61",
            "e6ff5b11a17d449ba39553797ce802f8",
            "5b28e7c6780d409682a2bd22095800a3",
            "887f80cab4334c66907a52937edbb285",
            "90855ed0e1e4444fa19d75632ad5b47f",
            "70611f714b1d4e90896996deeeff92df",
            "7d495401a15547e2ab514c72a4034c35"
          ]
        },
        "outputId": "e392f927-0f55-425a-c6e2-4b269f8c41b4"
      },
      "source": [
        "from transformers import XLNetTokenizer, XLNetModel\n",
        "PRE_TRAINED_MODEL_NAME = 'xlnet-base-cased'\n",
        "tokenizer = XLNetTokenizer.from_pretrained(PRE_TRAINED_MODEL_NAME)"
      ],
      "execution_count": null,
      "outputs": [
        {
          "output_type": "display_data",
          "data": {
            "application/vnd.jupyter.widget-view+json": {
              "model_id": "9bb844979dbc4eada25bfea23ed337ef",
              "version_minor": 0,
              "version_major": 2
            },
            "text/plain": [
              "HBox(children=(FloatProgress(value=0.0, description='Downloading', max=798011.0, style=ProgressStyle(descripti…"
            ]
          },
          "metadata": {
            "tags": []
          }
        },
        {
          "output_type": "stream",
          "text": [
            "\n"
          ],
          "name": "stdout"
        }
      ]
    },
    {
      "cell_type": "code",
      "metadata": {
        "id": "1ckpqWd_YWgZ",
        "colab": {
          "base_uri": "https://localhost:8080/"
        },
        "outputId": "110f753b-e25b-4452-f38b-0fa1a5c08518"
      },
      "source": [
        "input_txt = \"India is my country. All Indians are my brothers and sisters\"\n",
        "encodings = tokenizer.encode_plus(input_txt, add_special_tokens=True, max_length=16, return_tensors='pt', return_token_type_ids=False, return_attention_mask=True, pad_to_max_length=False)"
      ],
      "execution_count": null,
      "outputs": [
        {
          "output_type": "stream",
          "text": [
            "Truncation was not explicitly activated but `max_length` is provided a specific value, please use `truncation=True` to explicitly truncate examples to max length. Defaulting to 'longest_first' truncation strategy. If you encode pairs of sequences (GLUE-style) with the tokenizer you can select this strategy more precisely by providing a specific strategy to `truncation`.\n"
          ],
          "name": "stderr"
        }
      ]
    },
    {
      "cell_type": "code",
      "metadata": {
        "id": "Y_ew5njtYWc1",
        "colab": {
          "base_uri": "https://localhost:8080/"
        },
        "outputId": "c6783c80-0dea-441a-bac9-0777cb547eb1"
      },
      "source": [
        "print('input_ids : ',encodings['input_ids'])"
      ],
      "execution_count": null,
      "outputs": [
        {
          "output_type": "stream",
          "text": [
            "input_ids :  tensor([[ 837,   27,   94,  234,    9,  394, 7056,   41,   94, 4194,   21, 8301,\n",
            "            4,    3]])\n"
          ],
          "name": "stdout"
        }
      ]
    },
    {
      "cell_type": "code",
      "metadata": {
        "id": "eEXfe39mYWK7",
        "colab": {
          "base_uri": "https://localhost:8080/"
        },
        "outputId": "2a5abc51-98a8-4d75-f72b-602e44532e70"
      },
      "source": [
        "tokenizer.convert_ids_to_tokens(encodings['input_ids'][0])"
      ],
      "execution_count": null,
      "outputs": [
        {
          "output_type": "execute_result",
          "data": {
            "text/plain": [
              "['▁India',\n",
              " '▁is',\n",
              " '▁my',\n",
              " '▁country',\n",
              " '.',\n",
              " '▁All',\n",
              " '▁Indians',\n",
              " '▁are',\n",
              " '▁my',\n",
              " '▁brothers',\n",
              " '▁and',\n",
              " '▁sisters',\n",
              " '<sep>',\n",
              " '<cls>']"
            ]
          },
          "metadata": {
            "tags": []
          },
          "execution_count": 22
        }
      ]
    },
    {
      "cell_type": "code",
      "metadata": {
        "id": "XR1xkLYtTurv",
        "colab": {
          "base_uri": "https://localhost:8080/"
        },
        "outputId": "249f59af-ba79-4544-f006-59147e221e20"
      },
      "source": [
        "type(encodings['attention_mask'])"
      ],
      "execution_count": null,
      "outputs": [
        {
          "output_type": "execute_result",
          "data": {
            "text/plain": [
              "torch.Tensor"
            ]
          },
          "metadata": {
            "tags": []
          },
          "execution_count": 23
        }
      ]
    },
    {
      "cell_type": "code",
      "metadata": {
        "id": "Pp97KX-9UtMK"
      },
      "source": [
        "attention_mask = pad_sequences(encodings['attention_mask'], maxlen=512, dtype=torch.Tensor ,truncating=\"post\",padding=\"post\")"
      ],
      "execution_count": null,
      "outputs": []
    },
    {
      "cell_type": "code",
      "metadata": {
        "id": "6Pzeyv1_UvMT",
        "colab": {
          "base_uri": "https://localhost:8080/"
        },
        "outputId": "1aa0c0a7-3eb1-4c2b-8d8f-0d27df9a0a95"
      },
      "source": [
        "attention_mask = attention_mask.astype(dtype = 'int64')\n",
        "attention_mask = torch.tensor(attention_mask) \n",
        "attention_mask.flatten()"
      ],
      "execution_count": null,
      "outputs": [
        {
          "output_type": "execute_result",
          "data": {
            "text/plain": [
              "tensor([1, 1, 1, 1, 1, 1, 1, 1, 1, 1, 1, 1, 1, 1, 0, 0, 0, 0, 0, 0, 0, 0, 0, 0,\n",
              "        0, 0, 0, 0, 0, 0, 0, 0, 0, 0, 0, 0, 0, 0, 0, 0, 0, 0, 0, 0, 0, 0, 0, 0,\n",
              "        0, 0, 0, 0, 0, 0, 0, 0, 0, 0, 0, 0, 0, 0, 0, 0, 0, 0, 0, 0, 0, 0, 0, 0,\n",
              "        0, 0, 0, 0, 0, 0, 0, 0, 0, 0, 0, 0, 0, 0, 0, 0, 0, 0, 0, 0, 0, 0, 0, 0,\n",
              "        0, 0, 0, 0, 0, 0, 0, 0, 0, 0, 0, 0, 0, 0, 0, 0, 0, 0, 0, 0, 0, 0, 0, 0,\n",
              "        0, 0, 0, 0, 0, 0, 0, 0, 0, 0, 0, 0, 0, 0, 0, 0, 0, 0, 0, 0, 0, 0, 0, 0,\n",
              "        0, 0, 0, 0, 0, 0, 0, 0, 0, 0, 0, 0, 0, 0, 0, 0, 0, 0, 0, 0, 0, 0, 0, 0,\n",
              "        0, 0, 0, 0, 0, 0, 0, 0, 0, 0, 0, 0, 0, 0, 0, 0, 0, 0, 0, 0, 0, 0, 0, 0,\n",
              "        0, 0, 0, 0, 0, 0, 0, 0, 0, 0, 0, 0, 0, 0, 0, 0, 0, 0, 0, 0, 0, 0, 0, 0,\n",
              "        0, 0, 0, 0, 0, 0, 0, 0, 0, 0, 0, 0, 0, 0, 0, 0, 0, 0, 0, 0, 0, 0, 0, 0,\n",
              "        0, 0, 0, 0, 0, 0, 0, 0, 0, 0, 0, 0, 0, 0, 0, 0, 0, 0, 0, 0, 0, 0, 0, 0,\n",
              "        0, 0, 0, 0, 0, 0, 0, 0, 0, 0, 0, 0, 0, 0, 0, 0, 0, 0, 0, 0, 0, 0, 0, 0,\n",
              "        0, 0, 0, 0, 0, 0, 0, 0, 0, 0, 0, 0, 0, 0, 0, 0, 0, 0, 0, 0, 0, 0, 0, 0,\n",
              "        0, 0, 0, 0, 0, 0, 0, 0, 0, 0, 0, 0, 0, 0, 0, 0, 0, 0, 0, 0, 0, 0, 0, 0,\n",
              "        0, 0, 0, 0, 0, 0, 0, 0, 0, 0, 0, 0, 0, 0, 0, 0, 0, 0, 0, 0, 0, 0, 0, 0,\n",
              "        0, 0, 0, 0, 0, 0, 0, 0, 0, 0, 0, 0, 0, 0, 0, 0, 0, 0, 0, 0, 0, 0, 0, 0,\n",
              "        0, 0, 0, 0, 0, 0, 0, 0, 0, 0, 0, 0, 0, 0, 0, 0, 0, 0, 0, 0, 0, 0, 0, 0,\n",
              "        0, 0, 0, 0, 0, 0, 0, 0, 0, 0, 0, 0, 0, 0, 0, 0, 0, 0, 0, 0, 0, 0, 0, 0,\n",
              "        0, 0, 0, 0, 0, 0, 0, 0, 0, 0, 0, 0, 0, 0, 0, 0, 0, 0, 0, 0, 0, 0, 0, 0,\n",
              "        0, 0, 0, 0, 0, 0, 0, 0, 0, 0, 0, 0, 0, 0, 0, 0, 0, 0, 0, 0, 0, 0, 0, 0,\n",
              "        0, 0, 0, 0, 0, 0, 0, 0, 0, 0, 0, 0, 0, 0, 0, 0, 0, 0, 0, 0, 0, 0, 0, 0,\n",
              "        0, 0, 0, 0, 0, 0, 0, 0])"
            ]
          },
          "metadata": {
            "tags": []
          },
          "execution_count": 25
        }
      ]
    },
    {
      "cell_type": "code",
      "metadata": {
        "id": "kM7cxiA9RlnA",
        "colab": {
          "base_uri": "https://localhost:8080/"
        },
        "outputId": "2ce805e6-d048-4a00-f35e-b79726af9efd"
      },
      "source": [
        "encodings['input_ids']"
      ],
      "execution_count": null,
      "outputs": [
        {
          "output_type": "execute_result",
          "data": {
            "text/plain": [
              "tensor([[ 837,   27,   94,  234,    9,  394, 7056,   41,   94, 4194,   21, 8301,\n",
              "            4,    3]])"
            ]
          },
          "metadata": {
            "tags": []
          },
          "execution_count": 26
        }
      ]
    },
    {
      "cell_type": "markdown",
      "metadata": {
        "id": "M12PPghlJUbg"
      },
      "source": [
        "### Checking the distribution of token lengths"
      ]
    },
    {
      "cell_type": "code",
      "metadata": {
        "id": "zW4_SrOw4BDy"
      },
      "source": [
        "token_lens = []\n",
        "\n",
        "for txt in df['review']:\n",
        "  tokens = tokenizer.encode(txt, max_length=512)\n",
        "  token_lens.append(len(tokens))"
      ],
      "execution_count": null,
      "outputs": []
    },
    {
      "cell_type": "code",
      "metadata": {
        "id": "aSxO20TU4dz5",
        "colab": {
          "base_uri": "https://localhost:8080/",
          "height": 452
        },
        "outputId": "de021750-2a5e-4784-8640-c5f62561f03a"
      },
      "source": [
        "sns.distplot(token_lens)\n",
        "plt.xlim([0, 1024]);\n",
        "plt.xlabel('Token count');"
      ],
      "execution_count": null,
      "outputs": [
        {
          "output_type": "stream",
          "text": [
            "/usr/local/lib/python3.6/dist-packages/seaborn/distributions.py:2551: FutureWarning: `distplot` is a deprecated function and will be removed in a future version. Please adapt your code to use either `displot` (a figure-level function with similar flexibility) or `histplot` (an axes-level function for histograms).\n",
            "  warnings.warn(msg, FutureWarning)\n"
          ],
          "name": "stderr"
        },
        {
          "output_type": "display_data",
          "data": {
            "image/png": "[encoded data removed]",
            "text/plain": [
              "<Figure size 576x432 with 1 Axes>"
            ]
          },
          "metadata": {
            "tags": [],
            "image/png": {
              "width": 532,
              "height": 381
            }
          }
        }
      ]
    },
    {
      "cell_type": "code",
      "metadata": {
        "id": "CR3rHUQR4pDE"
      },
      "source": [
        "MAX_LEN = 512"
      ],
      "execution_count": null,
      "outputs": []
    },
    {
      "cell_type": "markdown",
      "metadata": {
        "id": "e6Kutw4dJyUG"
      },
      "source": [
        "### Custom Dataset class"
      ]
    },
    {
      "cell_type": "code",
      "metadata": {
        "id": "q2NOYXcjPK4z"
      },
      "source": [
        "class ImdbDataset(Dataset):\n",
        "\n",
        "    def __init__(self, reviews, targets, tokenizer, max_len):\n",
        "        self.reviews = reviews\n",
        "        self.targets = targets\n",
        "        self.tokenizer = tokenizer\n",
        "        self.max_len = max_len\n",
        "    \n",
        "    def __len__(self):\n",
        "        return len(self.reviews)\n",
        "    \n",
        "    def __getitem__(self, item):\n",
        "        review = str(self.reviews[item])\n",
        "        target = self.targets[item]\n",
        "\n",
        "        encoding = self.tokenizer.encode_plus(\n",
        "        review,\n",
        "        add_special_tokens=True,\n",
        "        max_length=self.max_len,\n",
        "        return_token_type_ids=False,\n",
        "        pad_to_max_length=False,\n",
        "        return_attention_mask=True,\n",
        "        return_tensors='pt',\n",
        "        )\n",
        "\n",
        "        input_ids = pad_sequences(encoding['input_ids'], maxlen=MAX_LEN, dtype=torch.Tensor ,truncating=\"post\",padding=\"post\")\n",
        "        input_ids = input_ids.astype(dtype = 'int64')\n",
        "        input_ids = torch.tensor(input_ids) \n",
        "\n",
        "        attention_mask = pad_sequences(encoding['attention_mask'], maxlen=MAX_LEN, dtype=torch.Tensor ,truncating=\"post\",padding=\"post\")\n",
        "        attention_mask = attention_mask.astype(dtype = 'int64')\n",
        "        attention_mask = torch.tensor(attention_mask)       \n",
        "\n",
        "        return {\n",
        "        'review_text': review,\n",
        "        'input_ids': input_ids,\n",
        "        'attention_mask': attention_mask.flatten(),\n",
        "        'targets': torch.tensor(target, dtype=torch.long)\n",
        "        }"
      ],
      "execution_count": null,
      "outputs": []
    },
    {
      "cell_type": "code",
      "metadata": {
        "id": "wYXt2AtW6iaT"
      },
      "source": [
        "df_train, df_test = train_test_split(df, test_size=0.5, random_state=101)\n",
        "df_val, df_test = train_test_split(df_test, test_size=0.5, random_state=101)"
      ],
      "execution_count": null,
      "outputs": []
    },
    {
      "cell_type": "code",
      "metadata": {
        "id": "VmAsa9pg6oac",
        "colab": {
          "base_uri": "https://localhost:8080/"
        },
        "outputId": "88d6c5c0-8f5b-4b25-e7ff-b4e334eb28d0"
      },
      "source": [
        "df_train.shape, df_val.shape, df_test.shape"
      ],
      "execution_count": null,
      "outputs": [
        {
          "output_type": "execute_result",
          "data": {
            "text/plain": [
              "((1000, 2), (500, 2), (500, 2))"
            ]
          },
          "metadata": {
            "tags": []
          },
          "execution_count": 32
        }
      ]
    },
    {
      "cell_type": "markdown",
      "metadata": {
        "id": "iFw2z6ElMZMX"
      },
      "source": [
        "### Custom Dataloader"
      ]
    },
    {
      "cell_type": "code",
      "metadata": {
        "id": "3rd7890Z6zLr"
      },
      "source": [
        "def create_data_loader(df, tokenizer, max_len, batch_size):\n",
        "  ds = ImdbDataset(\n",
        "    reviews=df.review.to_numpy(),\n",
        "    targets=df.sentiment.to_numpy(),\n",
        "    tokenizer=tokenizer,\n",
        "    max_len=max_len\n",
        "  )\n",
        "\n",
        "  return DataLoader(\n",
        "    ds,\n",
        "    batch_size=batch_size,\n",
        "    num_workers=4\n",
        "  )"
      ],
      "execution_count": null,
      "outputs": []
    },
    {
      "cell_type": "code",
      "metadata": {
        "id": "tVU8o6i569ly"
      },
      "source": [
        "BATCH_SIZE = 4\n",
        "\n",
        "train_data_loader = create_data_loader(df_train, tokenizer, MAX_LEN, BATCH_SIZE)\n",
        "val_data_loader = create_data_loader(df_val, tokenizer, MAX_LEN, BATCH_SIZE)\n",
        "test_data_loader = create_data_loader(df_test, tokenizer, MAX_LEN, BATCH_SIZE)"
      ],
      "execution_count": null,
      "outputs": []
    },
    {
      "cell_type": "markdown",
      "metadata": {
        "id": "aC5D5Dh8J5w9"
      },
      "source": [
        "### Loading the Pre-trained XLNet model for sequence classification from huggingface transformers"
      ]
    },
    {
      "cell_type": "code",
      "metadata": {
        "id": "H5mC8v6i7VH1",
        "colab": {
          "base_uri": "https://localhost:8080/",
          "height": 220,
          "referenced_widgets": [
            "ffc53f7b7070484c8f81228d62ee6c8d",
            "9da8181f6e474112957bc97664e61358",
            "a5617a562fca4a43aa91f59728516218",
            "7c400fd1486a49f79fe5a03c227808e1",
            "7888da65c575472fbaf53aa5e8fc6bd0",
            "680e3c92430149bfa93d2f9aa5b1d841",
            "a358d89d73ec448d84995270434e1ce3",
            "5f7a6635c20b4aac801cb6481b1603e2",
            "69335d52aa5e4b318a45e8a17ed27f0f",
            "eb4d53b253bc40bc8a7c43501e3996a0",
            "88eacc0f9843445b8de6a670baa1c31a",
            "668ee0a7a0e14266a152f09e5eb78f1b",
            "c9dff814a6f34f2ca147dfb6586b5f1a",
            "af9525b21aa949bf8cc7643cf6848f55",
            "781ac9afcaa4443481630a10c3918a40",
            "7a55488a1c4f450aa01812309c30089a"
          ]
        },
        "outputId": "8133b4b5-ab09-49c8-e3b7-96c9e265218e"
      },
      "source": [
        "from transformers import XLNetForSequenceClassification\n",
        "model = XLNetForSequenceClassification.from_pretrained('xlnet-base-cased', num_labels = 2)\n",
        "model = model.to(device)"
      ],
      "execution_count": null,
      "outputs": [
        {
          "output_type": "display_data",
          "data": {
            "application/vnd.jupyter.widget-view+json": {
              "model_id": "ffc53f7b7070484c8f81228d62ee6c8d",
              "version_minor": 0,
              "version_major": 2
            },
            "text/plain": [
              "HBox(children=(FloatProgress(value=0.0, description='Downloading', max=760.0, style=ProgressStyle(description_…"
            ]
          },
          "metadata": {
            "tags": []
          }
        },
        {
          "output_type": "stream",
          "text": [
            "\n"
          ],
          "name": "stdout"
        },
        {
          "output_type": "display_data",
          "data": {
            "application/vnd.jupyter.widget-view+json": {
              "model_id": "69335d52aa5e4b318a45e8a17ed27f0f",
              "version_minor": 0,
              "version_major": 2
            },
            "text/plain": [
              "HBox(children=(FloatProgress(value=0.0, description='Downloading', max=467042463.0, style=ProgressStyle(descri…"
            ]
          },
          "metadata": {
            "tags": []
          }
        },
        {
          "output_type": "stream",
          "text": [
            "\n"
          ],
          "name": "stdout"
        },
        {
          "output_type": "stream",
          "text": [
            "Some weights of the model checkpoint at xlnet-base-cased were not used when initializing XLNetForSequenceClassification: ['lm_loss.weight', 'lm_loss.bias']\n",
            "- This IS expected if you are initializing XLNetForSequenceClassification from the checkpoint of a model trained on another task or with another architecture (e.g. initializing a BertForSequenceClassification model from a BertForPreTraining model).\n",
            "- This IS NOT expected if you are initializing XLNetForSequenceClassification from the checkpoint of a model that you expect to be exactly identical (initializing a BertForSequenceClassification model from a BertForSequenceClassification model).\n",
            "Some weights of XLNetForSequenceClassification were not initialized from the model checkpoint at xlnet-base-cased and are newly initialized: ['sequence_summary.summary.weight', 'sequence_summary.summary.bias', 'logits_proj.weight', 'logits_proj.bias']\n",
            "You should probably TRAIN this model on a down-stream task to be able to use it for predictions and inference.\n"
          ],
          "name": "stderr"
        }
      ]
    },
    {
      "cell_type": "code",
      "metadata": {
        "id": "KYsVoULvfmvD",
        "colab": {
          "base_uri": "https://localhost:8080/"
        },
        "outputId": "eabaf541-ea91-424b-e7bb-b892d9b10b60"
      },
      "source": [
        "model"
      ],
      "execution_count": null,
      "outputs": [
        {
          "output_type": "execute_result",
          "data": {
            "text/plain": [
              "XLNetForSequenceClassification(\n",
              "  (transformer): XLNetModel(\n",
              "    (word_embedding): Embedding(32000, 768)\n",
              "    (layer): ModuleList(\n",
              "      (0): XLNetLayer(\n",
              "        (rel_attn): XLNetRelativeAttention(\n",
              "          (layer_norm): LayerNorm((768,), eps=1e-12, elementwise_affine=True)\n",
              "          (dropout): Dropout(p=0.1, inplace=False)\n",
              "        )\n",
              "        (ff): XLNetFeedForward(\n",
              "          (layer_norm): LayerNorm((768,), eps=1e-12, elementwise_affine=True)\n",
              "          (layer_1): Linear(in_features=768, out_features=3072, bias=True)\n",
              "          (layer_2): Linear(in_features=3072, out_features=768, bias=True)\n",
              "          (dropout): Dropout(p=0.1, inplace=False)\n",
              "        )\n",
              "        (dropout): Dropout(p=0.1, inplace=False)\n",
              "      )\n",
              "      (1): XLNetLayer(\n",
              "        (rel_attn): XLNetRelativeAttention(\n",
              "          (layer_norm): LayerNorm((768,), eps=1e-12, elementwise_affine=True)\n",
              "          (dropout): Dropout(p=0.1, inplace=False)\n",
              "        )\n",
              "        (ff): XLNetFeedForward(\n",
              "          (layer_norm): LayerNorm((768,), eps=1e-12, elementwise_affine=True)\n",
              "          (layer_1): Linear(in_features=768, out_features=3072, bias=True)\n",
              "          (layer_2): Linear(in_features=3072, out_features=768, bias=True)\n",
              "          (dropout): Dropout(p=0.1, inplace=False)\n",
              "        )\n",
              "        (dropout): Dropout(p=0.1, inplace=False)\n",
              "      )\n",
              "      (2): XLNetLayer(\n",
              "        (rel_attn): XLNetRelativeAttention(\n",
              "          (layer_norm): LayerNorm((768,), eps=1e-12, elementwise_affine=True)\n",
              "          (dropout): Dropout(p=0.1, inplace=False)\n",
              "        )\n",
              "        (ff): XLNetFeedForward(\n",
              "          (layer_norm): LayerNorm((768,), eps=1e-12, elementwise_affine=True)\n",
              "          (layer_1): Linear(in_features=768, out_features=3072, bias=True)\n",
              "          (layer_2): Linear(in_features=3072, out_features=768, bias=True)\n",
              "          (dropout): Dropout(p=0.1, inplace=False)\n",
              "        )\n",
              "        (dropout): Dropout(p=0.1, inplace=False)\n",
              "      )\n",
              "      (3): XLNetLayer(\n",
              "        (rel_attn): XLNetRelativeAttention(\n",
              "          (layer_norm): LayerNorm((768,), eps=1e-12, elementwise_affine=True)\n",
              "          (dropout): Dropout(p=0.1, inplace=False)\n",
              "        )\n",
              "        (ff): XLNetFeedForward(\n",
              "          (layer_norm): LayerNorm((768,), eps=1e-12, elementwise_affine=True)\n",
              "          (layer_1): Linear(in_features=768, out_features=3072, bias=True)\n",
              "          (layer_2): Linear(in_features=3072, out_features=768, bias=True)\n",
              "          (dropout): Dropout(p=0.1, inplace=False)\n",
              "        )\n",
              "        (dropout): Dropout(p=0.1, inplace=False)\n",
              "      )\n",
              "      (4): XLNetLayer(\n",
              "        (rel_attn): XLNetRelativeAttention(\n",
              "          (layer_norm): LayerNorm((768,), eps=1e-12, elementwise_affine=True)\n",
              "          (dropout): Dropout(p=0.1, inplace=False)\n",
              "        )\n",
              "        (ff): XLNetFeedForward(\n",
              "          (layer_norm): LayerNorm((768,), eps=1e-12, elementwise_affine=True)\n",
              "          (layer_1): Linear(in_features=768, out_features=3072, bias=True)\n",
              "          (layer_2): Linear(in_features=3072, out_features=768, bias=True)\n",
              "          (dropout): Dropout(p=0.1, inplace=False)\n",
              "        )\n",
              "        (dropout): Dropout(p=0.1, inplace=False)\n",
              "      )\n",
              "      (5): XLNetLayer(\n",
              "        (rel_attn): XLNetRelativeAttention(\n",
              "          (layer_norm): LayerNorm((768,), eps=1e-12, elementwise_affine=True)\n",
              "          (dropout): Dropout(p=0.1, inplace=False)\n",
              "        )\n",
              "        (ff): XLNetFeedForward(\n",
              "          (layer_norm): LayerNorm((768,), eps=1e-12, elementwise_affine=True)\n",
              "          (layer_1): Linear(in_features=768, out_features=3072, bias=True)\n",
              "          (layer_2): Linear(in_features=3072, out_features=768, bias=True)\n",
              "          (dropout): Dropout(p=0.1, inplace=False)\n",
              "        )\n",
              "        (dropout): Dropout(p=0.1, inplace=False)\n",
              "      )\n",
              "      (6): XLNetLayer(\n",
              "        (rel_attn): XLNetRelativeAttention(\n",
              "          (layer_norm): LayerNorm((768,), eps=1e-12, elementwise_affine=True)\n",
              "          (dropout): Dropout(p=0.1, inplace=False)\n",
              "        )\n",
              "        (ff): XLNetFeedForward(\n",
              "          (layer_norm): LayerNorm((768,), eps=1e-12, elementwise_affine=True)\n",
              "          (layer_1): Linear(in_features=768, out_features=3072, bias=True)\n",
              "          (layer_2): Linear(in_features=3072, out_features=768, bias=True)\n",
              "          (dropout): Dropout(p=0.1, inplace=False)\n",
              "        )\n",
              "        (dropout): Dropout(p=0.1, inplace=False)\n",
              "      )\n",
              "      (7): XLNetLayer(\n",
              "        (rel_attn): XLNetRelativeAttention(\n",
              "          (layer_norm): LayerNorm((768,), eps=1e-12, elementwise_affine=True)\n",
              "          (dropout): Dropout(p=0.1, inplace=False)\n",
              "        )\n",
              "        (ff): XLNetFeedForward(\n",
              "          (layer_norm): LayerNorm((768,), eps=1e-12, elementwise_affine=True)\n",
              "          (layer_1): Linear(in_features=768, out_features=3072, bias=True)\n",
              "          (layer_2): Linear(in_features=3072, out_features=768, bias=True)\n",
              "          (dropout): Dropout(p=0.1, inplace=False)\n",
              "        )\n",
              "        (dropout): Dropout(p=0.1, inplace=False)\n",
              "      )\n",
              "      (8): XLNetLayer(\n",
              "        (rel_attn): XLNetRelativeAttention(\n",
              "          (layer_norm): LayerNorm((768,), eps=1e-12, elementwise_affine=True)\n",
              "          (dropout): Dropout(p=0.1, inplace=False)\n",
              "        )\n",
              "        (ff): XLNetFeedForward(\n",
              "          (layer_norm): LayerNorm((768,), eps=1e-12, elementwise_affine=True)\n",
              "          (layer_1): Linear(in_features=768, out_features=3072, bias=True)\n",
              "          (layer_2): Linear(in_features=3072, out_features=768, bias=True)\n",
              "          (dropout): Dropout(p=0.1, inplace=False)\n",
              "        )\n",
              "        (dropout): Dropout(p=0.1, inplace=False)\n",
              "      )\n",
              "      (9): XLNetLayer(\n",
              "        (rel_attn): XLNetRelativeAttention(\n",
              "          (layer_norm): LayerNorm((768,), eps=1e-12, elementwise_affine=True)\n",
              "          (dropout): Dropout(p=0.1, inplace=False)\n",
              "        )\n",
              "        (ff): XLNetFeedForward(\n",
              "          (layer_norm): LayerNorm((768,), eps=1e-12, elementwise_affine=True)\n",
              "          (layer_1): Linear(in_features=768, out_features=3072, bias=True)\n",
              "          (layer_2): Linear(in_features=3072, out_features=768, bias=True)\n",
              "          (dropout): Dropout(p=0.1, inplace=False)\n",
              "        )\n",
              "        (dropout): Dropout(p=0.1, inplace=False)\n",
              "      )\n",
              "      (10): XLNetLayer(\n",
              "        (rel_attn): XLNetRelativeAttention(\n",
              "          (layer_norm): LayerNorm((768,), eps=1e-12, elementwise_affine=True)\n",
              "          (dropout): Dropout(p=0.1, inplace=False)\n",
              "        )\n",
              "        (ff): XLNetFeedForward(\n",
              "          (layer_norm): LayerNorm((768,), eps=1e-12, elementwise_affine=True)\n",
              "          (layer_1): Linear(in_features=768, out_features=3072, bias=True)\n",
              "          (layer_2): Linear(in_features=3072, out_features=768, bias=True)\n",
              "          (dropout): Dropout(p=0.1, inplace=False)\n",
              "        )\n",
              "        (dropout): Dropout(p=0.1, inplace=False)\n",
              "      )\n",
              "      (11): XLNetLayer(\n",
              "        (rel_attn): XLNetRelativeAttention(\n",
              "          (layer_norm): LayerNorm((768,), eps=1e-12, elementwise_affine=True)\n",
              "          (dropout): Dropout(p=0.1, inplace=False)\n",
              "        )\n",
              "        (ff): XLNetFeedForward(\n",
              "          (layer_norm): LayerNorm((768,), eps=1e-12, elementwise_affine=True)\n",
              "          (layer_1): Linear(in_features=768, out_features=3072, bias=True)\n",
              "          (layer_2): Linear(in_features=3072, out_features=768, bias=True)\n",
              "          (dropout): Dropout(p=0.1, inplace=False)\n",
              "        )\n",
              "        (dropout): Dropout(p=0.1, inplace=False)\n",
              "      )\n",
              "    )\n",
              "    (dropout): Dropout(p=0.1, inplace=False)\n",
              "  )\n",
              "  (sequence_summary): SequenceSummary(\n",
              "    (summary): Linear(in_features=768, out_features=768, bias=True)\n",
              "    (first_dropout): Identity()\n",
              "    (last_dropout): Dropout(p=0.1, inplace=False)\n",
              "  )\n",
              "  (logits_proj): Linear(in_features=768, out_features=2, bias=True)\n",
              ")"
            ]
          },
          "metadata": {
            "tags": []
          },
          "execution_count": 36
        }
      ]
    },
    {
      "cell_type": "markdown",
      "metadata": {
        "id": "vpn2sTTMK_zL"
      },
      "source": [
        "### Setting Hyperparameters"
      ]
    },
    {
      "cell_type": "code",
      "metadata": {
        "id": "aQ9Od31B9YJa"
      },
      "source": [
        "EPOCHS = 3\n",
        "\n",
        "param_optimizer = list(model.named_parameters())\n",
        "no_decay = ['bias', 'LayerNorm.bias', 'LayerNorm.weight']\n",
        "optimizer_grouped_parameters = [\n",
        "                                {'params': [p for n, p in param_optimizer if not any(nd in n for nd in no_decay)], 'weight_decay': 0.01},\n",
        "                                {'params': [p for n, p in param_optimizer if any(nd in n for nd in no_decay)], 'weight_decay':0.0}\n",
        "]\n",
        "optimizer = AdamW(optimizer_grouped_parameters, lr=3e-5)\n",
        "\n",
        "total_steps = len(train_data_loader) * EPOCHS\n",
        "\n",
        "scheduler = get_linear_schedule_with_warmup(\n",
        "  optimizer,\n",
        "  num_warmup_steps=0,\n",
        "  num_training_steps=total_steps\n",
        ")"
      ],
      "execution_count": null,
      "outputs": []
    },
    {
      "cell_type": "markdown",
      "metadata": {
        "id": "G2AtJcvwLV3x"
      },
      "source": [
        "### Sanity check with one batch"
      ]
    },
    {
      "cell_type": "code",
      "metadata": {
        "id": "rUoaMqjvKdym",
        "colab": {
          "base_uri": "https://localhost:8080/"
        },
        "outputId": "8348895b-917c-4f7d-cf33-7292f4196357"
      },
      "source": [
        "data = next(iter(val_data_loader))\n",
        "data.keys()"
      ],
      "execution_count": null,
      "outputs": [
        {
          "output_type": "execute_result",
          "data": {
            "text/plain": [
              "dict_keys(['review_text', 'input_ids', 'attention_mask', 'targets'])"
            ]
          },
          "metadata": {
            "tags": []
          },
          "execution_count": 38
        }
      ]
    },
    {
      "cell_type": "code",
      "metadata": {
        "id": "RIUB5WJNKhBs",
        "colab": {
          "base_uri": "https://localhost:8080/"
        },
        "outputId": "e832f545-f099-4cfe-b9c3-ee6d493444bb"
      },
      "source": [
        "input_ids = data['input_ids'].to(device)\n",
        "attention_mask = data['attention_mask'].to(device)\n",
        "targets = data['targets'].to(device)\n",
        "print(input_ids.reshape(4,512).shape) # batch size x seq length\n",
        "print(attention_mask.shape) # batch size x seq length"
      ],
      "execution_count": null,
      "outputs": [
        {
          "output_type": "stream",
          "text": [
            "torch.Size([4, 512])\n",
            "torch.Size([4, 512])\n"
          ],
          "name": "stdout"
        }
      ]
    },
    {
      "cell_type": "code",
      "metadata": {
        "id": "EYsDR9leYb4Z",
        "colab": {
          "base_uri": "https://localhost:8080/"
        },
        "outputId": "1be62ed6-072f-4e61-a464-75cd471b6dd7"
      },
      "source": [
        "input_ids[0]"
      ],
      "execution_count": null,
      "outputs": [
        {
          "output_type": "execute_result",
          "data": {
            "text/plain": [
              "tensor([[ 2236,    81,   599,   792,   947,    25,    52,   234,    21,    81,\n",
              "          5178, 18777,    25,    86,   452,    18,    17,    26,   873,    26,\n",
              "          4427,    25,    18,   251,    64,    26,    46,    47,  1351, 14196,\n",
              "           125,   149,   732,  6608,  2323,    18,   330,  1139,   136,    52,\n",
              "            27,   995,    24,  1592,  1902,    20,   154,     9,    32, 25482,\n",
              "           769,   358,  6151, 11466,    22, 22955,    36,    57,    36,    26,\n",
              "            23,  5933,    37,    18,   945,    20,    18,    87,  3469,     9,\n",
              "            17,  2369,    17,  2369,    84,    26,    23,   955,    22,   521,\n",
              "           943, 23397,  7219,   125,   149,    44,    26,    88,   945,    24,\n",
              "          1823,    49,  3728,    17,  6752, 12917,  2947,  1621,  4066, 21848,\n",
              "         11211, 17665,   153, 15768,  1813,     9,    21, 21198,  6604,  1714,\n",
              "          5335,   132,    50,  1206,  3911,    18,  1823, 22532,    20,   414,\n",
              "         12142,    57,    62,  8278, 13762,    21, 21420,  4591,  1323, 15604,\n",
              "          3476,     9,    67,   648,   615,    71,    62,   922,    27,  2496,\n",
              "           135,    62,   568,    21,   113,   568,   136,    17,     9,   122,\n",
              "            27,    48,  9276,   808,    40,    48,  5911,    61,    27,  4556,\n",
              "            17, 15865,    56,    62,   897,  3973,  3974,    21,  5714,    34,\n",
              "            24,  1586,    20,   106, 22658,     9,  4660,   272,  8317,  1185,\n",
              "           464,    50,    24,  4221,    28,    52,  1592,   922,     9,    17,\n",
              "          2369,    17,  2369, 12191,  9070,    65,  4760,    51,   287,  1206,\n",
              "           502,    45,   252,    31,   468,  2281,  2906,    17,    26, 27907,\n",
              "            26,    21,   105,    45,   945,    30, 27146,    37,    18,   392,\n",
              "          2195,    17,     9,  1960,   464,    43,   310,    23,    45,    86,\n",
              "          5232,   945,    22,    18,    17, 11729,    46,    24,  1080,    17,\n",
              "         15614,   138,    56, 17465,  4259,    17,  8725,   386,  2035,    33,\n",
              "            24,  9713,   982,    43,  4669,    26,    46,   426,  5137,    21,\n",
              "          7179,    56,   207,  2503,    21,  5783,     9,    67,   573,    80,\n",
              "           676,   103,   125,    34,   178,    34,    80,   121,  8018,   676,\n",
              "           103,    34,  2658, 21093,    34,    18,  6348,    25,    17,    26,\n",
              "           152, 24682,    26,    34,    18,  2301,    25,    17,    26,   152,\n",
              "         27323, 24575,  1341,    26,   176,    34,  3707,    25,    17,    26,\n",
              "         22570,    26,    23, 10129,    26,     9,   122,    27,  8317,    45,\n",
              "          9788,   922,   655,   102,   611,   121,    43,    50,  1824,    18,\n",
              "          3195,   178,   743,    82,    17,  2369,    17,  2369,   228,    24,\n",
              "           468,    36,  1898,    70,   115,    24,   892,  2128,    21,   286,\n",
              "            81,  2848,    36,   885,  1732,    26,    46,  1065,    22,   172,\n",
              "           178,     9,   130,    36,    26,    23,    72,    24,  4975,    22,\n",
              "           197,    52,  2729,  2771,    58, 18039,   177,   115,    52,    21,\n",
              "            35, 21330, 15202,    70,    40,   107,   464,    50,    17,    26,\n",
              "         12963,    26,    23,  6410,    26,    23, 15062,    26,     9,     9,\n",
              "             9,    17,     9,   541,    78,    20,   241,    57, 12191,  9070,\n",
              "            21,   732,  6608,   133,   241,    78,    20,   241,     9,     4,\n",
              "             3,     0,     0,     0,     0,     0,     0,     0,     0,     0,\n",
              "             0,     0,     0,     0,     0,     0,     0,     0,     0,     0,\n",
              "             0,     0,     0,     0,     0,     0,     0,     0,     0,     0,\n",
              "             0,     0,     0,     0,     0,     0,     0,     0,     0,     0,\n",
              "             0,     0,     0,     0,     0,     0,     0,     0,     0,     0,\n",
              "             0,     0,     0,     0,     0,     0,     0,     0,     0,     0,\n",
              "             0,     0,     0,     0,     0,     0,     0,     0,     0,     0,\n",
              "             0,     0,     0,     0,     0,     0,     0,     0,     0,     0,\n",
              "             0,     0,     0,     0,     0,     0,     0,     0,     0,     0,\n",
              "             0,     0]], device='cuda:0')"
            ]
          },
          "metadata": {
            "tags": []
          },
          "execution_count": 40
        }
      ]
    },
    {
      "cell_type": "code",
      "metadata": {
        "id": "KCFLKXL0KmaA",
        "colab": {
          "base_uri": "https://localhost:8080/"
        },
        "outputId": "00c3dff8-ecd5-4906-d2c5-b8e9da03af8a"
      },
      "source": [
        "outputs = model(input_ids.reshape(4,512), token_type_ids=None, attention_mask=attention_mask, labels=targets)\n",
        "outputs"
      ],
      "execution_count": null,
      "outputs": [
        {
          "output_type": "execute_result",
          "data": {
            "text/plain": [
              "(tensor(0.7916, device='cuda:0', grad_fn=<NllLossBackward>),\n",
              " tensor([[-0.7993, -0.4999],\n",
              "         [-0.6391, -0.2673],\n",
              "         [-0.8721, -0.4905],\n",
              "         [-0.7930, -0.5649]], device='cuda:0', grad_fn=<AddmmBackward>),\n",
              " (tensor([[[ 0.0030,  0.0801,  0.0793,  ...,  0.0062, -0.0787, -0.0501],\n",
              "           [-0.0625,  0.0086,  0.0775,  ..., -0.0018,  0.0451,  0.0687],\n",
              "           [ 0.0257,  0.0011, -0.0448,  ..., -0.0297,  0.0106, -0.0088],\n",
              "           [ 0.0835,  0.1109, -0.0195,  ...,  0.0183, -0.0404,  0.0371]],\n",
              "  \n",
              "          [[-0.0328,  0.0467,  0.0349,  ..., -0.0078, -0.0565, -0.0160],\n",
              "           [-0.0681,  0.0132, -0.0332,  ..., -0.0481,  0.0365, -0.0480],\n",
              "           [-0.0351,  0.0213,  0.0542,  ...,  0.0708,  0.0214,  0.0147],\n",
              "           [-0.0083,  0.0112, -0.0417,  ..., -0.0380, -0.0314, -0.0489]],\n",
              "  \n",
              "          [[-0.0276, -0.0186,  0.0353,  ..., -0.0100,  0.0246, -0.0541],\n",
              "           [ 0.0292,  0.0227, -0.0304,  ..., -0.0456, -0.0125, -0.0287],\n",
              "           [-0.0564, -0.0022, -0.0290,  ...,  0.0329,  0.0430, -0.0191],\n",
              "           [-0.0276,  0.0552, -0.0059,  ..., -0.0246,  0.0394,  0.0144]],\n",
              "  \n",
              "          ...,\n",
              "  \n",
              "          [[-0.0049,  0.0655, -0.0151,  ..., -0.0458, -0.0061,  0.0346],\n",
              "           [-0.0084,  0.0194,  0.0062,  ..., -0.0017,  0.0071,  0.0781],\n",
              "           [-0.0049,  0.0655, -0.0151,  ..., -0.0458, -0.0061,  0.0346],\n",
              "           [-0.0049,  0.0655, -0.0151,  ..., -0.0458, -0.0061,  0.0346]],\n",
              "  \n",
              "          [[-0.0049,  0.0655, -0.0151,  ..., -0.0458, -0.0061,  0.0346],\n",
              "           [ 0.0788, -0.0583, -0.0905,  ...,  0.0493,  0.0634, -0.0520],\n",
              "           [-0.0049,  0.0655, -0.0151,  ..., -0.0458, -0.0061,  0.0346],\n",
              "           [-0.0049,  0.0655, -0.0151,  ..., -0.0458, -0.0061,  0.0346]],\n",
              "  \n",
              "          [[-0.0049,  0.0655, -0.0151,  ..., -0.0458, -0.0061,  0.0346],\n",
              "           [ 0.0181, -0.0015, -0.1494,  ...,  0.0012, -0.0009,  0.0188],\n",
              "           [-0.0049,  0.0655, -0.0151,  ..., -0.0458, -0.0061,  0.0346],\n",
              "           [-0.0049,  0.0655, -0.0151,  ..., -0.0458, -0.0061,  0.0346]]],\n",
              "         device='cuda:0'),\n",
              "  tensor([[[-6.1997e-02,  1.7324e+00,  1.3268e+00,  ...,  8.3460e-01,\n",
              "            -2.1966e+00, -4.1357e-01],\n",
              "           [-9.6438e-01,  3.6830e-01,  1.2324e+00,  ..., -3.6092e-01,\n",
              "             5.9530e-01,  1.3337e+00],\n",
              "           [ 4.8107e-01, -4.0890e-01, -9.6129e-01,  ...,  4.7027e-02,\n",
              "            -4.7533e-01,  5.2819e-01],\n",
              "           [ 1.0295e+00,  2.0184e+00, -6.7680e-01,  ...,  7.6452e-01,\n",
              "            -1.0071e+00,  5.2023e-01]],\n",
              "  \n",
              "          [[-6.4260e-01,  1.1194e+00,  1.4094e+00,  ...,  1.0176e-01,\n",
              "            -1.5875e+00, -5.5634e-04],\n",
              "           [-1.8243e+00, -5.0577e-01, -8.2622e-01,  ..., -1.4929e+00,\n",
              "             5.2860e-01, -8.0992e-01],\n",
              "           [-5.7346e-01,  1.2719e+00,  6.0935e-01,  ...,  9.8233e-01,\n",
              "             8.6802e-01,  8.7684e-01],\n",
              "           [-5.8330e-01,  7.7034e-02, -7.3084e-01,  ..., -4.4295e-01,\n",
              "            -6.1548e-01,  2.7942e-01]],\n",
              "  \n",
              "          [[-8.0982e-01, -9.0516e-01,  7.9121e-01,  ..., -4.4429e-01,\n",
              "             5.4403e-01, -6.2270e-01],\n",
              "           [ 3.3559e-02,  4.2760e-01, -8.5655e-01,  ..., -2.2640e+00,\n",
              "            -7.0953e-01, -1.5410e-01],\n",
              "           [-1.1098e+00,  3.8930e-01,  5.1693e-01,  ...,  6.9137e-01,\n",
              "             1.0862e+00,  1.0254e+00],\n",
              "           [-1.0328e+00,  1.0018e+00,  2.7130e-02,  ..., -3.1431e-01,\n",
              "             1.0993e-01,  9.4825e-01]],\n",
              "  \n",
              "          ...,\n",
              "  \n",
              "          [[ 1.2213e-01,  2.1061e+00, -8.3954e-02,  ..., -2.4036e-01,\n",
              "            -2.1042e-01,  8.7376e-01],\n",
              "           [ 2.1067e-01, -3.5482e-01, -8.7199e-02,  ..., -7.1811e-01,\n",
              "             1.2404e-02,  2.3839e+00],\n",
              "           [ 8.6749e-02,  2.0639e+00,  2.5190e-02,  ..., -2.5813e-01,\n",
              "            -3.8664e-01,  8.8111e-01],\n",
              "           [ 8.7908e-02,  2.0075e+00, -3.3276e-02,  ..., -7.0655e-01,\n",
              "            -7.2187e-01,  7.3584e-01]],\n",
              "  \n",
              "          [[ 1.4267e-01,  2.0765e+00, -6.3787e-02,  ..., -2.2354e-01,\n",
              "            -2.0123e-01,  8.3444e-01],\n",
              "           [ 1.2893e+00, -7.2111e-01, -1.4814e+00,  ...,  7.7304e-01,\n",
              "             4.1558e-01,  4.9194e-02],\n",
              "           [ 1.0992e-01,  2.0871e+00,  2.7376e-02,  ..., -2.7550e-01,\n",
              "            -3.7201e-01,  9.1027e-01],\n",
              "           [ 7.9778e-02,  1.9547e+00, -4.4491e-02,  ..., -7.4166e-01,\n",
              "            -7.3595e-01,  7.1910e-01]],\n",
              "  \n",
              "          [[ 1.2176e-01,  2.0971e+00, -8.2923e-02,  ..., -2.6333e-01,\n",
              "            -1.9545e-01,  8.4908e-01],\n",
              "           [ 6.9253e-01, -4.1080e-01, -2.2950e+00,  ...,  3.1946e-01,\n",
              "            -4.2992e-02,  3.4867e-01],\n",
              "           [ 1.5709e-01,  2.0624e+00, -1.9170e-02,  ..., -3.0135e-01,\n",
              "            -3.4819e-01,  9.3754e-01],\n",
              "           [ 9.0640e-02,  1.9260e+00, -7.1113e-02,  ..., -7.4397e-01,\n",
              "            -7.2065e-01,  7.1825e-01]]], device='cuda:0'),\n",
              "  tensor([[[-4.0561e-03,  1.6413e+00,  1.5975e+00,  ...,  7.4562e-01,\n",
              "            -1.5431e+00, -4.8674e-01],\n",
              "           [-1.3039e-01,  3.6529e-01,  1.5876e+00,  ..., -2.9888e-01,\n",
              "             4.5413e-01,  7.3392e-01],\n",
              "           [ 3.5622e-01, -5.6957e-01, -1.0001e+00,  ...,  4.1875e-01,\n",
              "            -3.3397e-01,  3.4467e-01],\n",
              "           [ 5.6321e-01,  1.0606e+00, -1.1224e-01,  ...,  9.8637e-01,\n",
              "            -1.2988e-01,  8.2948e-01]],\n",
              "  \n",
              "          [[-6.2090e-01,  9.7388e-01,  1.8117e+00,  ...,  1.5282e-01,\n",
              "            -1.9397e+00,  1.3740e-01],\n",
              "           [-1.5163e+00, -9.9704e-01, -3.4231e-01,  ..., -1.2060e+00,\n",
              "             3.6513e-01, -7.0243e-01],\n",
              "           [-7.7161e-02,  7.1658e-01,  7.8473e-01,  ...,  5.4830e-01,\n",
              "             4.2618e-01,  4.7067e-01],\n",
              "           [-6.7288e-01,  2.6406e-01,  1.9030e-01,  ...,  2.8611e-01,\n",
              "            -4.4993e-01,  1.6052e-01]],\n",
              "  \n",
              "          [[-7.8298e-01, -6.3614e-01,  9.5930e-01,  ..., -2.7140e-03,\n",
              "            -7.3730e-02, -3.2977e-01],\n",
              "           [ 2.1688e-01,  2.7699e-01, -5.8780e-01,  ..., -1.7782e+00,\n",
              "            -1.3510e+00,  1.5591e-01],\n",
              "           [-9.8833e-01, -3.1273e-01,  9.1624e-01,  ...,  9.7207e-01,\n",
              "             1.3221e+00,  3.7341e-01],\n",
              "           [-1.2532e+00,  5.8817e-01, -5.7318e-02,  ..., -5.8770e-02,\n",
              "            -3.5098e-02,  1.5905e+00]],\n",
              "  \n",
              "          ...,\n",
              "  \n",
              "          [[-1.2495e-01,  1.8070e+00,  8.5132e-02,  ...,  1.9031e-01,\n",
              "            -1.3160e-01,  7.9951e-01],\n",
              "           [-1.2324e-02, -1.0380e+00,  2.3048e-01,  ..., -4.3708e-01,\n",
              "            -6.8018e-01,  2.1395e+00],\n",
              "           [-1.2868e-01,  1.8958e+00,  2.3510e-01,  ...,  8.5443e-02,\n",
              "            -2.7217e-01,  7.1763e-01],\n",
              "           [-2.2633e-01,  1.8235e+00,  1.5310e-01,  ..., -4.1963e-02,\n",
              "            -6.5839e-01,  5.6742e-01]],\n",
              "  \n",
              "          [[-9.5521e-02,  1.7840e+00,  1.1639e-01,  ...,  1.8064e-01,\n",
              "            -1.0816e-01,  7.2993e-01],\n",
              "           [ 7.5472e-01, -6.2643e-01, -1.6552e+00,  ...,  6.1508e-01,\n",
              "             9.9032e-01, -1.6144e-01],\n",
              "           [-1.2470e-01,  1.8697e+00,  2.1276e-01,  ...,  6.4752e-02,\n",
              "            -2.9854e-01,  7.4833e-01],\n",
              "           [-2.2536e-01,  1.7833e+00,  1.8641e-01,  ..., -6.4864e-02,\n",
              "            -6.5247e-01,  5.4732e-01]],\n",
              "  \n",
              "          [[-1.0843e-01,  1.8070e+00,  9.2862e-02,  ...,  1.5918e-01,\n",
              "            -1.2764e-01,  7.6973e-01],\n",
              "           [ 4.4765e-01, -5.9107e-01, -2.7414e+00,  ...,  6.2768e-01,\n",
              "             2.5291e-01,  1.0432e-01],\n",
              "           [-9.5353e-02,  1.8466e+00,  1.9663e-01,  ...,  3.8990e-02,\n",
              "            -2.6721e-01,  7.7003e-01],\n",
              "           [-2.1274e-01,  1.7365e+00,  1.9387e-01,  ..., -5.2872e-02,\n",
              "            -6.7556e-01,  5.4512e-01]]], device='cuda:0'),\n",
              "  tensor([[[-0.1015,  2.0600,  0.8890,  ...,  0.5685, -1.6974, -0.7828],\n",
              "           [-0.3227,  0.5797,  0.9487,  ..., -0.4449,  0.6611,  0.8406],\n",
              "           [ 0.1647, -0.0448, -1.2142,  ...,  0.4916, -0.3775, -0.7103],\n",
              "           [-0.1253,  1.1960, -0.0965,  ...,  1.3752,  0.3137,  0.8024]],\n",
              "  \n",
              "          [[-0.6080,  1.1254,  2.3767,  ...,  0.4387, -1.6040,  0.0619],\n",
              "           [-1.3742, -1.3229, -0.9714,  ..., -1.6636,  0.4680, -0.6047],\n",
              "           [-0.5839,  1.6707,  1.2345,  ...,  0.9491,  0.3920,  0.0751],\n",
              "           [-0.5715,  0.1071,  0.0311,  ...,  0.2609, -0.2978,  0.5221]],\n",
              "  \n",
              "          [[-0.4485, -0.3590,  1.7772,  ..., -0.0703, -0.8533, -0.6869],\n",
              "           [-0.2496,  1.2510, -1.0978,  ..., -1.9863, -1.2649,  1.2904],\n",
              "           [-0.9676,  0.1800,  1.2228,  ...,  1.2120,  1.7848,  0.2193],\n",
              "           [-1.1766,  0.5382, -0.3479,  ..., -0.1797,  0.0995,  1.4700]],\n",
              "  \n",
              "          ...,\n",
              "  \n",
              "          [[-0.2736,  2.5507, -0.0036,  ...,  1.0286, -0.3945,  1.2967],\n",
              "           [ 0.0709, -1.2656, -0.2024,  ..., -0.3862, -0.9298,  2.0326],\n",
              "           [-0.2475,  2.7173,  0.2437,  ...,  0.9732, -0.5016,  1.3434],\n",
              "           [-0.3397,  2.8915,  0.1669,  ...,  0.8996, -0.8655,  0.6493]],\n",
              "  \n",
              "          [[-0.2543,  2.5290,  0.0157,  ...,  1.0113, -0.3673,  1.2833],\n",
              "           [ 0.6821, -0.1258, -1.3798,  ...,  1.7215,  1.2428, -2.0677],\n",
              "           [-0.2320,  2.6811,  0.2150,  ...,  1.0165, -0.5152,  1.3766],\n",
              "           [-0.3489,  2.8568,  0.2237,  ...,  0.8355, -0.8869,  0.6810]],\n",
              "  \n",
              "          [[-0.2729,  2.5256,  0.0093,  ...,  1.0174, -0.3769,  1.3290],\n",
              "           [ 0.9133, -0.0699, -2.7860,  ...,  1.3319,  0.4267, -0.7392],\n",
              "           [-0.2247,  2.6597,  0.2202,  ...,  1.0019, -0.4757,  1.4529],\n",
              "           [-0.3355,  2.8251,  0.2708,  ...,  0.7789, -0.9441,  0.6919]]],\n",
              "         device='cuda:0'),\n",
              "  tensor([[[-0.1978,  1.2387,  0.2280,  ...,  0.7866, -1.2965, -0.5657],\n",
              "           [-0.3191,  0.5136,  0.2970,  ...,  0.2939,  0.2832,  0.7541],\n",
              "           [ 0.1785, -0.1728, -1.2427,  ...,  0.7543, -0.8834, -0.1056],\n",
              "           [-0.2132,  0.8220, -0.6923,  ...,  1.3379,  0.0751,  0.3104]],\n",
              "  \n",
              "          [[-0.6345,  1.2068,  1.3488,  ...,  0.4264, -2.2734,  0.5940],\n",
              "           [-1.4583, -0.6082, -1.0174,  ..., -1.7088,  0.6096, -0.0491],\n",
              "           [-0.4482,  0.8601,  0.8798,  ...,  0.5307, -0.2201, -0.0484],\n",
              "           [-1.4039, -0.0822, -0.1889,  ...,  1.4145, -0.9059,  0.4099]],\n",
              "  \n",
              "          [[-0.3285,  0.4093,  1.7462,  ...,  0.1076, -1.7634,  0.1289],\n",
              "           [ 0.1323,  0.2822, -1.4753,  ..., -1.7767, -2.3515,  1.2090],\n",
              "           [-0.9478,  0.0069,  0.8432,  ...,  0.8330,  1.0875, -0.2296],\n",
              "           [-1.3243,  0.0126, -0.3475,  ...,  0.4273, -0.5531,  0.8131]],\n",
              "  \n",
              "          ...,\n",
              "  \n",
              "          [[ 0.0256,  2.0428, -0.1033,  ...,  1.5684,  0.0476,  1.6487],\n",
              "           [ 0.1428, -1.0682,  0.0219,  ..., -0.4311, -1.0280,  1.2360],\n",
              "           [ 0.0698,  2.0349,  0.3322,  ...,  1.5594, -0.3028,  1.5816],\n",
              "           [-0.1612,  2.3627, -0.0551,  ...,  1.6998, -0.5697,  1.1007]],\n",
              "  \n",
              "          [[ 0.0603,  2.0178, -0.0774,  ...,  1.5360,  0.0921,  1.6691],\n",
              "           [ 1.1289, -0.5386, -1.6458,  ...,  1.3810,  0.9629, -0.9356],\n",
              "           [ 0.0856,  1.9975,  0.3011,  ...,  1.5949, -0.3031,  1.6139],\n",
              "           [-0.1529,  2.4019, -0.0663,  ...,  1.6522, -0.5886,  1.1419]],\n",
              "  \n",
              "          [[ 0.0517,  2.0141, -0.0692,  ...,  1.5252,  0.0585,  1.6769],\n",
              "           [ 1.6554, -0.4296, -2.5311,  ...,  0.9074,  0.1279, -0.0698],\n",
              "           [ 0.1108,  1.9946,  0.2905,  ...,  1.5605, -0.2430,  1.6969],\n",
              "           [-0.1438,  2.4250, -0.1051,  ...,  1.6225, -0.6186,  1.1635]]],\n",
              "         device='cuda:0'),\n",
              "  tensor([[[-0.2118,  0.9654,  0.0431,  ...,  0.4117, -0.7454, -0.2935],\n",
              "           [-0.1532,  0.2181,  0.2379,  ..., -0.0567, -0.2482,  0.0360],\n",
              "           [ 0.3119, -0.1681, -0.6680,  ...,  0.1677, -0.4923, -0.1471],\n",
              "           [-0.0585,  0.4666, -0.2111,  ...,  0.7725,  0.0934, -0.0156]],\n",
              "  \n",
              "          [[-0.5431,  1.3187,  1.0921,  ...,  0.5209, -1.5681,  0.6386],\n",
              "           [-0.6216, -0.4624, -1.1960,  ..., -1.4141,  0.2212, -0.1667],\n",
              "           [-0.1454,  0.6864,  0.7854,  ..., -0.0562, -0.1720, -0.3596],\n",
              "           [-0.8638, -0.1371,  0.0894,  ...,  1.0179, -0.4792, -0.2148]],\n",
              "  \n",
              "          [[-0.4654,  0.2409,  1.1274,  ...,  0.1242, -1.2060,  0.1764],\n",
              "           [ 0.4968,  0.1439, -1.1090,  ..., -1.2457, -1.4803,  0.7263],\n",
              "           [-0.6384,  0.1640,  0.7800,  ...,  0.1935,  0.5503, -0.2352],\n",
              "           [-1.6291, -0.0924, -0.1568,  ...,  0.5963, -0.2936,  0.2749]],\n",
              "  \n",
              "          ...,\n",
              "  \n",
              "          [[ 0.0129,  1.3869,  0.1656,  ...,  1.1596, -0.3055,  1.1910],\n",
              "           [-0.1420, -0.6846, -0.0618,  ..., -0.3524,  0.0284,  0.5448],\n",
              "           [-0.1565,  1.4431,  0.4502,  ...,  1.1382, -0.3637,  1.2024],\n",
              "           [ 0.0381,  1.7735,  0.1456,  ...,  1.1718, -0.3992,  0.8429]],\n",
              "  \n",
              "          [[ 0.0314,  1.3713,  0.1668,  ...,  1.1429, -0.2991,  1.1830],\n",
              "           [ 0.7092, -0.3984, -1.3332,  ...,  1.2753,  0.2407, -0.8029],\n",
              "           [-0.1564,  1.4189,  0.4031,  ...,  1.1480, -0.3570,  1.1717],\n",
              "           [ 0.0773,  1.8262,  0.1210,  ...,  1.0973, -0.3937,  0.8938]],\n",
              "  \n",
              "          [[ 0.0156,  1.3761,  0.1538,  ...,  1.1376, -0.3229,  1.1966],\n",
              "           [ 1.2844, -0.2262, -1.7336,  ...,  0.5647, -0.0523, -0.4148],\n",
              "           [-0.1266,  1.4170,  0.4087,  ...,  1.1161, -0.3106,  1.2027],\n",
              "           [ 0.0911,  1.8791,  0.1023,  ...,  1.0698, -0.4316,  0.8945]]],\n",
              "         device='cuda:0'),\n",
              "  tensor([[[-2.7669e-01,  1.3029e+00, -5.7765e-01,  ...,  6.0746e-01,\n",
              "            -9.8576e-01, -6.2805e-01],\n",
              "           [ 1.6005e-01, -9.6204e-02, -1.1112e-01,  ..., -8.3019e-02,\n",
              "            -2.8606e-01,  3.2378e-01],\n",
              "           [ 3.1641e-01, -2.8077e-01, -8.2050e-01,  ...,  2.2755e-01,\n",
              "            -1.0484e+00, -3.8901e-01],\n",
              "           [-1.0929e-01,  4.6393e-01, -3.3368e-01,  ...,  1.0592e+00,\n",
              "             2.2613e-01, -1.9565e-01]],\n",
              "  \n",
              "          [[-7.5169e-01,  2.0250e+00,  6.7265e-01,  ...,  1.1115e+00,\n",
              "            -1.9795e+00,  2.6294e-01],\n",
              "           [-5.3206e-01, -8.2514e-01, -1.6197e+00,  ..., -1.6991e+00,\n",
              "             5.6142e-01,  2.1754e-01],\n",
              "           [-1.0518e-01,  3.9179e-01,  5.3403e-01,  ...,  8.8870e-03,\n",
              "            -4.2704e-01, -8.6166e-01],\n",
              "           [-1.5360e+00, -4.2258e-01, -5.7099e-01,  ...,  1.1056e+00,\n",
              "            -8.7803e-01, -3.2021e-01]],\n",
              "  \n",
              "          [[-6.3920e-01,  2.4076e-01,  5.6823e-01,  ...,  1.3686e-01,\n",
              "            -1.5326e+00,  9.7989e-01],\n",
              "           [ 7.5265e-01, -1.8998e-03, -1.8082e+00,  ..., -9.6030e-01,\n",
              "            -1.1470e+00,  1.2017e+00],\n",
              "           [-7.2808e-01, -3.5098e-01,  9.4422e-01,  ..., -1.2184e-01,\n",
              "            -9.6680e-02, -7.2912e-01],\n",
              "           [-1.8192e+00,  1.4786e-01, -9.1445e-01,  ...,  7.2672e-01,\n",
              "            -8.1225e-01,  2.8277e-01]],\n",
              "  \n",
              "          ...,\n",
              "  \n",
              "          [[ 2.4693e-01,  1.6086e+00,  3.2812e-01,  ...,  1.4359e+00,\n",
              "             1.6135e-01,  4.5458e-01],\n",
              "           [ 2.6856e-01, -8.5665e-01, -1.7985e-01,  ..., -4.7452e-01,\n",
              "            -2.8217e-01,  8.4174e-01],\n",
              "           [-1.8131e-01,  1.6450e+00,  6.9124e-01,  ...,  1.8570e+00,\n",
              "            -1.5500e-01,  5.9158e-01],\n",
              "           [ 3.0892e-01,  2.0692e+00, -6.7677e-03,  ...,  1.6290e+00,\n",
              "             7.3790e-02,  2.8931e-01]],\n",
              "  \n",
              "          [[ 2.5482e-01,  1.5930e+00,  3.4033e-01,  ...,  1.4113e+00,\n",
              "             1.6176e-01,  4.6844e-01],\n",
              "           [ 9.0954e-01, -5.7356e-01, -1.2232e+00,  ...,  1.4965e+00,\n",
              "             4.1507e-01, -2.7537e-01],\n",
              "           [-1.8886e-01,  1.6290e+00,  6.4769e-01,  ...,  1.8545e+00,\n",
              "            -1.5088e-01,  5.4975e-01],\n",
              "           [ 3.7822e-01,  2.1345e+00, -1.2678e-02,  ...,  1.5761e+00,\n",
              "             1.1315e-01,  3.3791e-01]],\n",
              "  \n",
              "          [[ 2.4970e-01,  1.5933e+00,  3.2806e-01,  ...,  1.4061e+00,\n",
              "             1.4823e-01,  4.6254e-01],\n",
              "           [ 1.2872e+00, -2.1735e-01, -1.7629e+00,  ...,  7.5059e-01,\n",
              "            -2.6923e-01,  1.4116e-01],\n",
              "           [-1.6085e-01,  1.6536e+00,  6.4326e-01,  ...,  1.7993e+00,\n",
              "            -8.2606e-02,  6.1618e-01],\n",
              "           [ 3.7095e-01,  2.2339e+00,  1.0174e-02,  ...,  1.5470e+00,\n",
              "             1.2590e-01,  3.1720e-01]]], device='cuda:0'),\n",
              "  tensor([[[ 0.1025,  0.7383, -0.6729,  ...,  0.0787, -0.6331, -0.2204],\n",
              "           [ 0.2537, -0.2994,  0.0055,  ..., -0.0959, -0.1582,  0.5642],\n",
              "           [ 0.4684, -0.5614, -0.4452,  ..., -0.0822, -0.2907, -0.0126],\n",
              "           [ 0.3573,  0.4372, -0.5763,  ...,  1.1733,  0.4369,  0.0363]],\n",
              "  \n",
              "          [[-0.2009,  2.0911,  0.8102,  ...,  0.7396, -1.1366,  0.0891],\n",
              "           [-0.6404, -0.8622, -0.7952,  ..., -2.0825, -0.0507,  0.2775],\n",
              "           [ 0.0382, -0.1597,  1.2017,  ...,  0.0205,  0.1362, -0.7664],\n",
              "           [-0.9010, -0.4031, -0.4226,  ...,  0.9126, -0.2063,  0.1378]],\n",
              "  \n",
              "          [[-0.6630,  0.4400,  0.6948,  ...,  0.1553, -1.4992,  0.1953],\n",
              "           [ 0.5537,  0.2613, -1.3886,  ..., -0.5939, -0.0869,  0.6555],\n",
              "           [-0.4119, -0.5649,  1.5615,  ...,  0.1573,  0.3588, -0.8399],\n",
              "           [-1.2041,  0.0595, -0.6166,  ...,  0.6702, -1.1797,  0.2204]],\n",
              "  \n",
              "          ...,\n",
              "  \n",
              "          [[ 0.1708,  1.3424,  0.1020,  ...,  1.3361,  0.3205, -0.0873],\n",
              "           [ 0.4305, -0.4171,  0.4743,  ..., -0.8836, -0.1190,  0.4839],\n",
              "           [-0.2064,  1.5509,  0.6327,  ...,  1.7242,  0.0497,  0.2440],\n",
              "           [ 0.3040,  2.1101,  0.0897,  ...,  1.3278,  0.0700, -0.1960]],\n",
              "  \n",
              "          [[ 0.1871,  1.3166,  0.1053,  ...,  1.3411,  0.3180, -0.0813],\n",
              "           [ 0.9974, -0.3450, -0.6658,  ...,  0.6639,  0.7648,  0.0972],\n",
              "           [-0.2274,  1.5470,  0.5964,  ...,  1.7133,  0.0451,  0.2119],\n",
              "           [ 0.3594,  2.1520,  0.1001,  ...,  1.2355,  0.1234, -0.1987]],\n",
              "  \n",
              "          [[ 0.1826,  1.2979,  0.0880,  ...,  1.3432,  0.3169, -0.0857],\n",
              "           [ 1.0398,  0.1031, -0.8134,  ...,  0.2972,  0.1931,  0.3159],\n",
              "           [-0.1963,  1.5910,  0.5919,  ...,  1.6537,  0.0870,  0.2586],\n",
              "           [ 0.3611,  2.2229,  0.1357,  ...,  1.1874,  0.1698, -0.2179]]],\n",
              "         device='cuda:0'),\n",
              "  tensor([[[ 1.2780e-03,  6.2277e-01, -1.3426e+00,  ..., -4.2726e-01,\n",
              "            -5.7339e-01, -5.8855e-01],\n",
              "           [ 6.9075e-01, -4.4465e-01, -1.6348e-01,  ..., -3.5626e-01,\n",
              "            -9.0069e-01, -1.8719e-01],\n",
              "           [ 5.2327e-01, -7.5817e-01, -6.6951e-01,  ..., -4.9322e-01,\n",
              "            -9.1532e-01, -2.3081e-01],\n",
              "           [ 1.0312e+00,  4.3608e-01, -3.8853e-01,  ...,  8.5003e-01,\n",
              "             2.4364e-01, -1.6798e-01]],\n",
              "  \n",
              "          [[ 1.0746e+00,  2.1826e+00,  6.2322e-01,  ...,  4.9979e-01,\n",
              "            -1.5163e+00, -6.4931e-01],\n",
              "           [-7.9342e-01, -8.6345e-01, -1.5539e+00,  ..., -2.3997e+00,\n",
              "            -5.1975e-01, -2.8854e-01],\n",
              "           [ 3.8618e-01, -4.6072e-01,  1.0289e+00,  ..., -2.2467e-01,\n",
              "            -3.9988e-01, -1.0467e+00],\n",
              "           [-3.8499e-01,  1.1130e-01, -6.9122e-01,  ...,  1.2143e+00,\n",
              "            -4.3542e-01, -3.1187e-01]],\n",
              "  \n",
              "          [[-3.1372e-02,  3.7880e-01,  3.4266e-01,  ..., -2.4197e-01,\n",
              "            -1.9298e+00, -1.0170e-01],\n",
              "           [ 8.2809e-01,  2.4250e-01, -2.2199e+00,  ..., -8.3111e-01,\n",
              "            -6.8721e-01,  5.2412e-01],\n",
              "           [-1.1365e-01, -6.7083e-01,  1.2834e+00,  ...,  5.4714e-02,\n",
              "            -2.2277e-01, -1.5010e+00],\n",
              "           [-8.8550e-01,  4.2092e-01, -6.0015e-01,  ...,  5.0928e-01,\n",
              "            -1.4019e+00,  2.9387e-01]],\n",
              "  \n",
              "          ...,\n",
              "  \n",
              "          [[ 3.2105e-01,  1.2495e+00,  4.5547e-01,  ...,  8.7628e-01,\n",
              "            -3.8424e-01, -4.5677e-01],\n",
              "           [ 9.9986e-01, -1.8688e-01,  7.9139e-01,  ..., -8.1233e-01,\n",
              "            -7.3032e-01,  6.3240e-02],\n",
              "           [ 7.3332e-02,  1.3536e+00,  1.0340e+00,  ...,  1.3784e+00,\n",
              "            -4.9984e-01, -6.1852e-02],\n",
              "           [ 4.2655e-01,  1.5639e+00,  3.1382e-01,  ...,  3.3012e-01,\n",
              "            -4.5318e-01, -9.5291e-02]],\n",
              "  \n",
              "          [[ 3.3338e-01,  1.2396e+00,  4.5733e-01,  ...,  9.0806e-01,\n",
              "            -3.8727e-01, -4.7912e-01],\n",
              "           [ 1.1554e+00, -2.6970e-01, -3.2620e-01,  ...,  2.8764e-01,\n",
              "             3.5872e-01, -3.9432e-02],\n",
              "           [ 3.6604e-02,  1.3325e+00,  1.0001e+00,  ...,  1.3708e+00,\n",
              "            -4.9431e-01, -8.6557e-02],\n",
              "           [ 4.4465e-01,  1.5858e+00,  2.9538e-01,  ...,  1.9009e-01,\n",
              "            -4.1232e-01, -8.6363e-02]],\n",
              "  \n",
              "          [[ 3.2960e-01,  1.2235e+00,  4.4114e-01,  ...,  9.1761e-01,\n",
              "            -3.9445e-01, -4.6352e-01],\n",
              "           [ 4.2826e-01,  9.7595e-02, -3.2879e-01,  ..., -7.6876e-03,\n",
              "            -2.0574e-01,  1.9052e-01],\n",
              "           [ 7.4529e-02,  1.3702e+00,  1.0164e+00,  ...,  1.3236e+00,\n",
              "            -4.8569e-01, -6.3301e-02],\n",
              "           [ 4.3659e-01,  1.6723e+00,  3.0422e-01,  ...,  1.4617e-01,\n",
              "            -4.0145e-01, -1.1172e-01]]], device='cuda:0'),\n",
              "  tensor([[[-0.1148,  0.4378, -0.6648,  ..., -0.6827, -0.8281, -0.7119],\n",
              "           [ 0.0127, -0.6697,  0.4300,  ..., -0.6376, -0.8214,  0.1689],\n",
              "           [ 0.4294, -0.7792, -0.6007,  ..., -0.2012, -0.2884, -0.1814],\n",
              "           [ 0.3376, -0.3291, -0.3174,  ...,  0.9078,  0.1121, -0.1505]],\n",
              "  \n",
              "          [[ 1.2249,  1.5360, -0.1842,  ...,  0.6319, -1.4090, -0.4643],\n",
              "           [-0.9813, -0.6793, -0.8512,  ..., -1.8777,  0.0867, -0.2908],\n",
              "           [ 0.2484, -0.4374,  0.7803,  ..., -0.3560,  0.1030, -1.4398],\n",
              "           [-0.4392, -0.8984, -0.5053,  ...,  1.2005, -0.0733, -0.4445]],\n",
              "  \n",
              "          [[-0.2707,  0.5279, -0.2982,  ..., -1.0340, -1.9396, -0.6147],\n",
              "           [ 0.2174,  0.0823, -1.3361,  ..., -0.6187, -0.5225, -0.1304],\n",
              "           [ 0.0093, -0.6781,  0.6000,  ..., -0.4587,  0.3585, -1.7919],\n",
              "           [-0.8046,  0.1537, -0.8146,  ..., -0.1786, -0.8299,  0.3081]],\n",
              "  \n",
              "          ...,\n",
              "  \n",
              "          [[ 0.3659,  0.7620,  0.6097,  ...,  0.2297, -0.2784, -0.3972],\n",
              "           [ 0.5836, -0.2401,  0.5543,  ..., -0.8338, -0.4439,  0.0745],\n",
              "           [ 0.1603,  0.8438,  1.0621,  ...,  0.8620, -0.1980, -0.0674],\n",
              "           [ 0.2198,  1.1750,  0.2250,  ..., -0.0074, -0.1737, -0.3450]],\n",
              "  \n",
              "          [[ 0.3919,  0.7436,  0.6107,  ...,  0.2300, -0.2917, -0.4202],\n",
              "           [ 0.3916,  0.1500, -0.0556,  ...,  0.0793,  0.4201, -0.2794],\n",
              "           [ 0.1303,  0.8380,  1.0377,  ...,  0.8784, -0.1824, -0.0779],\n",
              "           [ 0.2452,  1.2258,  0.1691,  ..., -0.1487, -0.1544, -0.3855]],\n",
              "  \n",
              "          [[ 0.3844,  0.7370,  0.5919,  ...,  0.2625, -0.2994, -0.3993],\n",
              "           [ 0.1176,  0.0329, -0.1196,  ..., -0.0071, -0.0048,  0.0396],\n",
              "           [ 0.1500,  0.8435,  1.0283,  ...,  0.8295, -0.1834, -0.0794],\n",
              "           [ 0.2171,  1.3165,  0.1387,  ..., -0.2407, -0.1462, -0.4608]]],\n",
              "         device='cuda:0'),\n",
              "  tensor([[[ 0.2032,  0.3967, -0.6023,  ..., -0.2933, -0.9427, -0.1061],\n",
              "           [-0.5815, -0.9855,  0.2829,  ..., -0.7002, -0.6653,  0.6191],\n",
              "           [ 0.3622, -1.0892, -0.7421,  ..., -0.2997, -0.3306, -0.6616],\n",
              "           [ 0.4310, -0.0580, -0.5665,  ...,  1.3772, -0.5805, -0.1088]],\n",
              "  \n",
              "          [[ 1.3336,  1.4060, -0.0191,  ...,  1.7108, -1.9188,  0.1231],\n",
              "           [-1.5705, -1.0325, -1.1057,  ..., -1.8098,  0.1685,  0.1695],\n",
              "           [ 0.0395, -1.2768,  0.5882,  ..., -0.1258, -0.0705, -1.8763],\n",
              "           [-0.1781, -0.8347, -1.0756,  ...,  1.5359, -0.3435,  0.1779]],\n",
              "  \n",
              "          [[-0.1253,  0.2153, -0.3877,  ..., -0.6209, -1.9793, -0.2765],\n",
              "           [-0.1859, -0.0150, -1.8830,  ..., -0.4489, -0.1854,  0.0609],\n",
              "           [-0.3037, -1.4187,  0.0654,  ..., -0.4363,  0.3839, -2.0838],\n",
              "           [-1.0047,  0.6215, -1.1846,  ..., -0.2515, -0.9604,  0.1997]],\n",
              "  \n",
              "          ...,\n",
              "  \n",
              "          [[ 0.1637,  0.7421,  0.8140,  ...,  0.4270,  0.1292, -0.5583],\n",
              "           [ 1.0089, -0.1609,  0.1703,  ..., -0.5149, -0.7506, -0.0530],\n",
              "           [ 0.0511,  0.7767,  1.3985,  ...,  1.0213,  0.1508, -0.2283],\n",
              "           [-0.1105,  1.2366,  0.5406,  ...,  0.0615,  0.0584, -0.1886]],\n",
              "  \n",
              "          [[ 0.1771,  0.7264,  0.8007,  ...,  0.4037,  0.1176, -0.5929],\n",
              "           [ 0.5269,  0.2650, -0.3522,  ...,  0.4543,  0.3420, -0.4703],\n",
              "           [ 0.0142,  0.7652,  1.4036,  ...,  1.0286,  0.1739, -0.2265],\n",
              "           [-0.0996,  1.2959,  0.4919,  ..., -0.0820,  0.0608, -0.2094]],\n",
              "  \n",
              "          [[ 0.1843,  0.7224,  0.8056,  ...,  0.4406,  0.1098, -0.5818],\n",
              "           [ 0.0362, -0.0099, -0.0770,  ...,  0.0397,  0.0639,  0.0409],\n",
              "           [ 0.0206,  0.7690,  1.3906,  ...,  0.9632,  0.1731, -0.2474],\n",
              "           [-0.1561,  1.3916,  0.4671,  ..., -0.1803,  0.0438, -0.2817]]],\n",
              "         device='cuda:0'),\n",
              "  tensor([[[ 4.6200e-01,  5.6340e-02,  7.2102e-02,  ..., -2.8009e-01,\n",
              "            -9.6271e-01,  5.5895e-01],\n",
              "           [-6.0939e-01, -7.9647e-01,  6.2083e-01,  ..., -6.5316e-01,\n",
              "            -4.3072e-01,  8.3766e-01],\n",
              "           [ 1.5308e-01, -8.6515e-01,  6.8039e-02,  ..., -2.2379e-01,\n",
              "            -3.1205e-01, -2.3005e-01],\n",
              "           [-3.6981e-01, -3.6580e-01, -1.9847e-01,  ...,  9.5398e-01,\n",
              "            -4.1043e-01, -1.0048e-01]],\n",
              "  \n",
              "          [[ 1.7684e-01,  5.3018e-01, -1.7571e-01,  ...,  1.0239e+00,\n",
              "            -1.1260e+00,  4.0899e-01],\n",
              "           [-1.1374e+00, -8.3595e-01, -5.2185e-01,  ..., -1.2685e+00,\n",
              "            -1.6054e-02,  7.4444e-01],\n",
              "           [ 1.5393e-01, -1.2021e+00,  6.9964e-01,  ..., -2.3884e-01,\n",
              "             8.5353e-02, -7.6497e-01],\n",
              "           [-2.3420e-01, -7.9056e-01, -4.7023e-01,  ...,  1.1156e+00,\n",
              "             1.1790e-01,  3.5547e-02]],\n",
              "  \n",
              "          [[-2.3535e-01, -1.6973e-01, -2.0345e-01,  ..., -8.1896e-01,\n",
              "            -1.2963e+00,  1.4738e-02],\n",
              "           [-2.7280e-01, -3.2243e-01, -9.8713e-01,  ..., -2.9488e-01,\n",
              "            -2.2735e-01,  7.6094e-01],\n",
              "           [-3.4218e-01, -1.4084e+00,  2.7602e-01,  ..., -2.0935e-01,\n",
              "             4.2817e-01, -1.1579e+00],\n",
              "           [-8.6753e-01,  5.9756e-01, -6.4368e-01,  ..., -2.8926e-01,\n",
              "            -5.3268e-01,  5.7734e-01]],\n",
              "  \n",
              "          ...,\n",
              "  \n",
              "          [[ 2.3637e-01,  4.7479e-01,  4.3504e-01,  ...,  1.3867e-01,\n",
              "             3.9410e-02, -5.4611e-01],\n",
              "           [ 4.9934e-01, -8.5627e-02, -1.1316e-01,  ..., -1.6623e-01,\n",
              "            -4.4786e-01,  4.6645e-01],\n",
              "           [ 2.7525e-01,  5.5407e-01,  8.6174e-01,  ...,  4.4661e-01,\n",
              "             7.6546e-02, -3.7222e-01],\n",
              "           [ 5.6236e-02,  8.1463e-01,  3.0763e-01,  ..., -2.8320e-01,\n",
              "            -5.2570e-02, -6.1633e-02]],\n",
              "  \n",
              "          [[ 2.4494e-01,  4.6061e-01,  4.3154e-01,  ...,  1.2768e-01,\n",
              "             2.8770e-02, -5.7359e-01],\n",
              "           [-2.2558e-01,  1.0901e-01, -3.8628e-01,  ...,  2.2778e-01,\n",
              "            -1.4043e-01,  1.3109e-01],\n",
              "           [ 2.4602e-01,  5.4944e-01,  8.5936e-01,  ...,  4.4840e-01,\n",
              "             7.1590e-02, -3.7304e-01],\n",
              "           [ 5.8196e-02,  8.7821e-01,  2.8392e-01,  ..., -3.4019e-01,\n",
              "            -5.3985e-02, -7.0774e-02]],\n",
              "  \n",
              "          [[ 2.4171e-01,  4.6259e-01,  4.2993e-01,  ...,  1.5328e-01,\n",
              "             1.7383e-02, -5.6136e-01],\n",
              "           [-9.7313e-02,  5.6924e-02, -1.7430e-01,  ...,  9.2855e-04,\n",
              "             5.2436e-03,  3.5459e-01],\n",
              "           [ 2.4932e-01,  5.4968e-01,  8.4967e-01,  ...,  4.0583e-01,\n",
              "             7.1112e-02, -3.7310e-01],\n",
              "           [ 2.3373e-02,  9.5559e-01,  2.5997e-01,  ..., -3.8379e-01,\n",
              "            -5.8024e-02, -1.0304e-01]]], device='cuda:0')))"
            ]
          },
          "metadata": {
            "tags": []
          },
          "execution_count": 41
        }
      ]
    },
    {
      "cell_type": "code",
      "metadata": {
        "id": "zbyJNtqVkg4Y",
        "colab": {
          "base_uri": "https://localhost:8080/"
        },
        "outputId": "cc347cd2-48e1-45ce-a7c1-2be94629df6f"
      },
      "source": [
        "type(outputs[0])"
      ],
      "execution_count": null,
      "outputs": [
        {
          "output_type": "execute_result",
          "data": {
            "text/plain": [
              "torch.Tensor"
            ]
          },
          "metadata": {
            "tags": []
          },
          "execution_count": 42
        }
      ]
    },
    {
      "cell_type": "markdown",
      "metadata": {
        "id": "eg44cHnNLd3J"
      },
      "source": [
        "### Defining the training step function"
      ]
    },
    {
      "cell_type": "code",
      "metadata": {
        "id": "tPnWttRNMArt"
      },
      "source": [
        "from sklearn import metrics\n",
        "def train_epoch(model, data_loader, optimizer, device, scheduler, n_examples):\n",
        "    model = model.train()\n",
        "    losses = []\n",
        "    acc = 0\n",
        "    counter = 0\n",
        "  \n",
        "    for d in data_loader:\n",
        "        input_ids = d[\"input_ids\"].reshape(4,512).to(device)\n",
        "        attention_mask = d[\"attention_mask\"].to(device)\n",
        "        targets = d[\"targets\"].to(device)\n",
        "        \n",
        "        outputs = model(input_ids=input_ids, token_type_ids=None, attention_mask=attention_mask, labels = targets)\n",
        "        loss = outputs[0]\n",
        "        logits = outputs[1]\n",
        "\n",
        "        # preds = preds.cpu().detach().numpy()\n",
        "        _, prediction = torch.max(outputs[1], dim=1)\n",
        "        targets = targets.cpu().detach().numpy()\n",
        "        prediction = prediction.cpu().detach().numpy()\n",
        "        accuracy = metrics.accuracy_score(targets, prediction)\n",
        "\n",
        "        acc += accuracy\n",
        "        losses.append(loss.item())\n",
        "        \n",
        "        loss.backward()\n",
        "\n",
        "        nn.utils.clip_grad_norm_(model.parameters(), max_norm=1.0)\n",
        "        optimizer.step()\n",
        "        scheduler.step()\n",
        "        optimizer.zero_grad()\n",
        "        counter = counter + 1\n",
        "\n",
        "    return acc / counter, np.mean(losses)"
      ],
      "execution_count": null,
      "outputs": []
    },
    {
      "cell_type": "markdown",
      "metadata": {
        "id": "4N2ktqT8LoDS"
      },
      "source": [
        "### Defining the evaluation function"
      ]
    },
    {
      "cell_type": "code",
      "metadata": {
        "id": "V_ZyoJ4qb-CB"
      },
      "source": [
        "def eval_model(model, data_loader, device, n_examples):\n",
        "    model = model.eval()\n",
        "    losses = []\n",
        "    acc = 0\n",
        "    counter = 0\n",
        "  \n",
        "    with torch.no_grad():\n",
        "        for d in data_loader:\n",
        "            input_ids = d[\"input_ids\"].reshape(4,512).to(device)\n",
        "            attention_mask = d[\"attention_mask\"].to(device)\n",
        "            targets = d[\"targets\"].to(device)\n",
        "            \n",
        "            outputs = model(input_ids=input_ids, token_type_ids=None, attention_mask=attention_mask, labels = targets)\n",
        "            loss = outputs[0]\n",
        "            logits = outputs[1]\n",
        "\n",
        "            _, prediction = torch.max(outputs[1], dim=1)\n",
        "            targets = targets.cpu().detach().numpy()\n",
        "            prediction = prediction.cpu().detach().numpy()\n",
        "            accuracy = metrics.accuracy_score(targets, prediction)\n",
        "\n",
        "            acc += accuracy\n",
        "            losses.append(loss.item())\n",
        "            counter += 1\n",
        "\n",
        "    return acc / counter, np.mean(losses)"
      ],
      "execution_count": null,
      "outputs": []
    },
    {
      "cell_type": "markdown",
      "metadata": {
        "id": "9AG1TE43LvkX"
      },
      "source": [
        "### Fine-tuning the pre-trained model"
      ]
    },
    {
      "cell_type": "code",
      "metadata": {
        "id": "eNSQSFkScp6f",
        "colab": {
          "base_uri": "https://localhost:8080/"
        },
        "outputId": "279a392b-70fe-458b-c735-5740b203867d"
      },
      "source": [
        "%%time\n",
        "history = defaultdict(list)\n",
        "best_accuracy = 0\n",
        "\n",
        "for epoch in range(EPOCHS):\n",
        "    print(f'Epoch {epoch + 1}/{EPOCHS}')\n",
        "    print('-' * 10)\n",
        "\n",
        "    train_acc, train_loss = train_epoch(\n",
        "        model,\n",
        "        train_data_loader,     \n",
        "        optimizer, \n",
        "        device, \n",
        "        scheduler, \n",
        "        len(df_train)\n",
        "    )\n",
        "\n",
        "    print(f'Train loss {train_loss} Train accuracy {train_acc}')\n",
        "\n",
        "    val_acc, val_loss = eval_model(\n",
        "        model,\n",
        "        val_data_loader, \n",
        "        device, \n",
        "        len(df_val)\n",
        "    )\n",
        "\n",
        "    print(f'Val loss {val_loss} Val accuracy {val_acc}')\n",
        "    print()\n",
        "\n",
        "    history['train_acc'].append(train_acc)\n",
        "    history['train_loss'].append(train_loss)\n",
        "    history['val_acc'].append(val_acc)\n",
        "    history['val_loss'].append(val_loss)\n",
        "\n",
        "    if val_acc > best_accuracy:\n",
        "        torch.save(model.state_dict(), 'C:\\\\Users\\\\BUJJI\\\\Desktop\\\\NLP\\\\models\\\\xlnet_model.bin')\n",
        "        best_accuracy = val_acc"
      ],
      "execution_count": null,
      "outputs": [
        {
          "output_type": "stream",
          "text": [
            "Epoch 1/3\n",
            "----------\n",
            "Train loss 0.06603070122282952 Train accuracy 0.988\n",
            "Val loss 0.5268807986978209 Val accuracy 0.918\n",
            "\n",
            "Epoch 2/3\n",
            "----------\n",
            "Train loss 0.058740546479297336 Train accuracy 0.99\n",
            "Val loss 0.5268807986978209 Val accuracy 0.918\n",
            "\n",
            "Epoch 3/3\n",
            "----------\n",
            "Train loss 0.07580757206119597 Train accuracy 0.985\n",
            "Val loss 0.5268807986978209 Val accuracy 0.918\n",
            "\n",
            "CPU times: user 7min 25s, sys: 5min 24s, total: 12min 49s\n",
            "Wall time: 12min 53s\n"
          ],
          "name": "stdout"
        }
      ]
    },
    {
      "cell_type": "markdown",
      "metadata": {
        "id": "qe08GjtNL-Sh"
      },
      "source": [
        "### Evaluation of the fine-tuned model"
      ]
    },
    {
      "cell_type": "code",
      "metadata": {
        "id": "XqtQkz2yrZE3",
        "colab": {
          "base_uri": "https://localhost:8080/"
        },
        "outputId": "1acaac3b-e339-4f72-87e7-4ae978c818e3"
      },
      "source": [
        "model.load_state_dict(torch.load('C:\\\\Users\\\\BUJJI\\\\Desktop\\\\NLP\\\\models\\\\xlnet_model.bin'))"
      ],
      "execution_count": null,
      "outputs": [
        {
          "output_type": "execute_result",
          "data": {
            "text/plain": [
              "<All keys matched successfully>"
            ]
          },
          "metadata": {
            "tags": []
          },
          "execution_count": 59
        }
      ]
    },
    {
      "cell_type": "code",
      "metadata": {
        "id": "26k0PMpdy1QT"
      },
      "source": [
        "model = model.to(device)"
      ],
      "execution_count": null,
      "outputs": []
    },
    {
      "cell_type": "code",
      "metadata": {
        "id": "QHINzx6ezSD0",
        "colab": {
          "base_uri": "https://localhost:8080/"
        },
        "outputId": "565e43a1-0be8-4b6d-c364-dcba16667a6a"
      },
      "source": [
        "test_acc, test_loss = eval_model(\n",
        "  model,\n",
        "  test_data_loader,\n",
        "  device,\n",
        "  len(df_test)\n",
        ")\n",
        "\n",
        "print('Test Accuracy :', test_acc)\n",
        "print('Test Loss :', test_loss)"
      ],
      "execution_count": null,
      "outputs": [
        {
          "output_type": "stream",
          "text": [
            "Test Accuracy : 0.916\n",
            "Test Loss : 0.46630229968042114\n"
          ],
          "name": "stdout"
        }
      ]
    },
    {
      "cell_type": "code",
      "metadata": {
        "id": "NBWsLq4yzubR"
      },
      "source": [
        "def get_predictions(model, data_loader):\n",
        "    model = model.eval()\n",
        "    \n",
        "    review_texts = []\n",
        "    predictions = []\n",
        "    prediction_probs = []\n",
        "    real_values = []\n",
        "\n",
        "    with torch.no_grad():\n",
        "        for d in data_loader:\n",
        "\n",
        "            texts = d[\"review_text\"]\n",
        "            input_ids = d[\"input_ids\"].reshape(4,512).to(device)\n",
        "            attention_mask = d[\"attention_mask\"].to(device)\n",
        "            targets = d[\"targets\"].to(device)\n",
        "            \n",
        "            outputs = model(input_ids=input_ids, token_type_ids=None, attention_mask=attention_mask, labels = targets)\n",
        "\n",
        "            loss = outputs[0]\n",
        "            logits = outputs[1]\n",
        "            \n",
        "            _, preds = torch.max(outputs[1], dim=1)\n",
        "\n",
        "            probs = F.softmax(outputs[1], dim=1)\n",
        "\n",
        "            review_texts.extend(texts)\n",
        "            predictions.extend(preds)\n",
        "            prediction_probs.extend(probs)\n",
        "            real_values.extend(targets)\n",
        "\n",
        "    predictions = torch.stack(predictions).cpu()\n",
        "    prediction_probs = torch.stack(prediction_probs).cpu()\n",
        "    real_values = torch.stack(real_values).cpu()\n",
        "    return review_texts, predictions, prediction_probs, real_values"
      ],
      "execution_count": null,
      "outputs": []
    },
    {
      "cell_type": "code",
      "metadata": {
        "id": "hwCQaTFH5KWy"
      },
      "source": [
        "y_review_texts, y_pred, y_pred_probs, y_test = get_predictions(\n",
        "  model,\n",
        "  test_data_loader\n",
        ")"
      ],
      "execution_count": null,
      "outputs": []
    },
    {
      "cell_type": "code",
      "metadata": {
        "id": "wviSSrIP5Pvl",
        "colab": {
          "base_uri": "https://localhost:8080/"
        },
        "outputId": "80e3f4dd-7415-45df-d93d-49fef1f125b2"
      },
      "source": [
        "print(classification_report(y_test, y_pred, target_names=class_names))"
      ],
      "execution_count": null,
      "outputs": [
        {
          "output_type": "stream",
          "text": [
            "              precision    recall  f1-score   support\n",
            "\n",
            "    negative       0.90      0.93      0.92       251\n",
            "    positive       0.93      0.90      0.91       249\n",
            "\n",
            "    accuracy                           0.92       500\n",
            "   macro avg       0.92      0.92      0.92       500\n",
            "weighted avg       0.92      0.92      0.92       500\n",
            "\n"
          ],
          "name": "stdout"
        }
      ]
    },
    {
      "cell_type": "markdown",
      "metadata": {
        "id": "FdrnJkm-MGvv"
      },
      "source": [
        "### Custom prediction function on raw text"
      ]
    },
    {
      "cell_type": "code",
      "metadata": {
        "id": "lIxCoTjo6tWM"
      },
      "source": [
        "def predict_sentiment(text):\n",
        "    review_text = text\n",
        "\n",
        "    encoded_review = tokenizer.encode_plus(\n",
        "    review_text,\n",
        "    max_length=MAX_LEN,\n",
        "    add_special_tokens=True,\n",
        "    return_token_type_ids=False,\n",
        "    pad_to_max_length=False,\n",
        "    return_attention_mask=True,\n",
        "    return_tensors='pt',\n",
        "    )\n",
        "\n",
        "    input_ids = pad_sequences(encoded_review['input_ids'], maxlen=MAX_LEN, dtype=torch.Tensor ,truncating=\"post\",padding=\"post\")\n",
        "    input_ids = input_ids.astype(dtype = 'int64')\n",
        "    input_ids = torch.tensor(input_ids) \n",
        "\n",
        "    attention_mask = pad_sequences(encoded_review['attention_mask'], maxlen=MAX_LEN, dtype=torch.Tensor ,truncating=\"post\",padding=\"post\")\n",
        "    attention_mask = attention_mask.astype(dtype = 'int64')\n",
        "    attention_mask = torch.tensor(attention_mask) \n",
        "\n",
        "    input_ids = input_ids.reshape(1,512).to(device)\n",
        "    attention_mask = attention_mask.to(device)\n",
        "\n",
        "    outputs = model(input_ids=input_ids, attention_mask=attention_mask)\n",
        "\n",
        "    outputs = outputs[0][0].cpu().detach()\n",
        "\n",
        "    probs = F.softmax(outputs, dim=-1).cpu().detach().numpy().tolist()\n",
        "    _, prediction = torch.max(outputs, dim =-1)\n",
        "\n",
        "    print(\"Positive score:\", probs[1])\n",
        "    print(\"Negative score:\", probs[0])\n",
        "    print(f'Review text: {review_text}')\n",
        "    print(f'Sentiment  : {class_names[prediction]}')"
      ],
      "execution_count": null,
      "outputs": []
    },
    {
      "cell_type": "code",
      "metadata": {
        "id": "8UlPGZgNFV1j",
        "colab": {
          "base_uri": "https://localhost:8080/"
        },
        "outputId": "2d485d9c-f0ea-4c56-ca53-ae7ce2ba5d6e"
      },
      "source": [
        "text = \"Movie is the worst one I have ever seen!! The story has no meaning at all\"\n",
        "predict_sentiment(text)"
      ],
      "execution_count": null,
      "outputs": [
        {
          "output_type": "stream",
          "text": [
            "Positive score: 0.00010515325993765146\n",
            "Negative score: 0.9998948574066162\n",
            "Review text: Movie is the worst one I have ever seen!! The story has no meaning at all\n",
            "Sentiment  : negative\n"
          ],
          "name": "stdout"
        }
      ]
    },
    {
      "cell_type": "code",
      "metadata": {
        "id": "2oO0OhNoF4wo",
        "colab": {
          "base_uri": "https://localhost:8080/"
        },
        "outputId": "8b381500-44d0-4a50-a747-1c957a9f3c3c"
      },
      "source": [
        "text = \"This is the best movie I have ever seen!! The story is such a motivation\"\n",
        "predict_sentiment(text)"
      ],
      "execution_count": null,
      "outputs": [
        {
          "output_type": "stream",
          "text": [
            "Positive score: 0.9997759461402893\n",
            "Negative score: 0.00022402001195587218\n",
            "Review text: This is the best movie I have ever seen!! The story is such a motivation\n",
            "Sentiment  : positive\n"
          ],
          "name": "stdout"
        }
      ]
    }
  ]
}